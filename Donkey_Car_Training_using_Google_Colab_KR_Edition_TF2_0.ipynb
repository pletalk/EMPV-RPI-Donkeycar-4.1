{
  "nbformat": 4,
  "nbformat_minor": 0,
  "metadata": {
    "colab": {
      "name": "Donkey Car Training using Google Colab-KR Edition-TF2.0",
      "provenance": [],
      "collapsed_sections": [],
      "toc_visible": true,
      "include_colab_link": true
    },
    "kernelspec": {
      "name": "python3",
      "display_name": "Python 3"
    },
    "accelerator": "GPU"
  },
  "cells": [
    {
      "cell_type": "markdown",
      "metadata": {
        "id": "view-in-github",
        "colab_type": "text"
      },
      "source": [
        "<a href=\"https://colab.research.google.com/github/pletalk/EMPV-RPI-Donkeycar-4.1/blob/main/Donkey_Car_Training_using_Google_Colab_KR_Edition_TF2_0.ipynb\" target=\"_parent\"><img src=\"https://colab.research.google.com/assets/colab-badge.svg\" alt=\"Open In Colab\"/></a>"
      ]
    },
    {
      "cell_type": "markdown",
      "metadata": {
        "id": "BlmQIFSLZDdc"
      },
      "source": [
        "# 동키카 4.1 지원 Google Colaboratory를 활용한 동키카 학습을 위한 단계별 가이드\n",
        "\n",
        "@2021-01-17/Ignitespark\n",
        "\n",
        "Google에서 지원하는 Colaboratory 환경에서 Donkey의 주행 영상데이타를 활용해서 신경회로망의 학습을 단계적으로 수행하도록 안내하는 노트북입니다. 4.1에서는 Tensorflow 2.0이상을 지원합니다.\n",
        "\n",
        "원할한 수행을 위해서 메뉴의 런타임 > 런타임 유형변경에서 GPU/TPU를 선택해 주세요.\n",
        "\n",
        "<참고>\n",
        "* donkeycar visualization - https://colab.research.google.com/github/uwesterr/MlFastAiBlog/blob/master/_notebooks/2020-03-01-TrainDonkeyCar.ipynb"
      ]
    },
    {
      "cell_type": "markdown",
      "metadata": {
        "id": "PcxPuVeq6rQI"
      },
      "source": [
        "# 0 > Google Colaboratory를 사용하기 전에 알아두어야할 사항들"
      ]
    },
    {
      "cell_type": "markdown",
      "metadata": {
        "id": "Z17oTx4n6xn_"
      },
      "source": [
        "Google Colaboratory는 구글이 지원하는 머신러닝 및 데이타처리를 위한 무료 서비스 플랫폼입니다. Google Colaboratory에서는 고성능의 GPU를 제공하여 머신러닝의 학습속도를 빠르게 수행할 수 있는 우수한 기능을 제공하고 있습니다. 이런 기능들을 활용하는데 있어서 반드시 알아두어야할 사항들은 아래와 같습니다.\n",
        "\n",
        "\n",
        "* Google Colaboratory는 12시간 동안만 사용 가능합니다. 사용자가 프로그램 수행을 위한 노트를 개설하고 수행하는데 있어서 최대 12시간 이내에서만 사용할 수 있습니다. Google Colaboratory는 12시간이 지나면 개인에게 할당했던 모든 컴퓨팅 자원(CPU,메모리,GPU등)을 리셋(재설정)합니다.\n",
        "\n",
        "* 12시간 이내라도 80분간 사용하지 않으면, 개인에게 할당했던 모든 컴퓨팅 자원(CPU,메모리,GPU등)을 리셋(재설정)합니다.\n",
        "\n",
        "* 할당된 자원이 리셋(재설정)되었다고 다시 사용하지 못하는 것은 아닙니다. 개인의 구글 드라이브에 저장된 Google Laboratory에서 작성한 주피터 노트북을 다시 로드하고 프로젝트를 새로이 시작하면 됩니다. 또 다른 12시간의 개발과 테스팅 시간이 시작됩니다.\n",
        "\n",
        "* Google Laboratory에서 수행한 내용들은 주피터 노트북에 과정과 내용을 기록하여 재 사용가능하도록 합니다. 생성하거나 사용한 노트북은 개인의 구글 드라이브에 파일로 저장이 가능합니다."
      ]
    },
    {
      "cell_type": "markdown",
      "metadata": {
        "id": "5l4MpFXFip98"
      },
      "source": [
        "# 1 > Google Colaboratory의 컴퓨팅 환경\n",
        "\n",
        "구글의 Colaboratory에서 지원되는 기본적인 컴퓨팅 환경의 다양한 정보들을 통해 성능을 확인해봅니다."
      ]
    },
    {
      "cell_type": "markdown",
      "metadata": {
        "id": "EJjLud26jNI7"
      },
      "source": [
        "## 1.1 OS 확인하기"
      ]
    },
    {
      "cell_type": "code",
      "metadata": {
        "id": "og0R-h2zipTQ",
        "colab": {
          "base_uri": "https://localhost:8080/"
        },
        "outputId": "3543e531-cfc2-4126-ec86-27eb41a0cbd1"
      },
      "source": [
        "! cat /etc/issue.net"
      ],
      "execution_count": 1,
      "outputs": [
        {
          "output_type": "stream",
          "text": [
            "Ubuntu 18.04.5 LTS\n"
          ],
          "name": "stdout"
        }
      ]
    },
    {
      "cell_type": "markdown",
      "metadata": {
        "id": "Z4QMph5LjUeE"
      },
      "source": [
        "## 1.2 Google Colaboratory GPU 정보보기"
      ]
    },
    {
      "cell_type": "code",
      "metadata": {
        "id": "c8tmMHYcjZ4c",
        "colab": {
          "base_uri": "https://localhost:8080/"
        },
        "outputId": "fb83f0a5-986a-4743-c754-ee7a946ef76b"
      },
      "source": [
        "! nvidia-smi"
      ],
      "execution_count": 2,
      "outputs": [
        {
          "output_type": "stream",
          "text": [
            "Sat Feb 27 11:42:24 2021       \n",
            "+-----------------------------------------------------------------------------+\n",
            "| NVIDIA-SMI 460.39       Driver Version: 460.32.03    CUDA Version: 11.2     |\n",
            "|-------------------------------+----------------------+----------------------+\n",
            "| GPU  Name        Persistence-M| Bus-Id        Disp.A | Volatile Uncorr. ECC |\n",
            "| Fan  Temp  Perf  Pwr:Usage/Cap|         Memory-Usage | GPU-Util  Compute M. |\n",
            "|                               |                      |               MIG M. |\n",
            "|===============================+======================+======================|\n",
            "|   0  Tesla T4            Off  | 00000000:00:04.0 Off |                    0 |\n",
            "| N/A   45C    P8    10W /  70W |      0MiB / 15109MiB |      0%      Default |\n",
            "|                               |                      |                  N/A |\n",
            "+-------------------------------+----------------------+----------------------+\n",
            "                                                                               \n",
            "+-----------------------------------------------------------------------------+\n",
            "| Processes:                                                                  |\n",
            "|  GPU   GI   CI        PID   Type   Process name                  GPU Memory |\n",
            "|        ID   ID                                                   Usage      |\n",
            "|=============================================================================|\n",
            "|  No running processes found                                                 |\n",
            "+-----------------------------------------------------------------------------+\n"
          ],
          "name": "stdout"
        }
      ]
    },
    {
      "cell_type": "markdown",
      "metadata": {
        "id": "TU6Q-ZqFjp1M"
      },
      "source": [
        "## 1.3 메모리 용량 파악하기"
      ]
    },
    {
      "cell_type": "code",
      "metadata": {
        "id": "GC0zt4zNjqK3",
        "colab": {
          "base_uri": "https://localhost:8080/"
        },
        "outputId": "5166b2ed-9769-46ba-a07e-11e4cfc6c1b2"
      },
      "source": [
        "! cat /proc/meminfo"
      ],
      "execution_count": 3,
      "outputs": [
        {
          "output_type": "stream",
          "text": [
            "MemTotal:       13333580 kB\n",
            "MemFree:        10704480 kB\n",
            "MemAvailable:   12486220 kB\n",
            "Buffers:           79792 kB\n",
            "Cached:          1853008 kB\n",
            "SwapCached:            0 kB\n",
            "Active:           946272 kB\n",
            "Inactive:        1374444 kB\n",
            "Active(anon):     362708 kB\n",
            "Inactive(anon):      364 kB\n",
            "Active(file):     583564 kB\n",
            "Inactive(file):  1374080 kB\n",
            "Unevictable:           0 kB\n",
            "Mlocked:               0 kB\n",
            "SwapTotal:             0 kB\n",
            "SwapFree:              0 kB\n",
            "Dirty:               408 kB\n",
            "Writeback:             0 kB\n",
            "AnonPages:        387924 kB\n",
            "Mapped:           215104 kB\n",
            "Shmem:              1012 kB\n",
            "Slab:             174452 kB\n",
            "SReclaimable:     129944 kB\n",
            "SUnreclaim:        44508 kB\n",
            "KernelStack:        4032 kB\n",
            "PageTables:         5484 kB\n",
            "NFS_Unstable:          0 kB\n",
            "Bounce:                0 kB\n",
            "WritebackTmp:          0 kB\n",
            "CommitLimit:     6666788 kB\n",
            "Committed_AS:    2857972 kB\n",
            "VmallocTotal:   34359738367 kB\n",
            "VmallocUsed:           0 kB\n",
            "VmallocChunk:          0 kB\n",
            "Percpu:             1040 kB\n",
            "AnonHugePages:         0 kB\n",
            "ShmemHugePages:        0 kB\n",
            "ShmemPmdMapped:        0 kB\n",
            "HugePages_Total:       0\n",
            "HugePages_Free:        0\n",
            "HugePages_Rsvd:        0\n",
            "HugePages_Surp:        0\n",
            "Hugepagesize:       2048 kB\n",
            "Hugetlb:               0 kB\n",
            "DirectMap4k:      138472 kB\n",
            "DirectMap2M:     3006464 kB\n",
            "DirectMap1G:    12582912 kB\n"
          ],
          "name": "stdout"
        }
      ]
    },
    {
      "cell_type": "markdown",
      "metadata": {
        "id": "YhlZkOuQj1kW"
      },
      "source": [
        "## 1.4 CPU 정보 파악하기"
      ]
    },
    {
      "cell_type": "code",
      "metadata": {
        "id": "1e4y0p2fj1sq",
        "colab": {
          "base_uri": "https://localhost:8080/"
        },
        "outputId": "e853ae2b-3339-4f0f-ed50-913c97f69e29"
      },
      "source": [
        "! cat /proc/cpuinfo"
      ],
      "execution_count": 4,
      "outputs": [
        {
          "output_type": "stream",
          "text": [
            "processor\t: 0\n",
            "vendor_id\t: GenuineIntel\n",
            "cpu family\t: 6\n",
            "model\t\t: 79\n",
            "model name\t: Intel(R) Xeon(R) CPU @ 2.20GHz\n",
            "stepping\t: 0\n",
            "microcode\t: 0x1\n",
            "cpu MHz\t\t: 2199.998\n",
            "cache size\t: 56320 KB\n",
            "physical id\t: 0\n",
            "siblings\t: 2\n",
            "core id\t\t: 0\n",
            "cpu cores\t: 1\n",
            "apicid\t\t: 0\n",
            "initial apicid\t: 0\n",
            "fpu\t\t: yes\n",
            "fpu_exception\t: yes\n",
            "cpuid level\t: 13\n",
            "wp\t\t: yes\n",
            "flags\t\t: fpu vme de pse tsc msr pae mce cx8 apic sep mtrr pge mca cmov pat pse36 clflush mmx fxsr sse sse2 ss ht syscall nx pdpe1gb rdtscp lm constant_tsc rep_good nopl xtopology nonstop_tsc cpuid tsc_known_freq pni pclmulqdq ssse3 fma cx16 pcid sse4_1 sse4_2 x2apic movbe popcnt aes xsave avx f16c rdrand hypervisor lahf_lm abm 3dnowprefetch invpcid_single ssbd ibrs ibpb stibp fsgsbase tsc_adjust bmi1 hle avx2 smep bmi2 erms invpcid rtm rdseed adx smap xsaveopt arat md_clear arch_capabilities\n",
            "bugs\t\t: cpu_meltdown spectre_v1 spectre_v2 spec_store_bypass l1tf mds swapgs taa\n",
            "bogomips\t: 4399.99\n",
            "clflush size\t: 64\n",
            "cache_alignment\t: 64\n",
            "address sizes\t: 46 bits physical, 48 bits virtual\n",
            "power management:\n",
            "\n",
            "processor\t: 1\n",
            "vendor_id\t: GenuineIntel\n",
            "cpu family\t: 6\n",
            "model\t\t: 79\n",
            "model name\t: Intel(R) Xeon(R) CPU @ 2.20GHz\n",
            "stepping\t: 0\n",
            "microcode\t: 0x1\n",
            "cpu MHz\t\t: 2199.998\n",
            "cache size\t: 56320 KB\n",
            "physical id\t: 0\n",
            "siblings\t: 2\n",
            "core id\t\t: 0\n",
            "cpu cores\t: 1\n",
            "apicid\t\t: 1\n",
            "initial apicid\t: 1\n",
            "fpu\t\t: yes\n",
            "fpu_exception\t: yes\n",
            "cpuid level\t: 13\n",
            "wp\t\t: yes\n",
            "flags\t\t: fpu vme de pse tsc msr pae mce cx8 apic sep mtrr pge mca cmov pat pse36 clflush mmx fxsr sse sse2 ss ht syscall nx pdpe1gb rdtscp lm constant_tsc rep_good nopl xtopology nonstop_tsc cpuid tsc_known_freq pni pclmulqdq ssse3 fma cx16 pcid sse4_1 sse4_2 x2apic movbe popcnt aes xsave avx f16c rdrand hypervisor lahf_lm abm 3dnowprefetch invpcid_single ssbd ibrs ibpb stibp fsgsbase tsc_adjust bmi1 hle avx2 smep bmi2 erms invpcid rtm rdseed adx smap xsaveopt arat md_clear arch_capabilities\n",
            "bugs\t\t: cpu_meltdown spectre_v1 spectre_v2 spec_store_bypass l1tf mds swapgs taa\n",
            "bogomips\t: 4399.99\n",
            "clflush size\t: 64\n",
            "cache_alignment\t: 64\n",
            "address sizes\t: 46 bits physical, 48 bits virtual\n",
            "power management:\n",
            "\n"
          ],
          "name": "stdout"
        }
      ]
    },
    {
      "cell_type": "markdown",
      "metadata": {
        "id": "liQZb4cDmZgy"
      },
      "source": [
        "# 2 > 텐서플로우 2.2으로 변경하기\n",
        "텐서플로우(tensorflow)와 Keras의 설치 버전을 확인합니다."
      ]
    },
    {
      "cell_type": "code",
      "metadata": {
        "colab": {
          "base_uri": "https://localhost:8080/"
        },
        "id": "Dmyx7POJIIKa",
        "outputId": "fa74e315-51d8-44ad-8b0a-fe0653ce3748"
      },
      "source": [
        "! pip show tensorflow"
      ],
      "execution_count": 5,
      "outputs": [
        {
          "output_type": "stream",
          "text": [
            "Name: tensorflow\n",
            "Version: 2.4.1\n",
            "Summary: TensorFlow is an open source machine learning framework for everyone.\n",
            "Home-page: https://www.tensorflow.org/\n",
            "Author: Google Inc.\n",
            "Author-email: packages@tensorflow.org\n",
            "License: Apache 2.0\n",
            "Location: /usr/local/lib/python3.7/dist-packages\n",
            "Requires: flatbuffers, google-pasta, gast, tensorflow-estimator, tensorboard, six, absl-py, protobuf, grpcio, wheel, astunparse, wrapt, typing-extensions, numpy, opt-einsum, h5py, termcolor, keras-preprocessing\n",
            "Required-by: fancyimpute\n"
          ],
          "name": "stdout"
        }
      ]
    },
    {
      "cell_type": "code",
      "metadata": {
        "colab": {
          "base_uri": "https://localhost:8080/"
        },
        "id": "kQ4Tj0NWISa1",
        "outputId": "41c2b62e-8e5d-43b8-fe47-b84b32782b3b"
      },
      "source": [
        "! pip install tensorflow==2.2"
      ],
      "execution_count": 6,
      "outputs": [
        {
          "output_type": "stream",
          "text": [
            "Collecting tensorflow==2.2\n",
            "\u001b[?25l  Downloading https://files.pythonhosted.org/packages/4c/1a/0d79814736cfecc825ab8094b39648cc9c46af7af1bae839928acb73b4dd/tensorflow-2.2.0-cp37-cp37m-manylinux2010_x86_64.whl (516.2MB)\n",
            "\u001b[K     |████████████████████████████████| 516.2MB 33kB/s \n",
            "\u001b[?25hRequirement already satisfied: google-pasta>=0.1.8 in /usr/local/lib/python3.7/dist-packages (from tensorflow==2.2) (0.2.0)\n",
            "Requirement already satisfied: opt-einsum>=2.3.2 in /usr/local/lib/python3.7/dist-packages (from tensorflow==2.2) (3.3.0)\n",
            "Collecting tensorflow-estimator<2.3.0,>=2.2.0\n",
            "\u001b[?25l  Downloading https://files.pythonhosted.org/packages/a4/f5/926ae53d6a226ec0fda5208e0e581cffed895ccc89e36ba76a8e60895b78/tensorflow_estimator-2.2.0-py2.py3-none-any.whl (454kB)\n",
            "\u001b[K     |████████████████████████████████| 460kB 47.9MB/s \n",
            "\u001b[?25hRequirement already satisfied: protobuf>=3.8.0 in /usr/local/lib/python3.7/dist-packages (from tensorflow==2.2) (3.12.4)\n",
            "Requirement already satisfied: termcolor>=1.1.0 in /usr/local/lib/python3.7/dist-packages (from tensorflow==2.2) (1.1.0)\n",
            "Requirement already satisfied: wrapt>=1.11.1 in /usr/local/lib/python3.7/dist-packages (from tensorflow==2.2) (1.12.1)\n",
            "Requirement already satisfied: wheel>=0.26; python_version >= \"3\" in /usr/local/lib/python3.7/dist-packages (from tensorflow==2.2) (0.36.2)\n",
            "Requirement already satisfied: keras-preprocessing>=1.1.0 in /usr/local/lib/python3.7/dist-packages (from tensorflow==2.2) (1.1.2)\n",
            "Collecting tensorboard<2.3.0,>=2.2.0\n",
            "\u001b[?25l  Downloading https://files.pythonhosted.org/packages/1d/74/0a6fcb206dcc72a6da9a62dd81784bfdbff5fedb099982861dc2219014fb/tensorboard-2.2.2-py3-none-any.whl (3.0MB)\n",
            "\u001b[K     |████████████████████████████████| 3.0MB 43.1MB/s \n",
            "\u001b[?25hRequirement already satisfied: h5py<2.11.0,>=2.10.0 in /usr/local/lib/python3.7/dist-packages (from tensorflow==2.2) (2.10.0)\n",
            "Requirement already satisfied: gast==0.3.3 in /usr/local/lib/python3.7/dist-packages (from tensorflow==2.2) (0.3.3)\n",
            "Requirement already satisfied: scipy==1.4.1; python_version >= \"3\" in /usr/local/lib/python3.7/dist-packages (from tensorflow==2.2) (1.4.1)\n",
            "Requirement already satisfied: six>=1.12.0 in /usr/local/lib/python3.7/dist-packages (from tensorflow==2.2) (1.15.0)\n",
            "Requirement already satisfied: absl-py>=0.7.0 in /usr/local/lib/python3.7/dist-packages (from tensorflow==2.2) (0.10.0)\n",
            "Requirement already satisfied: grpcio>=1.8.6 in /usr/local/lib/python3.7/dist-packages (from tensorflow==2.2) (1.32.0)\n",
            "Requirement already satisfied: astunparse==1.6.3 in /usr/local/lib/python3.7/dist-packages (from tensorflow==2.2) (1.6.3)\n",
            "Requirement already satisfied: numpy<2.0,>=1.16.0 in /usr/local/lib/python3.7/dist-packages (from tensorflow==2.2) (1.19.5)\n",
            "Requirement already satisfied: setuptools in /usr/local/lib/python3.7/dist-packages (from protobuf>=3.8.0->tensorflow==2.2) (53.0.0)\n",
            "Requirement already satisfied: requests<3,>=2.21.0 in /usr/local/lib/python3.7/dist-packages (from tensorboard<2.3.0,>=2.2.0->tensorflow==2.2) (2.23.0)\n",
            "Requirement already satisfied: google-auth-oauthlib<0.5,>=0.4.1 in /usr/local/lib/python3.7/dist-packages (from tensorboard<2.3.0,>=2.2.0->tensorflow==2.2) (0.4.2)\n",
            "Requirement already satisfied: markdown>=2.6.8 in /usr/local/lib/python3.7/dist-packages (from tensorboard<2.3.0,>=2.2.0->tensorflow==2.2) (3.3.4)\n",
            "Requirement already satisfied: google-auth<2,>=1.6.3 in /usr/local/lib/python3.7/dist-packages (from tensorboard<2.3.0,>=2.2.0->tensorflow==2.2) (1.27.0)\n",
            "Requirement already satisfied: werkzeug>=0.11.15 in /usr/local/lib/python3.7/dist-packages (from tensorboard<2.3.0,>=2.2.0->tensorflow==2.2) (1.0.1)\n",
            "Requirement already satisfied: tensorboard-plugin-wit>=1.6.0 in /usr/local/lib/python3.7/dist-packages (from tensorboard<2.3.0,>=2.2.0->tensorflow==2.2) (1.8.0)\n",
            "Requirement already satisfied: urllib3!=1.25.0,!=1.25.1,<1.26,>=1.21.1 in /usr/local/lib/python3.7/dist-packages (from requests<3,>=2.21.0->tensorboard<2.3.0,>=2.2.0->tensorflow==2.2) (1.24.3)\n",
            "Requirement already satisfied: certifi>=2017.4.17 in /usr/local/lib/python3.7/dist-packages (from requests<3,>=2.21.0->tensorboard<2.3.0,>=2.2.0->tensorflow==2.2) (2020.12.5)\n",
            "Requirement already satisfied: idna<3,>=2.5 in /usr/local/lib/python3.7/dist-packages (from requests<3,>=2.21.0->tensorboard<2.3.0,>=2.2.0->tensorflow==2.2) (2.10)\n",
            "Requirement already satisfied: chardet<4,>=3.0.2 in /usr/local/lib/python3.7/dist-packages (from requests<3,>=2.21.0->tensorboard<2.3.0,>=2.2.0->tensorflow==2.2) (3.0.4)\n",
            "Requirement already satisfied: requests-oauthlib>=0.7.0 in /usr/local/lib/python3.7/dist-packages (from google-auth-oauthlib<0.5,>=0.4.1->tensorboard<2.3.0,>=2.2.0->tensorflow==2.2) (1.3.0)\n",
            "Requirement already satisfied: importlib-metadata; python_version < \"3.8\" in /usr/local/lib/python3.7/dist-packages (from markdown>=2.6.8->tensorboard<2.3.0,>=2.2.0->tensorflow==2.2) (3.7.0)\n",
            "Requirement already satisfied: rsa<5,>=3.1.4; python_version >= \"3.6\" in /usr/local/lib/python3.7/dist-packages (from google-auth<2,>=1.6.3->tensorboard<2.3.0,>=2.2.0->tensorflow==2.2) (4.7.2)\n",
            "Requirement already satisfied: pyasn1-modules>=0.2.1 in /usr/local/lib/python3.7/dist-packages (from google-auth<2,>=1.6.3->tensorboard<2.3.0,>=2.2.0->tensorflow==2.2) (0.2.8)\n",
            "Requirement already satisfied: cachetools<5.0,>=2.0.0 in /usr/local/lib/python3.7/dist-packages (from google-auth<2,>=1.6.3->tensorboard<2.3.0,>=2.2.0->tensorflow==2.2) (4.2.1)\n",
            "Requirement already satisfied: oauthlib>=3.0.0 in /usr/local/lib/python3.7/dist-packages (from requests-oauthlib>=0.7.0->google-auth-oauthlib<0.5,>=0.4.1->tensorboard<2.3.0,>=2.2.0->tensorflow==2.2) (3.1.0)\n",
            "Requirement already satisfied: typing-extensions>=3.6.4; python_version < \"3.8\" in /usr/local/lib/python3.7/dist-packages (from importlib-metadata; python_version < \"3.8\"->markdown>=2.6.8->tensorboard<2.3.0,>=2.2.0->tensorflow==2.2) (3.7.4.3)\n",
            "Requirement already satisfied: zipp>=0.5 in /usr/local/lib/python3.7/dist-packages (from importlib-metadata; python_version < \"3.8\"->markdown>=2.6.8->tensorboard<2.3.0,>=2.2.0->tensorflow==2.2) (3.4.0)\n",
            "Requirement already satisfied: pyasn1>=0.1.3 in /usr/local/lib/python3.7/dist-packages (from rsa<5,>=3.1.4; python_version >= \"3.6\"->google-auth<2,>=1.6.3->tensorboard<2.3.0,>=2.2.0->tensorflow==2.2) (0.4.8)\n",
            "Installing collected packages: tensorflow-estimator, tensorboard, tensorflow\n",
            "  Found existing installation: tensorflow-estimator 2.4.0\n",
            "    Uninstalling tensorflow-estimator-2.4.0:\n",
            "      Successfully uninstalled tensorflow-estimator-2.4.0\n",
            "  Found existing installation: tensorboard 2.4.1\n",
            "    Uninstalling tensorboard-2.4.1:\n",
            "      Successfully uninstalled tensorboard-2.4.1\n",
            "  Found existing installation: tensorflow 2.4.1\n",
            "    Uninstalling tensorflow-2.4.1:\n",
            "      Successfully uninstalled tensorflow-2.4.1\n",
            "Successfully installed tensorboard-2.2.2 tensorflow-2.2.0 tensorflow-estimator-2.2.0\n"
          ],
          "name": "stdout"
        }
      ]
    },
    {
      "cell_type": "code",
      "metadata": {
        "colab": {
          "base_uri": "https://localhost:8080/"
        },
        "id": "K0jlUIVKIeZk",
        "outputId": "91e7525e-1880-4010-9076-f95db1e441f2"
      },
      "source": [
        "! pip show tensorflow"
      ],
      "execution_count": 7,
      "outputs": [
        {
          "output_type": "stream",
          "text": [
            "Name: tensorflow\n",
            "Version: 2.2.0\n",
            "Summary: TensorFlow is an open source machine learning framework for everyone.\n",
            "Home-page: https://www.tensorflow.org/\n",
            "Author: Google Inc.\n",
            "Author-email: packages@tensorflow.org\n",
            "License: Apache 2.0\n",
            "Location: /usr/local/lib/python3.7/dist-packages\n",
            "Requires: google-pasta, absl-py, six, wheel, h5py, termcolor, scipy, protobuf, astunparse, numpy, tensorboard, gast, keras-preprocessing, opt-einsum, grpcio, wrapt, tensorflow-estimator\n",
            "Required-by: fancyimpute\n"
          ],
          "name": "stdout"
        }
      ]
    },
    {
      "cell_type": "code",
      "metadata": {
        "id": "e6Jbr1_x5YHz",
        "colab": {
          "base_uri": "https://localhost:8080/"
        },
        "outputId": "5b507566-87e8-4e8d-f6e2-ff64c006ca58"
      },
      "source": [
        "#import keras\n",
        "import tensorflow as tf\n",
        "print(tf.__version__)"
      ],
      "execution_count": 8,
      "outputs": [
        {
          "output_type": "stream",
          "text": [
            "2.2.0\n"
          ],
          "name": "stdout"
        }
      ]
    },
    {
      "cell_type": "markdown",
      "metadata": {
        "id": "arsH-DhLcihq"
      },
      "source": [
        "# 3 > GPU 할당 체크하기\n",
        "\"Found GPU at: / device: GPU: 0\"이 표시되면, GPU가 이미 사용중이라는 의미입니다."
      ]
    },
    {
      "cell_type": "code",
      "metadata": {
        "id": "uQgEhuoTcg0N",
        "colab": {
          "base_uri": "https://localhost:8080/"
        },
        "outputId": "84e8b052-31a2-4c6f-a9cd-45780e21cb2f"
      },
      "source": [
        "import tensorflow as tf\n",
        "device_name = tf.test.gpu_device_name()\n",
        "if device_name != '/device:GPU:0':\n",
        "  raise SystemError('GPU device not found')\n",
        "print('Found GPU at: {}'.format(device_name))"
      ],
      "execution_count": 9,
      "outputs": [
        {
          "output_type": "stream",
          "text": [
            "Found GPU at: /device:GPU:0\n"
          ],
          "name": "stdout"
        }
      ]
    },
    {
      "cell_type": "markdown",
      "metadata": {
        "id": "Ba2oPDIrsDFg"
      },
      "source": [
        "# 4 > Donkeycar 프로그램 설치 (4.x)\n",
        "\n",
        "* 2020-11-11일자 기준 4.x버전을 설치 \n",
        "\n",
        "* Donkeycar의 영상데이타 기반의 학습프로그램을 활용하기 위해서 Donkeycar의 프로그램들을 Google Colaboratory에 설치해야 합니다.\n",
        "\n",
        "* Git에 저장되어 있는 Donkeycar 프로그램 저장소에서 관련 소스코드를 가져와서 Google Colaboratory에 폴더를 생성하고 해당 소스코드를 복사하여 설치합니다."
      ]
    },
    {
      "cell_type": "code",
      "metadata": {
        "id": "oOxd9PFUyNxI",
        "colab": {
          "base_uri": "https://localhost:8080/"
        },
        "outputId": "bf0c263f-63b0-4ebd-d676-e39024f44e2f"
      },
      "source": [
        "!git clone https://github.com/autorope/donkeycar\n",
        "%cd donkeycar\n",
        "!git checkout master"
      ],
      "execution_count": 10,
      "outputs": [
        {
          "output_type": "stream",
          "text": [
            "Cloning into 'donkeycar'...\n",
            "remote: Enumerating objects: 32, done.\u001b[K\n",
            "remote: Counting objects: 100% (32/32), done.\u001b[K\n",
            "remote: Compressing objects: 100% (24/24), done.\u001b[K\n",
            "remote: Total 14360 (delta 14), reused 8 (delta 8), pack-reused 14328\u001b[K\n",
            "Receiving objects: 100% (14360/14360), 84.04 MiB | 28.16 MiB/s, done.\n",
            "Resolving deltas: 100% (9052/9052), done.\n",
            "/content/donkeycar\n",
            "Branch 'master' set up to track remote branch 'master' from 'origin'.\n",
            "Switched to a new branch 'master'\n"
          ],
          "name": "stdout"
        }
      ]
    },
    {
      "cell_type": "markdown",
      "metadata": {
        "id": "4E8pOE73l3Fn"
      },
      "source": [
        "### (Q) 저장된 Donkeycar 소스코드는 어디에 ?\n",
        "\n",
        "Git에서 가져온 코드들은 Google Colaboratory의 탐색창의 상단의 파일 메뉴를 클릭하면 설치된 소스코드의 디렉토리를 아래와 같이 확인이 가능합니다.\n",
        "\n",
        "* Google Colaboratory의 파일은 /content 아래에 위치합니다.\n",
        "\n",
        "![DonkeyCar Git Source Codes Folder](https://api.monosnap.com/file/download?id=Apc4BB8AwlJ1tryBBykAzdnxvAwTw1)\n",
        "\n",
        "* 사용자가 /content 디렉토리 아래에 mydata라는 새로운 디렉토리(폴더)를 생성했다면, 실제 Google Colaboratory에서는 /content/mydata 라는 폴더가 생성됩니다."
      ]
    },
    {
      "cell_type": "markdown",
      "metadata": {
        "id": "9TkkcF-gsAnx"
      },
      "source": [
        "## 4.1 DonkeyCar 프로그램 설치하기\n",
        "\n",
        "DonkeyCar 프로그램 소스코드가 저장된 donkey폴더 내의 setup.py 파일을 사용해서 설치를 진행합니다."
      ]
    },
    {
      "cell_type": "code",
      "metadata": {
        "id": "jz_PZgrByPDh",
        "colab": {
          "base_uri": "https://localhost:8080/"
        },
        "outputId": "368edf9c-fb0e-44f7-b11d-7fb9c388af2c"
      },
      "source": [
        "!pip install -e .[pc]"
      ],
      "execution_count": 11,
      "outputs": [
        {
          "output_type": "stream",
          "text": [
            "Obtaining file:///content/donkeycar\n",
            "Requirement already satisfied: numpy in /usr/local/lib/python3.7/dist-packages (from donkeycar==4.1.0) (1.19.5)\n",
            "Requirement already satisfied: pillow in /usr/local/lib/python3.7/dist-packages (from donkeycar==4.1.0) (7.0.0)\n",
            "Requirement already satisfied: docopt in /usr/local/lib/python3.7/dist-packages (from donkeycar==4.1.0) (0.6.2)\n",
            "Requirement already satisfied: tornado in /usr/local/lib/python3.7/dist-packages (from donkeycar==4.1.0) (5.1.1)\n",
            "Requirement already satisfied: requests in /usr/local/lib/python3.7/dist-packages (from donkeycar==4.1.0) (2.23.0)\n",
            "Requirement already satisfied: h5py in /usr/local/lib/python3.7/dist-packages (from donkeycar==4.1.0) (2.10.0)\n",
            "Requirement already satisfied: PrettyTable in /usr/local/lib/python3.7/dist-packages (from donkeycar==4.1.0) (2.0.0)\n",
            "Collecting paho-mqtt\n",
            "\u001b[?25l  Downloading https://files.pythonhosted.org/packages/32/d3/6dcb8fd14746fcde6a556f932b5de8bea8fedcb85b3a092e0e986372c0e7/paho-mqtt-1.5.1.tar.gz (101kB)\n",
            "\u001b[K     |████████████████████████████████| 102kB 5.7MB/s \n",
            "\u001b[?25hCollecting simple_pid\n",
            "  Downloading https://files.pythonhosted.org/packages/25/37/6e65affc5c135cda2ad6931c83e185957faf2c74c6432bad5fbf5523f344/simple_pid-0.2.4-py2.py3-none-any.whl\n",
            "Collecting progress\n",
            "  Downloading https://files.pythonhosted.org/packages/38/ef/2e887b3d2b248916fc2121889ce68af8a16aaddbe82f9ae6533c24ff0d2b/progress-1.5.tar.gz\n",
            "Requirement already satisfied: typing_extensions in /usr/local/lib/python3.7/dist-packages (from donkeycar==4.1.0) (3.7.4.3)\n",
            "Collecting pyfiglet\n",
            "\u001b[?25l  Downloading https://files.pythonhosted.org/packages/33/07/fcfdd7a2872f5b348953de35acce1544dab0c1e8368dca54279b1cde5c15/pyfiglet-0.8.post1-py2.py3-none-any.whl (865kB)\n",
            "\u001b[K     |████████████████████████████████| 870kB 12.7MB/s \n",
            "\u001b[?25hRequirement already satisfied: matplotlib in /usr/local/lib/python3.7/dist-packages (from donkeycar==4.1.0) (3.2.2)\n",
            "Requirement already satisfied: imgaug in /usr/local/lib/python3.7/dist-packages (from donkeycar==4.1.0) (0.2.9)\n",
            "Requirement already satisfied: urllib3!=1.25.0,!=1.25.1,<1.26,>=1.21.1 in /usr/local/lib/python3.7/dist-packages (from requests->donkeycar==4.1.0) (1.24.3)\n",
            "Requirement already satisfied: certifi>=2017.4.17 in /usr/local/lib/python3.7/dist-packages (from requests->donkeycar==4.1.0) (2020.12.5)\n",
            "Requirement already satisfied: idna<3,>=2.5 in /usr/local/lib/python3.7/dist-packages (from requests->donkeycar==4.1.0) (2.10)\n",
            "Requirement already satisfied: chardet<4,>=3.0.2 in /usr/local/lib/python3.7/dist-packages (from requests->donkeycar==4.1.0) (3.0.4)\n",
            "Requirement already satisfied: six in /usr/local/lib/python3.7/dist-packages (from h5py->donkeycar==4.1.0) (1.15.0)\n",
            "Requirement already satisfied: wcwidth in /usr/local/lib/python3.7/dist-packages (from PrettyTable->donkeycar==4.1.0) (0.2.5)\n",
            "Requirement already satisfied: setuptools in /usr/local/lib/python3.7/dist-packages (from PrettyTable->donkeycar==4.1.0) (53.0.0)\n",
            "Requirement already satisfied: pyparsing!=2.0.4,!=2.1.2,!=2.1.6,>=2.0.1 in /usr/local/lib/python3.7/dist-packages (from matplotlib->donkeycar==4.1.0) (2.4.7)\n",
            "Requirement already satisfied: cycler>=0.10 in /usr/local/lib/python3.7/dist-packages (from matplotlib->donkeycar==4.1.0) (0.10.0)\n",
            "Requirement already satisfied: python-dateutil>=2.1 in /usr/local/lib/python3.7/dist-packages (from matplotlib->donkeycar==4.1.0) (2.8.1)\n",
            "Requirement already satisfied: kiwisolver>=1.0.1 in /usr/local/lib/python3.7/dist-packages (from matplotlib->donkeycar==4.1.0) (1.3.1)\n",
            "Requirement already satisfied: imageio in /usr/local/lib/python3.7/dist-packages (from imgaug->donkeycar==4.1.0) (2.4.1)\n",
            "Requirement already satisfied: Shapely in /usr/local/lib/python3.7/dist-packages (from imgaug->donkeycar==4.1.0) (1.7.1)\n",
            "Requirement already satisfied: scipy in /usr/local/lib/python3.7/dist-packages (from imgaug->donkeycar==4.1.0) (1.4.1)\n",
            "Requirement already satisfied: opencv-python in /usr/local/lib/python3.7/dist-packages (from imgaug->donkeycar==4.1.0) (4.1.2.30)\n",
            "Requirement already satisfied: scikit-image>=0.11.0 in /usr/local/lib/python3.7/dist-packages (from imgaug->donkeycar==4.1.0) (0.16.2)\n",
            "Requirement already satisfied: networkx>=2.0 in /usr/local/lib/python3.7/dist-packages (from scikit-image>=0.11.0->imgaug->donkeycar==4.1.0) (2.5)\n",
            "Requirement already satisfied: PyWavelets>=0.4.0 in /usr/local/lib/python3.7/dist-packages (from scikit-image>=0.11.0->imgaug->donkeycar==4.1.0) (1.1.1)\n",
            "Requirement already satisfied: decorator>=4.3.0 in /usr/local/lib/python3.7/dist-packages (from networkx>=2.0->scikit-image>=0.11.0->imgaug->donkeycar==4.1.0) (4.4.2)\n",
            "Building wheels for collected packages: paho-mqtt, progress\n",
            "  Building wheel for paho-mqtt (setup.py) ... \u001b[?25l\u001b[?25hdone\n",
            "  Created wheel for paho-mqtt: filename=paho_mqtt-1.5.1-cp37-none-any.whl size=61546 sha256=f6f3452898c40ddee1549974f46bfb605663a4e8ad8cef1d5b89aebb2aa45f85\n",
            "  Stored in directory: /root/.cache/pip/wheels/75/e2/f5/78942b19b4d135605e58dfe85fba52253b14d636aabf76904b\n",
            "  Building wheel for progress (setup.py) ... \u001b[?25l\u001b[?25hdone\n",
            "  Created wheel for progress: filename=progress-1.5-cp37-none-any.whl size=8074 sha256=e68dd7ba7ebe9bdfe8f211c42a9405b66152bb75dd0cd0660f4d42302659d63b\n",
            "  Stored in directory: /root/.cache/pip/wheels/6c/c8/80/32a294e3041f006c661838c05a411c7b7ffc60ff939d14e116\n",
            "Successfully built paho-mqtt progress\n",
            "Installing collected packages: paho-mqtt, simple-pid, progress, pyfiglet, donkeycar\n",
            "  Running setup.py develop for donkeycar\n",
            "Successfully installed donkeycar paho-mqtt-1.5.1 progress-1.5 pyfiglet-0.8.post1 simple-pid-0.2.4\n"
          ],
          "name": "stdout"
        }
      ]
    },
    {
      "cell_type": "code",
      "metadata": {
        "id": "FTJTkh542XM-",
        "colab": {
          "base_uri": "https://localhost:8080/"
        },
        "outputId": "1fd6d0cc-61c9-4456-a858-04e6356035b2"
      },
      "source": [
        "!pip list | grep tensorflow"
      ],
      "execution_count": 12,
      "outputs": [
        {
          "output_type": "stream",
          "text": [
            "tensorflow                    2.2.0          \n",
            "tensorflow-datasets           4.0.1          \n",
            "tensorflow-estimator          2.2.0          \n",
            "tensorflow-gcs-config         2.4.0          \n",
            "tensorflow-hub                0.11.0         \n",
            "tensorflow-metadata           0.28.0         \n",
            "tensorflow-probability        0.12.1         \n"
          ],
          "name": "stdout"
        }
      ]
    },
    {
      "cell_type": "markdown",
      "metadata": {
        "id": "syCctLq2r4Wk"
      },
      "source": [
        "## 4.2 DonkeyCar 프로젝트 생성하기\n",
        "\n",
        "DonkeyCar에 대한 나만의 프로젝트를 새로이 생성합니다. 프로젝트를 생성하기 위해서는 프로젝트 이름이 필요합니다. 여기서는 mycar라는 프로젝트명을 사용합니다. Donkeycar의 프로젝트 생성 형식은 다음과 같습니다.\n",
        "\n",
        "$ donkey createcar --path /content/mycar [enter]"
      ]
    },
    {
      "cell_type": "code",
      "metadata": {
        "id": "1xjJBSITyXy2",
        "colab": {
          "base_uri": "https://localhost:8080/"
        },
        "outputId": "b595c448-b9cf-41ac-e95f-7715767607e4"
      },
      "source": [
        "!donkey createcar --path /content/mycar"
      ],
      "execution_count": 13,
      "outputs": [
        {
          "output_type": "stream",
          "text": [
            "________             ______                   _________              \n",
            "___  __ \\_______________  /___________  __    __  ____/_____ ________\n",
            "__  / / /  __ \\_  __ \\_  //_/  _ \\_  / / /    _  /    _  __ `/_  ___/\n",
            "_  /_/ // /_/ /  / / /  ,<  /  __/  /_/ /     / /___  / /_/ /_  /    \n",
            "/_____/ \\____//_/ /_//_/|_| \\___/_\\__, /      \\____/  \\__,_/ /_/     \n",
            "                                 /____/                              \n",
            "\n",
            "using donkey v4.1.0 ...\n",
            "Creating car folder: /content/mycar\n",
            "making dir  /content/mycar\n",
            "Creating data & model folders.\n",
            "making dir  /content/mycar/models\n",
            "making dir  /content/mycar/data\n",
            "making dir  /content/mycar/logs\n",
            "Copying car application template: basic\n",
            "Copying car config defaults. Adjust these before starting your car.\n",
            "Copying train script. Adjust these before starting your car.\n",
            "Copying calibrate script. Adjust these before starting your car.\n",
            "Copying my car config overrides\n",
            "Donkey setup complete.\n"
          ],
          "name": "stdout"
        }
      ]
    },
    {
      "cell_type": "markdown",
      "metadata": {
        "id": "RkEtUoKIq2Ua"
      },
      "source": [
        "### (Q) 생성된 mycar 프로젝트는 어디에 ?\n",
        "\n",
        "탐색창의 파일을 클릭하면, 다음과 같이 /content 디렉토리 아래에 mycar폴더가 새롭게 생성되었다는 것을 확인할 수 있습니다. mycar폴더에는 3개의 폴더와 4개의 파이썬 파일이 생성됩니다.\n",
        "\n",
        "![Donkeycar User-Defined Project Folder](https://api.monosnap.com/file/download?id=yMcfRjpwpEpeZIkCqiq2nfX7ihdFjX)"
      ]
    },
    {
      "cell_type": "markdown",
      "metadata": {
        "id": "dnUy1Z1zro77"
      },
      "source": [
        "## 4.3 라즈베리파이의 주행데이타를 Google Colaboratory로 이동 준비(PC/노트북)\n",
        "\n",
        "* 라즈베리파이에 저장된 주행 영상데이타는 프로젝트 파일 폴더(예를 들어 mycar라고 가정) 아래에 data 폴더 아래에 tub_라는 이름을 시작하는 폴더에 순차번호를 붙여서 저장되어 있습니다. 예를들어, 폴더명이 tub_1_19-11-09라면, 11월 09일에 주행한 첫번째 주행영상이라는 의미로 해석이 가능합니다(~/mycar/data/tub_1_19-11-09).\n",
        "\n",
        "* 주행데이타는 개별(1회분의 주행영상)은 물론이고 여러개의 풀더(여러번의 주행영상들)을 모두 학습에 활용할 수 있기때문에 우선 PC로 모두 이동하여 저장하는 방법이 유용합니다.\n",
        "\n",
        "* 라즈베리파이 SD카드로부터 폴더 단위의 복사를 완료했다면, tub_ 폴더들을 Google Laboratory로 업로드하기 위해서 zip으로 묶고, 압축된 파일을 Google Laboratory로 업로드합니다."
      ]
    },
    {
      "cell_type": "markdown",
      "metadata": {
        "id": "ixjmMBKvzrV4"
      },
      "source": [
        "## 4.4 Data.zip을 노트북/PC에서 Google Colaboratory로 업로드하기\r\n",
        "\r\n",
        "* Donkeycar 4.1에서는 datastore_V2형식으로 데이타가 저장\r\n",
        "* tub별로 images 디렉토리가 생성되며, catalog_0.catalog라는 메타파일이 생성(주행데이타 저장)"
      ]
    },
    {
      "cell_type": "markdown",
      "metadata": {
        "id": "Kz4k56hs0TAD"
      },
      "source": [
        "#### PC/노트북에서 압축된 주행데이타 파일을 업로드 하기 위한 수행코드는 아래와 같습니다.\n",
        "\n",
        "업로드할 파일은 data.tar.gz 파일명을 가지며, 해당 파일이 업로드되면 아래의 수행코드에 따라 data.tar.gz파일이 mycar 폴더에 위치하게 되며, 자동적으로 압축이 해제되어 설치됩니다."
      ]
    },
    {
      "cell_type": "code",
      "metadata": {
        "id": "ws3tajS7iaex"
      },
      "source": [
        "import os\n",
        "from google.colab import files\n",
        "import shutil\n",
        "\n",
        "WORK_FOLDER = \"/content/mycar/data\"\n",
        "if(os.path.exists(WORK_FOLDER) == True):  \n",
        "    shutil.rmtree('/content/mycar/data')\n",
        "os.makedirs(WORK_FOLDER)"
      ],
      "execution_count": 14,
      "outputs": []
    },
    {
      "cell_type": "code",
      "metadata": {
        "id": "wkvP7rkCkR8W",
        "colab": {
          "base_uri": "https://localhost:8080/",
          "height": 35
        },
        "outputId": "924594ea-ab42-4665-d2d7-ae1e1f48bacc"
      },
      "source": [
        "%pwd"
      ],
      "execution_count": 15,
      "outputs": [
        {
          "output_type": "execute_result",
          "data": {
            "application/vnd.google.colaboratory.intrinsic+json": {
              "type": "string"
            },
            "text/plain": [
              "'/content/donkeycar'"
            ]
          },
          "metadata": {
            "tags": []
          },
          "execution_count": 15
        }
      ]
    },
    {
      "cell_type": "code",
      "metadata": {
        "id": "1Kb9gG4WkIIg",
        "colab": {
          "base_uri": "https://localhost:8080/"
        },
        "outputId": "304f1a0f-dc6b-44a5-a8ea-93859fb56460"
      },
      "source": [
        "%cd \"/content/mycar\""
      ],
      "execution_count": 16,
      "outputs": [
        {
          "output_type": "stream",
          "text": [
            "/content/mycar\n"
          ],
          "name": "stdout"
        }
      ]
    },
    {
      "cell_type": "code",
      "metadata": {
        "id": "ncx9VYhKjCCJ",
        "colab": {
          "resources": {
            "http://localhost:8080/nbextensions/google.colab/files.js": {
              "data": "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",
              "ok": true,
              "headers": [
                [
                  "content-type",
                  "application/javascript"
                ]
              ],
              "status": 200,
              "status_text": ""
            }
          },
          "base_uri": "https://localhost:8080/",
          "height": 78
        },
        "outputId": "7253110b-c114-4a79-8c4a-a2ce065003e2"
      },
      "source": [
        "uploaded = files.upload()"
      ],
      "execution_count": null,
      "outputs": [
        {
          "output_type": "display_data",
          "data": {
            "text/html": [
              "\n",
              "     <input type=\"file\" id=\"files-63a36ec3-8f5c-4b0d-b599-a70c632d6edf\" name=\"files[]\" multiple disabled\n",
              "        style=\"border:none\" />\n",
              "     <output id=\"result-63a36ec3-8f5c-4b0d-b599-a70c632d6edf\">\n",
              "      Upload widget is only available when the cell has been executed in the\n",
              "      current browser session. Please rerun this cell to enable.\n",
              "      </output>\n",
              "      <script src=\"/nbextensions/google.colab/files.js\"></script> "
            ],
            "text/plain": [
              "<IPython.core.display.HTML object>"
            ]
          },
          "metadata": {
            "tags": []
          }
        },
        {
          "output_type": "stream",
          "text": [
            "Saving data.tar.gz to data.tar.gz\n"
          ],
          "name": "stdout"
        }
      ]
    },
    {
      "cell_type": "code",
      "metadata": {
        "id": "2lbD-04R-f0S",
        "colab": {
          "base_uri": "https://localhost:8080/"
        },
        "outputId": "5c6ff057-845b-449e-a5cc-ea10b7b9f392"
      },
      "source": [
        "! gzip -cd data.tar.gz | tar xvf -"
      ],
      "execution_count": null,
      "outputs": [
        {
          "output_type": "stream",
          "text": [
            "./data/\n",
            "./data/tub_1_21-01-15/\n",
            "./data/tub_1_21-01-15/catalog_0.catalog\n",
            "./data/tub_1_21-01-15/catalog_0.catalog_manifest\n",
            "./data/tub_1_21-01-15/images/\n",
            "./data/tub_1_21-01-15/images/0_cam_image_array_.jpg\n",
            "./data/tub_1_21-01-15/images/10_cam_image_array_.jpg\n",
            "./data/tub_1_21-01-15/images/11_cam_image_array_.jpg\n",
            "./data/tub_1_21-01-15/images/12_cam_image_array_.jpg\n",
            "./data/tub_1_21-01-15/images/13_cam_image_array_.jpg\n",
            "./data/tub_1_21-01-15/images/14_cam_image_array_.jpg\n",
            "./data/tub_1_21-01-15/images/15_cam_image_array_.jpg\n",
            "./data/tub_1_21-01-15/images/16_cam_image_array_.jpg\n",
            "./data/tub_1_21-01-15/images/17_cam_image_array_.jpg\n",
            "./data/tub_1_21-01-15/images/18_cam_image_array_.jpg\n",
            "./data/tub_1_21-01-15/images/19_cam_image_array_.jpg\n",
            "./data/tub_1_21-01-15/images/1_cam_image_array_.jpg\n",
            "./data/tub_1_21-01-15/images/20_cam_image_array_.jpg\n",
            "./data/tub_1_21-01-15/images/21_cam_image_array_.jpg\n",
            "./data/tub_1_21-01-15/images/22_cam_image_array_.jpg\n",
            "./data/tub_1_21-01-15/images/23_cam_image_array_.jpg\n",
            "./data/tub_1_21-01-15/images/24_cam_image_array_.jpg\n",
            "./data/tub_1_21-01-15/images/25_cam_image_array_.jpg\n",
            "./data/tub_1_21-01-15/images/26_cam_image_array_.jpg\n",
            "./data/tub_1_21-01-15/images/27_cam_image_array_.jpg\n",
            "./data/tub_1_21-01-15/images/28_cam_image_array_.jpg\n",
            "./data/tub_1_21-01-15/images/29_cam_image_array_.jpg\n",
            "./data/tub_1_21-01-15/images/2_cam_image_array_.jpg\n",
            "./data/tub_1_21-01-15/images/30_cam_image_array_.jpg\n",
            "./data/tub_1_21-01-15/images/31_cam_image_array_.jpg\n",
            "./data/tub_1_21-01-15/images/32_cam_image_array_.jpg\n",
            "./data/tub_1_21-01-15/images/33_cam_image_array_.jpg\n",
            "./data/tub_1_21-01-15/images/34_cam_image_array_.jpg\n",
            "./data/tub_1_21-01-15/images/35_cam_image_array_.jpg\n",
            "./data/tub_1_21-01-15/images/36_cam_image_array_.jpg\n",
            "./data/tub_1_21-01-15/images/37_cam_image_array_.jpg\n",
            "./data/tub_1_21-01-15/images/3_cam_image_array_.jpg\n",
            "./data/tub_1_21-01-15/images/4_cam_image_array_.jpg\n",
            "./data/tub_1_21-01-15/images/5_cam_image_array_.jpg\n",
            "./data/tub_1_21-01-15/images/6_cam_image_array_.jpg\n",
            "./data/tub_1_21-01-15/images/7_cam_image_array_.jpg\n",
            "./data/tub_1_21-01-15/images/8_cam_image_array_.jpg\n",
            "./data/tub_1_21-01-15/images/9_cam_image_array_.jpg\n",
            "./data/tub_1_21-01-15/manifest.json\n",
            "./data/tub_2_21-01-16/\n",
            "./data/tub_2_21-01-16/catalog_0.catalog\n",
            "./data/tub_2_21-01-16/catalog_0.catalog_manifest\n",
            "./data/tub_2_21-01-16/images/\n",
            "./data/tub_2_21-01-16/images/0_cam_image_array_.jpg\n",
            "./data/tub_2_21-01-16/images/100_cam_image_array_.jpg\n",
            "./data/tub_2_21-01-16/images/101_cam_image_array_.jpg\n",
            "./data/tub_2_21-01-16/images/102_cam_image_array_.jpg\n",
            "./data/tub_2_21-01-16/images/103_cam_image_array_.jpg\n",
            "./data/tub_2_21-01-16/images/104_cam_image_array_.jpg\n",
            "./data/tub_2_21-01-16/images/105_cam_image_array_.jpg\n",
            "./data/tub_2_21-01-16/images/106_cam_image_array_.jpg\n",
            "./data/tub_2_21-01-16/images/107_cam_image_array_.jpg\n",
            "./data/tub_2_21-01-16/images/108_cam_image_array_.jpg\n",
            "./data/tub_2_21-01-16/images/109_cam_image_array_.jpg\n",
            "./data/tub_2_21-01-16/images/10_cam_image_array_.jpg\n",
            "./data/tub_2_21-01-16/images/110_cam_image_array_.jpg\n",
            "./data/tub_2_21-01-16/images/111_cam_image_array_.jpg\n",
            "./data/tub_2_21-01-16/images/112_cam_image_array_.jpg\n",
            "./data/tub_2_21-01-16/images/113_cam_image_array_.jpg\n",
            "./data/tub_2_21-01-16/images/114_cam_image_array_.jpg\n",
            "./data/tub_2_21-01-16/images/115_cam_image_array_.jpg\n",
            "./data/tub_2_21-01-16/images/116_cam_image_array_.jpg\n",
            "./data/tub_2_21-01-16/images/117_cam_image_array_.jpg\n",
            "./data/tub_2_21-01-16/images/118_cam_image_array_.jpg\n",
            "./data/tub_2_21-01-16/images/119_cam_image_array_.jpg\n",
            "./data/tub_2_21-01-16/images/11_cam_image_array_.jpg\n",
            "./data/tub_2_21-01-16/images/120_cam_image_array_.jpg\n",
            "./data/tub_2_21-01-16/images/121_cam_image_array_.jpg\n",
            "./data/tub_2_21-01-16/images/122_cam_image_array_.jpg\n",
            "./data/tub_2_21-01-16/images/123_cam_image_array_.jpg\n",
            "./data/tub_2_21-01-16/images/124_cam_image_array_.jpg\n",
            "./data/tub_2_21-01-16/images/125_cam_image_array_.jpg\n",
            "./data/tub_2_21-01-16/images/126_cam_image_array_.jpg\n",
            "./data/tub_2_21-01-16/images/127_cam_image_array_.jpg\n",
            "./data/tub_2_21-01-16/images/128_cam_image_array_.jpg\n",
            "./data/tub_2_21-01-16/images/129_cam_image_array_.jpg\n",
            "./data/tub_2_21-01-16/images/12_cam_image_array_.jpg\n",
            "./data/tub_2_21-01-16/images/130_cam_image_array_.jpg\n",
            "./data/tub_2_21-01-16/images/131_cam_image_array_.jpg\n",
            "./data/tub_2_21-01-16/images/132_cam_image_array_.jpg\n",
            "./data/tub_2_21-01-16/images/133_cam_image_array_.jpg\n",
            "./data/tub_2_21-01-16/images/134_cam_image_array_.jpg\n",
            "./data/tub_2_21-01-16/images/135_cam_image_array_.jpg\n",
            "./data/tub_2_21-01-16/images/136_cam_image_array_.jpg\n",
            "./data/tub_2_21-01-16/images/137_cam_image_array_.jpg\n",
            "./data/tub_2_21-01-16/images/138_cam_image_array_.jpg\n",
            "./data/tub_2_21-01-16/images/139_cam_image_array_.jpg\n",
            "./data/tub_2_21-01-16/images/13_cam_image_array_.jpg\n",
            "./data/tub_2_21-01-16/images/140_cam_image_array_.jpg\n",
            "./data/tub_2_21-01-16/images/141_cam_image_array_.jpg\n",
            "./data/tub_2_21-01-16/images/142_cam_image_array_.jpg\n",
            "./data/tub_2_21-01-16/images/143_cam_image_array_.jpg\n",
            "./data/tub_2_21-01-16/images/144_cam_image_array_.jpg\n",
            "./data/tub_2_21-01-16/images/145_cam_image_array_.jpg\n",
            "./data/tub_2_21-01-16/images/146_cam_image_array_.jpg\n",
            "./data/tub_2_21-01-16/images/147_cam_image_array_.jpg\n",
            "./data/tub_2_21-01-16/images/148_cam_image_array_.jpg\n",
            "./data/tub_2_21-01-16/images/149_cam_image_array_.jpg\n",
            "./data/tub_2_21-01-16/images/14_cam_image_array_.jpg\n",
            "./data/tub_2_21-01-16/images/150_cam_image_array_.jpg\n",
            "./data/tub_2_21-01-16/images/151_cam_image_array_.jpg\n",
            "./data/tub_2_21-01-16/images/152_cam_image_array_.jpg\n",
            "./data/tub_2_21-01-16/images/153_cam_image_array_.jpg\n",
            "./data/tub_2_21-01-16/images/154_cam_image_array_.jpg\n",
            "./data/tub_2_21-01-16/images/155_cam_image_array_.jpg\n",
            "./data/tub_2_21-01-16/images/156_cam_image_array_.jpg\n",
            "./data/tub_2_21-01-16/images/157_cam_image_array_.jpg\n",
            "./data/tub_2_21-01-16/images/158_cam_image_array_.jpg\n",
            "./data/tub_2_21-01-16/images/159_cam_image_array_.jpg\n",
            "./data/tub_2_21-01-16/images/15_cam_image_array_.jpg\n",
            "./data/tub_2_21-01-16/images/160_cam_image_array_.jpg\n",
            "./data/tub_2_21-01-16/images/161_cam_image_array_.jpg\n",
            "./data/tub_2_21-01-16/images/162_cam_image_array_.jpg\n",
            "./data/tub_2_21-01-16/images/163_cam_image_array_.jpg\n",
            "./data/tub_2_21-01-16/images/164_cam_image_array_.jpg\n",
            "./data/tub_2_21-01-16/images/165_cam_image_array_.jpg\n",
            "./data/tub_2_21-01-16/images/166_cam_image_array_.jpg\n",
            "./data/tub_2_21-01-16/images/167_cam_image_array_.jpg\n",
            "./data/tub_2_21-01-16/images/168_cam_image_array_.jpg\n",
            "./data/tub_2_21-01-16/images/169_cam_image_array_.jpg\n",
            "./data/tub_2_21-01-16/images/16_cam_image_array_.jpg\n",
            "./data/tub_2_21-01-16/images/170_cam_image_array_.jpg\n",
            "./data/tub_2_21-01-16/images/171_cam_image_array_.jpg\n",
            "./data/tub_2_21-01-16/images/172_cam_image_array_.jpg\n",
            "./data/tub_2_21-01-16/images/173_cam_image_array_.jpg\n",
            "./data/tub_2_21-01-16/images/174_cam_image_array_.jpg\n",
            "./data/tub_2_21-01-16/images/175_cam_image_array_.jpg\n",
            "./data/tub_2_21-01-16/images/176_cam_image_array_.jpg\n",
            "./data/tub_2_21-01-16/images/177_cam_image_array_.jpg\n",
            "./data/tub_2_21-01-16/images/178_cam_image_array_.jpg\n",
            "./data/tub_2_21-01-16/images/179_cam_image_array_.jpg\n",
            "./data/tub_2_21-01-16/images/17_cam_image_array_.jpg\n",
            "./data/tub_2_21-01-16/images/180_cam_image_array_.jpg\n",
            "./data/tub_2_21-01-16/images/181_cam_image_array_.jpg\n",
            "./data/tub_2_21-01-16/images/182_cam_image_array_.jpg\n",
            "./data/tub_2_21-01-16/images/183_cam_image_array_.jpg\n",
            "./data/tub_2_21-01-16/images/184_cam_image_array_.jpg\n",
            "./data/tub_2_21-01-16/images/185_cam_image_array_.jpg\n",
            "./data/tub_2_21-01-16/images/186_cam_image_array_.jpg\n",
            "./data/tub_2_21-01-16/images/187_cam_image_array_.jpg\n",
            "./data/tub_2_21-01-16/images/188_cam_image_array_.jpg\n",
            "./data/tub_2_21-01-16/images/189_cam_image_array_.jpg\n",
            "./data/tub_2_21-01-16/images/18_cam_image_array_.jpg\n",
            "./data/tub_2_21-01-16/images/190_cam_image_array_.jpg\n",
            "./data/tub_2_21-01-16/images/191_cam_image_array_.jpg\n",
            "./data/tub_2_21-01-16/images/192_cam_image_array_.jpg\n",
            "./data/tub_2_21-01-16/images/193_cam_image_array_.jpg\n",
            "./data/tub_2_21-01-16/images/194_cam_image_array_.jpg\n",
            "./data/tub_2_21-01-16/images/195_cam_image_array_.jpg\n",
            "./data/tub_2_21-01-16/images/196_cam_image_array_.jpg\n",
            "./data/tub_2_21-01-16/images/197_cam_image_array_.jpg\n",
            "./data/tub_2_21-01-16/images/198_cam_image_array_.jpg\n",
            "./data/tub_2_21-01-16/images/199_cam_image_array_.jpg\n",
            "./data/tub_2_21-01-16/images/19_cam_image_array_.jpg\n",
            "./data/tub_2_21-01-16/images/1_cam_image_array_.jpg\n",
            "./data/tub_2_21-01-16/images/200_cam_image_array_.jpg\n",
            "./data/tub_2_21-01-16/images/201_cam_image_array_.jpg\n",
            "./data/tub_2_21-01-16/images/202_cam_image_array_.jpg\n",
            "./data/tub_2_21-01-16/images/203_cam_image_array_.jpg\n",
            "./data/tub_2_21-01-16/images/204_cam_image_array_.jpg\n",
            "./data/tub_2_21-01-16/images/205_cam_image_array_.jpg\n",
            "./data/tub_2_21-01-16/images/206_cam_image_array_.jpg\n",
            "./data/tub_2_21-01-16/images/207_cam_image_array_.jpg\n",
            "./data/tub_2_21-01-16/images/208_cam_image_array_.jpg\n",
            "./data/tub_2_21-01-16/images/209_cam_image_array_.jpg\n",
            "./data/tub_2_21-01-16/images/20_cam_image_array_.jpg\n",
            "./data/tub_2_21-01-16/images/210_cam_image_array_.jpg\n",
            "./data/tub_2_21-01-16/images/211_cam_image_array_.jpg\n",
            "./data/tub_2_21-01-16/images/212_cam_image_array_.jpg\n",
            "./data/tub_2_21-01-16/images/213_cam_image_array_.jpg\n",
            "./data/tub_2_21-01-16/images/214_cam_image_array_.jpg\n",
            "./data/tub_2_21-01-16/images/215_cam_image_array_.jpg\n",
            "./data/tub_2_21-01-16/images/216_cam_image_array_.jpg\n",
            "./data/tub_2_21-01-16/images/217_cam_image_array_.jpg\n",
            "./data/tub_2_21-01-16/images/218_cam_image_array_.jpg\n",
            "./data/tub_2_21-01-16/images/219_cam_image_array_.jpg\n",
            "./data/tub_2_21-01-16/images/21_cam_image_array_.jpg\n",
            "./data/tub_2_21-01-16/images/220_cam_image_array_.jpg\n",
            "./data/tub_2_21-01-16/images/221_cam_image_array_.jpg\n",
            "./data/tub_2_21-01-16/images/222_cam_image_array_.jpg\n",
            "./data/tub_2_21-01-16/images/223_cam_image_array_.jpg\n",
            "./data/tub_2_21-01-16/images/224_cam_image_array_.jpg\n",
            "./data/tub_2_21-01-16/images/225_cam_image_array_.jpg\n",
            "./data/tub_2_21-01-16/images/226_cam_image_array_.jpg\n",
            "./data/tub_2_21-01-16/images/227_cam_image_array_.jpg\n",
            "./data/tub_2_21-01-16/images/228_cam_image_array_.jpg\n",
            "./data/tub_2_21-01-16/images/229_cam_image_array_.jpg\n",
            "./data/tub_2_21-01-16/images/22_cam_image_array_.jpg\n",
            "./data/tub_2_21-01-16/images/230_cam_image_array_.jpg\n",
            "./data/tub_2_21-01-16/images/231_cam_image_array_.jpg\n",
            "./data/tub_2_21-01-16/images/232_cam_image_array_.jpg\n",
            "./data/tub_2_21-01-16/images/233_cam_image_array_.jpg\n",
            "./data/tub_2_21-01-16/images/234_cam_image_array_.jpg\n",
            "./data/tub_2_21-01-16/images/235_cam_image_array_.jpg\n",
            "./data/tub_2_21-01-16/images/236_cam_image_array_.jpg\n",
            "./data/tub_2_21-01-16/images/237_cam_image_array_.jpg\n",
            "./data/tub_2_21-01-16/images/238_cam_image_array_.jpg\n",
            "./data/tub_2_21-01-16/images/239_cam_image_array_.jpg\n",
            "./data/tub_2_21-01-16/images/23_cam_image_array_.jpg\n",
            "./data/tub_2_21-01-16/images/240_cam_image_array_.jpg\n",
            "./data/tub_2_21-01-16/images/241_cam_image_array_.jpg\n",
            "./data/tub_2_21-01-16/images/242_cam_image_array_.jpg\n",
            "./data/tub_2_21-01-16/images/243_cam_image_array_.jpg\n",
            "./data/tub_2_21-01-16/images/244_cam_image_array_.jpg\n",
            "./data/tub_2_21-01-16/images/245_cam_image_array_.jpg\n",
            "./data/tub_2_21-01-16/images/246_cam_image_array_.jpg\n",
            "./data/tub_2_21-01-16/images/247_cam_image_array_.jpg\n",
            "./data/tub_2_21-01-16/images/248_cam_image_array_.jpg\n",
            "./data/tub_2_21-01-16/images/249_cam_image_array_.jpg\n",
            "./data/tub_2_21-01-16/images/24_cam_image_array_.jpg\n",
            "./data/tub_2_21-01-16/images/250_cam_image_array_.jpg\n",
            "./data/tub_2_21-01-16/images/251_cam_image_array_.jpg\n",
            "./data/tub_2_21-01-16/images/252_cam_image_array_.jpg\n",
            "./data/tub_2_21-01-16/images/253_cam_image_array_.jpg\n",
            "./data/tub_2_21-01-16/images/254_cam_image_array_.jpg\n",
            "./data/tub_2_21-01-16/images/255_cam_image_array_.jpg\n",
            "./data/tub_2_21-01-16/images/256_cam_image_array_.jpg\n",
            "./data/tub_2_21-01-16/images/257_cam_image_array_.jpg\n",
            "./data/tub_2_21-01-16/images/258_cam_image_array_.jpg\n",
            "./data/tub_2_21-01-16/images/259_cam_image_array_.jpg\n",
            "./data/tub_2_21-01-16/images/25_cam_image_array_.jpg\n",
            "./data/tub_2_21-01-16/images/260_cam_image_array_.jpg\n",
            "./data/tub_2_21-01-16/images/261_cam_image_array_.jpg\n",
            "./data/tub_2_21-01-16/images/262_cam_image_array_.jpg\n",
            "./data/tub_2_21-01-16/images/263_cam_image_array_.jpg\n",
            "./data/tub_2_21-01-16/images/264_cam_image_array_.jpg\n",
            "./data/tub_2_21-01-16/images/265_cam_image_array_.jpg\n",
            "./data/tub_2_21-01-16/images/266_cam_image_array_.jpg\n",
            "./data/tub_2_21-01-16/images/267_cam_image_array_.jpg\n",
            "./data/tub_2_21-01-16/images/268_cam_image_array_.jpg\n",
            "./data/tub_2_21-01-16/images/269_cam_image_array_.jpg\n",
            "./data/tub_2_21-01-16/images/26_cam_image_array_.jpg\n",
            "./data/tub_2_21-01-16/images/270_cam_image_array_.jpg\n",
            "./data/tub_2_21-01-16/images/271_cam_image_array_.jpg\n",
            "./data/tub_2_21-01-16/images/272_cam_image_array_.jpg\n",
            "./data/tub_2_21-01-16/images/273_cam_image_array_.jpg\n",
            "./data/tub_2_21-01-16/images/274_cam_image_array_.jpg\n",
            "./data/tub_2_21-01-16/images/275_cam_image_array_.jpg\n",
            "./data/tub_2_21-01-16/images/276_cam_image_array_.jpg\n",
            "./data/tub_2_21-01-16/images/277_cam_image_array_.jpg\n",
            "./data/tub_2_21-01-16/images/278_cam_image_array_.jpg\n",
            "./data/tub_2_21-01-16/images/279_cam_image_array_.jpg\n",
            "./data/tub_2_21-01-16/images/27_cam_image_array_.jpg\n",
            "./data/tub_2_21-01-16/images/280_cam_image_array_.jpg\n",
            "./data/tub_2_21-01-16/images/281_cam_image_array_.jpg\n",
            "./data/tub_2_21-01-16/images/282_cam_image_array_.jpg\n",
            "./data/tub_2_21-01-16/images/283_cam_image_array_.jpg\n",
            "./data/tub_2_21-01-16/images/284_cam_image_array_.jpg\n",
            "./data/tub_2_21-01-16/images/285_cam_image_array_.jpg\n",
            "./data/tub_2_21-01-16/images/286_cam_image_array_.jpg\n",
            "./data/tub_2_21-01-16/images/287_cam_image_array_.jpg\n",
            "./data/tub_2_21-01-16/images/288_cam_image_array_.jpg\n",
            "./data/tub_2_21-01-16/images/289_cam_image_array_.jpg\n",
            "./data/tub_2_21-01-16/images/28_cam_image_array_.jpg\n",
            "./data/tub_2_21-01-16/images/290_cam_image_array_.jpg\n",
            "./data/tub_2_21-01-16/images/291_cam_image_array_.jpg\n",
            "./data/tub_2_21-01-16/images/292_cam_image_array_.jpg\n",
            "./data/tub_2_21-01-16/images/293_cam_image_array_.jpg\n",
            "./data/tub_2_21-01-16/images/294_cam_image_array_.jpg\n",
            "./data/tub_2_21-01-16/images/295_cam_image_array_.jpg\n",
            "./data/tub_2_21-01-16/images/296_cam_image_array_.jpg\n",
            "./data/tub_2_21-01-16/images/297_cam_image_array_.jpg\n",
            "./data/tub_2_21-01-16/images/298_cam_image_array_.jpg\n",
            "./data/tub_2_21-01-16/images/299_cam_image_array_.jpg\n",
            "./data/tub_2_21-01-16/images/29_cam_image_array_.jpg\n",
            "./data/tub_2_21-01-16/images/2_cam_image_array_.jpg\n",
            "./data/tub_2_21-01-16/images/300_cam_image_array_.jpg\n",
            "./data/tub_2_21-01-16/images/301_cam_image_array_.jpg\n",
            "./data/tub_2_21-01-16/images/302_cam_image_array_.jpg\n",
            "./data/tub_2_21-01-16/images/303_cam_image_array_.jpg\n",
            "./data/tub_2_21-01-16/images/304_cam_image_array_.jpg\n",
            "./data/tub_2_21-01-16/images/305_cam_image_array_.jpg\n",
            "./data/tub_2_21-01-16/images/306_cam_image_array_.jpg\n",
            "./data/tub_2_21-01-16/images/307_cam_image_array_.jpg\n",
            "./data/tub_2_21-01-16/images/308_cam_image_array_.jpg\n",
            "./data/tub_2_21-01-16/images/309_cam_image_array_.jpg\n",
            "./data/tub_2_21-01-16/images/30_cam_image_array_.jpg\n",
            "./data/tub_2_21-01-16/images/310_cam_image_array_.jpg\n",
            "./data/tub_2_21-01-16/images/311_cam_image_array_.jpg\n",
            "./data/tub_2_21-01-16/images/312_cam_image_array_.jpg\n",
            "./data/tub_2_21-01-16/images/313_cam_image_array_.jpg\n",
            "./data/tub_2_21-01-16/images/314_cam_image_array_.jpg\n",
            "./data/tub_2_21-01-16/images/315_cam_image_array_.jpg\n",
            "./data/tub_2_21-01-16/images/316_cam_image_array_.jpg\n",
            "./data/tub_2_21-01-16/images/317_cam_image_array_.jpg\n",
            "./data/tub_2_21-01-16/images/318_cam_image_array_.jpg\n",
            "./data/tub_2_21-01-16/images/319_cam_image_array_.jpg\n",
            "./data/tub_2_21-01-16/images/31_cam_image_array_.jpg\n",
            "./data/tub_2_21-01-16/images/320_cam_image_array_.jpg\n",
            "./data/tub_2_21-01-16/images/321_cam_image_array_.jpg\n",
            "./data/tub_2_21-01-16/images/322_cam_image_array_.jpg\n",
            "./data/tub_2_21-01-16/images/323_cam_image_array_.jpg\n",
            "./data/tub_2_21-01-16/images/324_cam_image_array_.jpg\n",
            "./data/tub_2_21-01-16/images/325_cam_image_array_.jpg\n",
            "./data/tub_2_21-01-16/images/326_cam_image_array_.jpg\n",
            "./data/tub_2_21-01-16/images/327_cam_image_array_.jpg\n",
            "./data/tub_2_21-01-16/images/328_cam_image_array_.jpg\n",
            "./data/tub_2_21-01-16/images/329_cam_image_array_.jpg\n",
            "./data/tub_2_21-01-16/images/32_cam_image_array_.jpg\n",
            "./data/tub_2_21-01-16/images/330_cam_image_array_.jpg\n",
            "./data/tub_2_21-01-16/images/331_cam_image_array_.jpg\n",
            "./data/tub_2_21-01-16/images/332_cam_image_array_.jpg\n",
            "./data/tub_2_21-01-16/images/333_cam_image_array_.jpg\n",
            "./data/tub_2_21-01-16/images/334_cam_image_array_.jpg\n",
            "./data/tub_2_21-01-16/images/335_cam_image_array_.jpg\n",
            "./data/tub_2_21-01-16/images/336_cam_image_array_.jpg\n",
            "./data/tub_2_21-01-16/images/337_cam_image_array_.jpg\n",
            "./data/tub_2_21-01-16/images/338_cam_image_array_.jpg\n",
            "./data/tub_2_21-01-16/images/339_cam_image_array_.jpg\n",
            "./data/tub_2_21-01-16/images/33_cam_image_array_.jpg\n",
            "./data/tub_2_21-01-16/images/340_cam_image_array_.jpg\n",
            "./data/tub_2_21-01-16/images/341_cam_image_array_.jpg\n",
            "./data/tub_2_21-01-16/images/342_cam_image_array_.jpg\n",
            "./data/tub_2_21-01-16/images/343_cam_image_array_.jpg\n",
            "./data/tub_2_21-01-16/images/344_cam_image_array_.jpg\n",
            "./data/tub_2_21-01-16/images/345_cam_image_array_.jpg\n",
            "./data/tub_2_21-01-16/images/346_cam_image_array_.jpg\n",
            "./data/tub_2_21-01-16/images/347_cam_image_array_.jpg\n",
            "./data/tub_2_21-01-16/images/348_cam_image_array_.jpg\n",
            "./data/tub_2_21-01-16/images/349_cam_image_array_.jpg\n",
            "./data/tub_2_21-01-16/images/34_cam_image_array_.jpg\n",
            "./data/tub_2_21-01-16/images/350_cam_image_array_.jpg\n",
            "./data/tub_2_21-01-16/images/351_cam_image_array_.jpg\n",
            "./data/tub_2_21-01-16/images/352_cam_image_array_.jpg\n",
            "./data/tub_2_21-01-16/images/353_cam_image_array_.jpg\n",
            "./data/tub_2_21-01-16/images/354_cam_image_array_.jpg\n",
            "./data/tub_2_21-01-16/images/355_cam_image_array_.jpg\n",
            "./data/tub_2_21-01-16/images/356_cam_image_array_.jpg\n",
            "./data/tub_2_21-01-16/images/357_cam_image_array_.jpg\n",
            "./data/tub_2_21-01-16/images/358_cam_image_array_.jpg\n",
            "./data/tub_2_21-01-16/images/359_cam_image_array_.jpg\n",
            "./data/tub_2_21-01-16/images/35_cam_image_array_.jpg\n",
            "./data/tub_2_21-01-16/images/360_cam_image_array_.jpg\n",
            "./data/tub_2_21-01-16/images/361_cam_image_array_.jpg\n",
            "./data/tub_2_21-01-16/images/362_cam_image_array_.jpg\n",
            "./data/tub_2_21-01-16/images/363_cam_image_array_.jpg\n",
            "./data/tub_2_21-01-16/images/364_cam_image_array_.jpg\n",
            "./data/tub_2_21-01-16/images/365_cam_image_array_.jpg\n",
            "./data/tub_2_21-01-16/images/366_cam_image_array_.jpg\n",
            "./data/tub_2_21-01-16/images/367_cam_image_array_.jpg\n",
            "./data/tub_2_21-01-16/images/368_cam_image_array_.jpg\n",
            "./data/tub_2_21-01-16/images/369_cam_image_array_.jpg\n",
            "./data/tub_2_21-01-16/images/36_cam_image_array_.jpg\n",
            "./data/tub_2_21-01-16/images/370_cam_image_array_.jpg\n",
            "./data/tub_2_21-01-16/images/371_cam_image_array_.jpg\n",
            "./data/tub_2_21-01-16/images/372_cam_image_array_.jpg\n",
            "./data/tub_2_21-01-16/images/373_cam_image_array_.jpg\n",
            "./data/tub_2_21-01-16/images/374_cam_image_array_.jpg\n",
            "./data/tub_2_21-01-16/images/375_cam_image_array_.jpg\n",
            "./data/tub_2_21-01-16/images/376_cam_image_array_.jpg\n",
            "./data/tub_2_21-01-16/images/377_cam_image_array_.jpg\n",
            "./data/tub_2_21-01-16/images/378_cam_image_array_.jpg\n",
            "./data/tub_2_21-01-16/images/379_cam_image_array_.jpg\n",
            "./data/tub_2_21-01-16/images/37_cam_image_array_.jpg\n",
            "./data/tub_2_21-01-16/images/380_cam_image_array_.jpg\n",
            "./data/tub_2_21-01-16/images/381_cam_image_array_.jpg\n",
            "./data/tub_2_21-01-16/images/382_cam_image_array_.jpg\n",
            "./data/tub_2_21-01-16/images/383_cam_image_array_.jpg\n",
            "./data/tub_2_21-01-16/images/384_cam_image_array_.jpg\n",
            "./data/tub_2_21-01-16/images/385_cam_image_array_.jpg\n",
            "./data/tub_2_21-01-16/images/386_cam_image_array_.jpg\n",
            "./data/tub_2_21-01-16/images/387_cam_image_array_.jpg\n",
            "./data/tub_2_21-01-16/images/388_cam_image_array_.jpg\n",
            "./data/tub_2_21-01-16/images/389_cam_image_array_.jpg\n",
            "./data/tub_2_21-01-16/images/38_cam_image_array_.jpg\n",
            "./data/tub_2_21-01-16/images/390_cam_image_array_.jpg\n",
            "./data/tub_2_21-01-16/images/391_cam_image_array_.jpg\n",
            "./data/tub_2_21-01-16/images/392_cam_image_array_.jpg\n",
            "./data/tub_2_21-01-16/images/393_cam_image_array_.jpg\n",
            "./data/tub_2_21-01-16/images/394_cam_image_array_.jpg\n",
            "./data/tub_2_21-01-16/images/395_cam_image_array_.jpg\n",
            "./data/tub_2_21-01-16/images/396_cam_image_array_.jpg\n",
            "./data/tub_2_21-01-16/images/397_cam_image_array_.jpg\n",
            "./data/tub_2_21-01-16/images/398_cam_image_array_.jpg\n",
            "./data/tub_2_21-01-16/images/399_cam_image_array_.jpg\n",
            "./data/tub_2_21-01-16/images/39_cam_image_array_.jpg\n",
            "./data/tub_2_21-01-16/images/3_cam_image_array_.jpg\n",
            "./data/tub_2_21-01-16/images/400_cam_image_array_.jpg\n",
            "./data/tub_2_21-01-16/images/401_cam_image_array_.jpg\n",
            "./data/tub_2_21-01-16/images/402_cam_image_array_.jpg\n",
            "./data/tub_2_21-01-16/images/403_cam_image_array_.jpg\n",
            "./data/tub_2_21-01-16/images/404_cam_image_array_.jpg\n",
            "./data/tub_2_21-01-16/images/405_cam_image_array_.jpg\n",
            "./data/tub_2_21-01-16/images/406_cam_image_array_.jpg\n",
            "./data/tub_2_21-01-16/images/407_cam_image_array_.jpg\n",
            "./data/tub_2_21-01-16/images/408_cam_image_array_.jpg\n",
            "./data/tub_2_21-01-16/images/40_cam_image_array_.jpg\n",
            "./data/tub_2_21-01-16/images/41_cam_image_array_.jpg\n",
            "./data/tub_2_21-01-16/images/42_cam_image_array_.jpg\n",
            "./data/tub_2_21-01-16/images/43_cam_image_array_.jpg\n",
            "./data/tub_2_21-01-16/images/44_cam_image_array_.jpg\n",
            "./data/tub_2_21-01-16/images/45_cam_image_array_.jpg\n",
            "./data/tub_2_21-01-16/images/46_cam_image_array_.jpg\n",
            "./data/tub_2_21-01-16/images/47_cam_image_array_.jpg\n",
            "./data/tub_2_21-01-16/images/48_cam_image_array_.jpg\n",
            "./data/tub_2_21-01-16/images/49_cam_image_array_.jpg\n",
            "./data/tub_2_21-01-16/images/4_cam_image_array_.jpg\n",
            "./data/tub_2_21-01-16/images/50_cam_image_array_.jpg\n",
            "./data/tub_2_21-01-16/images/51_cam_image_array_.jpg\n",
            "./data/tub_2_21-01-16/images/52_cam_image_array_.jpg\n",
            "./data/tub_2_21-01-16/images/53_cam_image_array_.jpg\n",
            "./data/tub_2_21-01-16/images/54_cam_image_array_.jpg\n",
            "./data/tub_2_21-01-16/images/55_cam_image_array_.jpg\n",
            "./data/tub_2_21-01-16/images/56_cam_image_array_.jpg\n",
            "./data/tub_2_21-01-16/images/57_cam_image_array_.jpg\n",
            "./data/tub_2_21-01-16/images/58_cam_image_array_.jpg\n",
            "./data/tub_2_21-01-16/images/59_cam_image_array_.jpg\n",
            "./data/tub_2_21-01-16/images/5_cam_image_array_.jpg\n",
            "./data/tub_2_21-01-16/images/60_cam_image_array_.jpg\n",
            "./data/tub_2_21-01-16/images/61_cam_image_array_.jpg\n",
            "./data/tub_2_21-01-16/images/62_cam_image_array_.jpg\n",
            "./data/tub_2_21-01-16/images/63_cam_image_array_.jpg\n",
            "./data/tub_2_21-01-16/images/64_cam_image_array_.jpg\n",
            "./data/tub_2_21-01-16/images/65_cam_image_array_.jpg\n",
            "./data/tub_2_21-01-16/images/66_cam_image_array_.jpg\n",
            "./data/tub_2_21-01-16/images/67_cam_image_array_.jpg\n",
            "./data/tub_2_21-01-16/images/68_cam_image_array_.jpg\n",
            "./data/tub_2_21-01-16/images/69_cam_image_array_.jpg\n",
            "./data/tub_2_21-01-16/images/6_cam_image_array_.jpg\n",
            "./data/tub_2_21-01-16/images/70_cam_image_array_.jpg\n",
            "./data/tub_2_21-01-16/images/71_cam_image_array_.jpg\n",
            "./data/tub_2_21-01-16/images/72_cam_image_array_.jpg\n",
            "./data/tub_2_21-01-16/images/73_cam_image_array_.jpg\n",
            "./data/tub_2_21-01-16/images/74_cam_image_array_.jpg\n",
            "./data/tub_2_21-01-16/images/75_cam_image_array_.jpg\n",
            "./data/tub_2_21-01-16/images/76_cam_image_array_.jpg\n",
            "./data/tub_2_21-01-16/images/77_cam_image_array_.jpg\n",
            "./data/tub_2_21-01-16/images/78_cam_image_array_.jpg\n",
            "./data/tub_2_21-01-16/images/79_cam_image_array_.jpg\n",
            "./data/tub_2_21-01-16/images/7_cam_image_array_.jpg\n",
            "./data/tub_2_21-01-16/images/80_cam_image_array_.jpg\n",
            "./data/tub_2_21-01-16/images/81_cam_image_array_.jpg\n",
            "./data/tub_2_21-01-16/images/82_cam_image_array_.jpg\n",
            "./data/tub_2_21-01-16/images/83_cam_image_array_.jpg\n",
            "./data/tub_2_21-01-16/images/84_cam_image_array_.jpg\n",
            "./data/tub_2_21-01-16/images/85_cam_image_array_.jpg\n",
            "./data/tub_2_21-01-16/images/86_cam_image_array_.jpg\n",
            "./data/tub_2_21-01-16/images/87_cam_image_array_.jpg\n",
            "./data/tub_2_21-01-16/images/88_cam_image_array_.jpg\n",
            "./data/tub_2_21-01-16/images/89_cam_image_array_.jpg\n",
            "./data/tub_2_21-01-16/images/8_cam_image_array_.jpg\n",
            "./data/tub_2_21-01-16/images/90_cam_image_array_.jpg\n",
            "./data/tub_2_21-01-16/images/91_cam_image_array_.jpg\n",
            "./data/tub_2_21-01-16/images/92_cam_image_array_.jpg\n",
            "./data/tub_2_21-01-16/images/93_cam_image_array_.jpg\n",
            "./data/tub_2_21-01-16/images/94_cam_image_array_.jpg\n",
            "./data/tub_2_21-01-16/images/95_cam_image_array_.jpg\n",
            "./data/tub_2_21-01-16/images/96_cam_image_array_.jpg\n",
            "./data/tub_2_21-01-16/images/97_cam_image_array_.jpg\n",
            "./data/tub_2_21-01-16/images/98_cam_image_array_.jpg\n",
            "./data/tub_2_21-01-16/images/99_cam_image_array_.jpg\n",
            "./data/tub_2_21-01-16/images/9_cam_image_array_.jpg\n",
            "./data/tub_2_21-01-16/manifest.json\n"
          ],
          "name": "stdout"
        }
      ]
    },
    {
      "cell_type": "code",
      "metadata": {
        "id": "DDibQIyQ7x9t"
      },
      "source": [
        "#\n",
        "#데이타에서 히든파일들이 존재하는 경우 삭제\n",
        "#\n",
        "\n",
        "#%cd data\n",
        "#%cd tub_1_20-11-13\n",
        "#!rm \\._*"
      ],
      "execution_count": null,
      "outputs": []
    },
    {
      "cell_type": "code",
      "metadata": {
        "id": "YOsAgVjt8-i3",
        "colab": {
          "base_uri": "https://localhost:8080/"
        },
        "outputId": "ee6cc040-9c58-4ca0-87ce-fe94bad57cb4"
      },
      "source": [
        "%ls -a"
      ],
      "execution_count": null,
      "outputs": [
        {
          "output_type": "stream",
          "text": [
            "\u001b[0m\u001b[01;34m.\u001b[0m/   \u001b[01;32mcalibrate.py\u001b[0m*  \u001b[01;34mdata\u001b[0m/        \u001b[01;34mlogs\u001b[0m/       \u001b[01;34mmodels\u001b[0m/      \u001b[01;32mtrain.py\u001b[0m*\n",
            "\u001b[01;34m..\u001b[0m/  config.py      data.tar.gz  \u001b[01;32mmanage.py\u001b[0m*  myconfig.py\n"
          ],
          "name": "stdout"
        }
      ]
    },
    {
      "cell_type": "markdown",
      "metadata": {
        "id": "9-3U5MnYoZPY"
      },
      "source": [
        "## 4.4 PC/노트북에서 업로드된 data.tar.gz파일 삭제하기\n",
        "\n",
        "업로드된 data.zip파일을 삭제하여 tub_ 폴더만이 data폴더 안에 위치하도록 합니다."
      ]
    },
    {
      "cell_type": "code",
      "metadata": {
        "id": "bXs57m5Nh91O"
      },
      "source": [
        "!rm /content/mycar/data.tar.gz"
      ],
      "execution_count": null,
      "outputs": []
    },
    {
      "cell_type": "markdown",
      "metadata": {
        "id": "T3Ya8qEUAfOv"
      },
      "source": [
        "# 5> Donkeycar 주행영상데이타를 활용한 자율주행모델 학습하기\n",
        "\n",
        "동키카에서 지원되는 학습모듈을 사용해서 주행영상 데이타 기반의 인공지능 학습을 진행합니다. CNN(Convolution Neural Network)기반의 이미지 식별을 통한 모델 학습으로 주행영상과 실제 주행시 함께 획득한 속도와 주행방향에 대한 데이타를 입력으로 하여 주행 모델을 학습하게 됩니다.\n",
        "\n",
        "* tub_ 디렉토리가 적은 경우, 학습이 되지 않습니다. 최소 10개이상의 주행을 하고 학습하세요."
      ]
    },
    {
      "cell_type": "code",
      "metadata": {
        "id": "jqgaPmDU0tH_",
        "colab": {
          "base_uri": "https://localhost:8080/"
        },
        "outputId": "d9f09ef5-9f31-4f5a-cc3e-a1682fd4d9e8"
      },
      "source": [
        "!python /content/mycar/train.py"
      ],
      "execution_count": null,
      "outputs": [
        {
          "output_type": "stream",
          "text": [
            "________             ______                   _________              \n",
            "___  __ \\_______________  /___________  __    __  ____/_____ ________\n",
            "__  / / /  __ \\_  __ \\_  //_/  _ \\_  / / /    _  /    _  __ `/_  ___/\n",
            "_  /_/ // /_/ /  / / /  ,<  /  __/  /_/ /     / /___  / /_/ /_  /    \n",
            "/_____/ \\____//_/ /_//_/|_| \\___/_\\__, /      \\____/  \\__,_/ /_/     \n",
            "                                 /____/                              \n",
            "\n",
            "using donkey v4.1.0 ...\n",
            "Usage:\n",
            "    train.py [--tubs=tubs] (--model=<model>) [--type=(linear|inferred|tensorrt_linear|tflite_linear)]\n"
          ],
          "name": "stdout"
        }
      ]
    },
    {
      "cell_type": "markdown",
      "metadata": {
        "id": "y8CXjWDrNai_"
      },
      "source": [
        "## 5.1 tubs 파일경로 설정하기"
      ]
    },
    {
      "cell_type": "code",
      "metadata": {
        "colab": {
          "base_uri": "https://localhost:8080/"
        },
        "id": "tR63qxesNjbL",
        "outputId": "ba83cdd4-65b2-4975-daeb-a9e33ca28087"
      },
      "source": [
        "dir_list = os.listdir('/content/mycar/data')\r\n",
        "print(dir_list)"
      ],
      "execution_count": null,
      "outputs": [
        {
          "output_type": "stream",
          "text": [
            "['tub_1_21-01-15', 'tub_2_21-01-16']\n"
          ],
          "name": "stdout"
        }
      ]
    },
    {
      "cell_type": "code",
      "metadata": {
        "colab": {
          "base_uri": "https://localhost:8080/",
          "height": 35
        },
        "id": "ng_byPBfOEbi",
        "outputId": "21f572b1-a3f1-47a8-bd88-7a687f0fba16"
      },
      "source": [
        "DATA_DIR = 'data'\r\n",
        "tubs_list = ','.join([ \"%s/%s\" % (DATA_DIR,x) for x in dir_list])\r\n",
        "tubs_list"
      ],
      "execution_count": null,
      "outputs": [
        {
          "output_type": "execute_result",
          "data": {
            "application/vnd.google.colaboratory.intrinsic+json": {
              "type": "string"
            },
            "text/plain": [
              "'data/tub_1_21-01-15,data/tub_2_21-01-16'"
            ]
          },
          "metadata": {
            "tags": []
          },
          "execution_count": 39
        }
      ]
    },
    {
      "cell_type": "markdown",
      "metadata": {
        "id": "hmRtjhxVKvQQ"
      },
      "source": [
        "[주의] \n",
        "\n",
        "*   학습데이타가 128개보다 작은 경우, 오류가 발생(validation_step에서 오류발생)\n",
        "*   위의 경우, config.py파일의 BATCH_SIZE를 총 데이타갯수보다 작게 설정(e.g) BATCH_SIZE=64\n",
        "\n"
      ]
    },
    {
      "cell_type": "markdown",
      "metadata": {
        "id": "Tdiyt3fZQeuX"
      },
      "source": [
        "## 5.2 학습하기"
      ]
    },
    {
      "cell_type": "code",
      "metadata": {
        "id": "cCvUUnaHzwx8",
        "colab": {
          "base_uri": "https://localhost:8080/"
        },
        "outputId": "cad65743-4179-45a9-9e7b-40cd0c3dd9f1"
      },
      "source": [
        "#\n",
        "# 학습을 위한 데이타는 /data 디렉토리 아래의 tub_ 이름의 폴더에서 자동으로 가져와서 학습을 수행\n",
        "#\n",
        "tubs_list = 'data/tub_1_21-01-15,data/tub_2_21-01-16'\n",
        "! python /content/mycar/train.py --tubs {tubs_list} --model /content/mycar/models/mypilot.h5"
      ],
      "execution_count": null,
      "outputs": [
        {
          "output_type": "stream",
          "text": [
            "________             ______                   _________              \n",
            "___  __ \\_______________  /___________  __    __  ____/_____ ________\n",
            "__  / / /  __ \\_  __ \\_  //_/  _ \\_  / / /    _  /    _  __ `/_  ___/\n",
            "_  /_/ // /_/ /  / / /  ,<  /  __/  /_/ /     / /___  / /_/ /_  /    \n",
            "/_____/ \\____//_/ /_//_/|_| \\___/_\\__, /      \\____/  \\__,_/ /_/     \n",
            "                                 /____/                              \n",
            "\n",
            "using donkey v4.1.0 ...\n",
            "loading config file: /content/mycar/config.py\n",
            "loading personal config over-rides from myconfig.py\n",
            "\"get_model_by_type\" model Type is: linear\n",
            "Created KerasLinear\n",
            "2021-01-17 04:20:45.330918: I tensorflow/stream_executor/platform/default/dso_loader.cc:44] Successfully opened dynamic library libcuda.so.1\n",
            "2021-01-17 04:20:45.335165: I tensorflow/stream_executor/cuda/cuda_gpu_executor.cc:981] successful NUMA node read from SysFS had negative value (-1), but there must be at least one NUMA node, so returning NUMA node zero\n",
            "2021-01-17 04:20:45.335734: I tensorflow/core/common_runtime/gpu/gpu_device.cc:1561] Found device 0 with properties: \n",
            "pciBusID: 0000:00:04.0 name: Tesla T4 computeCapability: 7.5\n",
            "coreClock: 1.59GHz coreCount: 40 deviceMemorySize: 14.73GiB deviceMemoryBandwidth: 298.08GiB/s\n",
            "2021-01-17 04:20:45.335980: I tensorflow/stream_executor/platform/default/dso_loader.cc:44] Successfully opened dynamic library libcudart.so.10.1\n",
            "2021-01-17 04:20:45.339326: I tensorflow/stream_executor/platform/default/dso_loader.cc:44] Successfully opened dynamic library libcublas.so.10\n",
            "2021-01-17 04:20:45.342564: I tensorflow/stream_executor/platform/default/dso_loader.cc:44] Successfully opened dynamic library libcufft.so.10\n",
            "2021-01-17 04:20:45.343262: I tensorflow/stream_executor/platform/default/dso_loader.cc:44] Successfully opened dynamic library libcurand.so.10\n",
            "2021-01-17 04:20:45.346368: I tensorflow/stream_executor/platform/default/dso_loader.cc:44] Successfully opened dynamic library libcusolver.so.10\n",
            "2021-01-17 04:20:45.347736: I tensorflow/stream_executor/platform/default/dso_loader.cc:44] Successfully opened dynamic library libcusparse.so.10\n",
            "2021-01-17 04:20:45.354759: I tensorflow/stream_executor/platform/default/dso_loader.cc:44] Successfully opened dynamic library libcudnn.so.7\n",
            "2021-01-17 04:20:45.354878: I tensorflow/stream_executor/cuda/cuda_gpu_executor.cc:981] successful NUMA node read from SysFS had negative value (-1), but there must be at least one NUMA node, so returning NUMA node zero\n",
            "2021-01-17 04:20:45.355430: I tensorflow/stream_executor/cuda/cuda_gpu_executor.cc:981] successful NUMA node read from SysFS had negative value (-1), but there must be at least one NUMA node, so returning NUMA node zero\n",
            "2021-01-17 04:20:45.355924: I tensorflow/core/common_runtime/gpu/gpu_device.cc:1703] Adding visible gpu devices: 0\n",
            "2021-01-17 04:20:45.356180: I tensorflow/core/platform/cpu_feature_guard.cc:143] Your CPU supports instructions that this TensorFlow binary was not compiled to use: AVX2 FMA\n",
            "2021-01-17 04:20:45.361098: I tensorflow/core/platform/profile_utils/cpu_utils.cc:102] CPU Frequency: 2200000000 Hz\n",
            "2021-01-17 04:20:45.361327: I tensorflow/compiler/xla/service/service.cc:168] XLA service 0x266cf40 initialized for platform Host (this does not guarantee that XLA will be used). Devices:\n",
            "2021-01-17 04:20:45.361358: I tensorflow/compiler/xla/service/service.cc:176]   StreamExecutor device (0): Host, Default Version\n",
            "2021-01-17 04:20:45.455043: I tensorflow/stream_executor/cuda/cuda_gpu_executor.cc:981] successful NUMA node read from SysFS had negative value (-1), but there must be at least one NUMA node, so returning NUMA node zero\n",
            "2021-01-17 04:20:45.455688: I tensorflow/compiler/xla/service/service.cc:168] XLA service 0x266cd80 initialized for platform CUDA (this does not guarantee that XLA will be used). Devices:\n",
            "2021-01-17 04:20:45.455720: I tensorflow/compiler/xla/service/service.cc:176]   StreamExecutor device (0): Tesla T4, Compute Capability 7.5\n",
            "2021-01-17 04:20:45.455949: I tensorflow/stream_executor/cuda/cuda_gpu_executor.cc:981] successful NUMA node read from SysFS had negative value (-1), but there must be at least one NUMA node, so returning NUMA node zero\n",
            "2021-01-17 04:20:45.456447: I tensorflow/core/common_runtime/gpu/gpu_device.cc:1561] Found device 0 with properties: \n",
            "pciBusID: 0000:00:04.0 name: Tesla T4 computeCapability: 7.5\n",
            "coreClock: 1.59GHz coreCount: 40 deviceMemorySize: 14.73GiB deviceMemoryBandwidth: 298.08GiB/s\n",
            "2021-01-17 04:20:45.456519: I tensorflow/stream_executor/platform/default/dso_loader.cc:44] Successfully opened dynamic library libcudart.so.10.1\n",
            "2021-01-17 04:20:45.456558: I tensorflow/stream_executor/platform/default/dso_loader.cc:44] Successfully opened dynamic library libcublas.so.10\n",
            "2021-01-17 04:20:45.456582: I tensorflow/stream_executor/platform/default/dso_loader.cc:44] Successfully opened dynamic library libcufft.so.10\n",
            "2021-01-17 04:20:45.456611: I tensorflow/stream_executor/platform/default/dso_loader.cc:44] Successfully opened dynamic library libcurand.so.10\n",
            "2021-01-17 04:20:45.456660: I tensorflow/stream_executor/platform/default/dso_loader.cc:44] Successfully opened dynamic library libcusolver.so.10\n",
            "2021-01-17 04:20:45.456688: I tensorflow/stream_executor/platform/default/dso_loader.cc:44] Successfully opened dynamic library libcusparse.so.10\n",
            "2021-01-17 04:20:45.456711: I tensorflow/stream_executor/platform/default/dso_loader.cc:44] Successfully opened dynamic library libcudnn.so.7\n",
            "2021-01-17 04:20:45.456796: I tensorflow/stream_executor/cuda/cuda_gpu_executor.cc:981] successful NUMA node read from SysFS had negative value (-1), but there must be at least one NUMA node, so returning NUMA node zero\n",
            "2021-01-17 04:20:45.457351: I tensorflow/stream_executor/cuda/cuda_gpu_executor.cc:981] successful NUMA node read from SysFS had negative value (-1), but there must be at least one NUMA node, so returning NUMA node zero\n",
            "2021-01-17 04:20:45.457853: I tensorflow/core/common_runtime/gpu/gpu_device.cc:1703] Adding visible gpu devices: 0\n",
            "2021-01-17 04:20:45.457927: I tensorflow/stream_executor/platform/default/dso_loader.cc:44] Successfully opened dynamic library libcudart.so.10.1\n",
            "2021-01-17 04:20:45.459253: I tensorflow/core/common_runtime/gpu/gpu_device.cc:1102] Device interconnect StreamExecutor with strength 1 edge matrix:\n",
            "2021-01-17 04:20:45.459284: I tensorflow/core/common_runtime/gpu/gpu_device.cc:1108]      0 \n",
            "2021-01-17 04:20:45.459295: I tensorflow/core/common_runtime/gpu/gpu_device.cc:1121] 0:   N \n",
            "2021-01-17 04:20:45.459419: I tensorflow/stream_executor/cuda/cuda_gpu_executor.cc:981] successful NUMA node read from SysFS had negative value (-1), but there must be at least one NUMA node, so returning NUMA node zero\n",
            "2021-01-17 04:20:45.460041: I tensorflow/stream_executor/cuda/cuda_gpu_executor.cc:981] successful NUMA node read from SysFS had negative value (-1), but there must be at least one NUMA node, so returning NUMA node zero\n",
            "2021-01-17 04:20:45.460527: W tensorflow/core/common_runtime/gpu/gpu_bfc_allocator.cc:39] Overriding allow_growth setting because the TF_FORCE_GPU_ALLOW_GROWTH environment variable is set. Original config value was 0.\n",
            "2021-01-17 04:20:45.460569: I tensorflow/core/common_runtime/gpu/gpu_device.cc:1247] Created TensorFlow device (/job:localhost/replica:0/task:0/device:GPU:0 with 13976 MB memory) -> physical GPU (device: 0, name: Tesla T4, pci bus id: 0000:00:04.0, compute capability: 7.5)\n",
            "Model: \"model\"\n",
            "__________________________________________________________________________________________________\n",
            "Layer (type)                    Output Shape         Param #     Connected to                     \n",
            "==================================================================================================\n",
            "img_in (InputLayer)             [(None, 120, 160, 3) 0                                            \n",
            "__________________________________________________________________________________________________\n",
            "conv2d_1 (Conv2D)               (None, 58, 78, 24)   1824        img_in[0][0]                     \n",
            "__________________________________________________________________________________________________\n",
            "dropout (Dropout)               (None, 58, 78, 24)   0           conv2d_1[0][0]                   \n",
            "__________________________________________________________________________________________________\n",
            "conv2d_2 (Conv2D)               (None, 27, 37, 32)   19232       dropout[0][0]                    \n",
            "__________________________________________________________________________________________________\n",
            "dropout_1 (Dropout)             (None, 27, 37, 32)   0           conv2d_2[0][0]                   \n",
            "__________________________________________________________________________________________________\n",
            "conv2d_3 (Conv2D)               (None, 12, 17, 64)   51264       dropout_1[0][0]                  \n",
            "__________________________________________________________________________________________________\n",
            "dropout_2 (Dropout)             (None, 12, 17, 64)   0           conv2d_3[0][0]                   \n",
            "__________________________________________________________________________________________________\n",
            "conv2d_4 (Conv2D)               (None, 10, 15, 64)   36928       dropout_2[0][0]                  \n",
            "__________________________________________________________________________________________________\n",
            "dropout_3 (Dropout)             (None, 10, 15, 64)   0           conv2d_4[0][0]                   \n",
            "__________________________________________________________________________________________________\n",
            "conv2d_5 (Conv2D)               (None, 8, 13, 64)    36928       dropout_3[0][0]                  \n",
            "__________________________________________________________________________________________________\n",
            "dropout_4 (Dropout)             (None, 8, 13, 64)    0           conv2d_5[0][0]                   \n",
            "__________________________________________________________________________________________________\n",
            "flattened (Flatten)             (None, 6656)         0           dropout_4[0][0]                  \n",
            "__________________________________________________________________________________________________\n",
            "dense_1 (Dense)                 (None, 100)          665700      flattened[0][0]                  \n",
            "__________________________________________________________________________________________________\n",
            "dropout_5 (Dropout)             (None, 100)          0           dense_1[0][0]                    \n",
            "__________________________________________________________________________________________________\n",
            "dense_2 (Dense)                 (None, 50)           5050        dropout_5[0][0]                  \n",
            "__________________________________________________________________________________________________\n",
            "dropout_6 (Dropout)             (None, 50)           0           dense_2[0][0]                    \n",
            "__________________________________________________________________________________________________\n",
            "n_outputs0 (Dense)              (None, 1)            51          dropout_6[0][0]                  \n",
            "__________________________________________________________________________________________________\n",
            "n_outputs1 (Dense)              (None, 1)            51          dropout_6[0][0]                  \n",
            "==================================================================================================\n",
            "Total params: 817,028\n",
            "Trainable params: 817,028\n",
            "Non-trainable params: 0\n",
            "__________________________________________________________________________________________________\n",
            "None\n",
            "Using catalog /content/mycar/data/tub_1_21-01-15/catalog_0.catalog\n",
            "Using catalog /content/mycar/data/tub_2_21-01-16/catalog_0.catalog\n",
            "Loading tubs from paths ['data/tub_1_21-01-15', 'data/tub_2_21-01-16']\n",
            "Records # Training 357\n",
            "Records # Validation 90\n",
            "Epoch 1/100\n",
            "2021-01-17 04:20:47.103445: I tensorflow/stream_executor/platform/default/dso_loader.cc:44] Successfully opened dynamic library libcublas.so.10\n",
            "2021-01-17 04:20:47.547902: I tensorflow/stream_executor/platform/default/dso_loader.cc:44] Successfully opened dynamic library libcudnn.so.7\n",
            "3/3 [==============================] - ETA: 0s - loss: 0.0812 - n_outputs0_loss: 0.0252 - n_outputs1_loss: 0.0560\n",
            "Epoch 00001: val_loss improved from inf to 0.05897, saving model to /content/mycar/models/mypilot.h5\n",
            "3/3 [==============================] - 1s 266ms/step - loss: 0.0812 - n_outputs0_loss: 0.0252 - n_outputs1_loss: 0.0560 - val_loss: 0.0590 - val_n_outputs0_loss: 0.0121 - val_n_outputs1_loss: 0.0469\n",
            "Epoch 2/100\n",
            "3/3 [==============================] - ETA: 0s - loss: 0.0662 - n_outputs0_loss: 0.0208 - n_outputs1_loss: 0.0454\n",
            "Epoch 00002: val_loss improved from 0.05897 to 0.03003, saving model to /content/mycar/models/mypilot.h5\n",
            "3/3 [==============================] - 0s 143ms/step - loss: 0.0662 - n_outputs0_loss: 0.0208 - n_outputs1_loss: 0.0454 - val_loss: 0.0300 - val_n_outputs0_loss: 0.0121 - val_n_outputs1_loss: 0.0179\n",
            "Epoch 3/100\n",
            "3/3 [==============================] - ETA: 0s - loss: 0.0529 - n_outputs0_loss: 0.0200 - n_outputs1_loss: 0.0329\n",
            "Epoch 00003: val_loss did not improve from 0.03003\n",
            "3/3 [==============================] - 0s 124ms/step - loss: 0.0529 - n_outputs0_loss: 0.0200 - n_outputs1_loss: 0.0329 - val_loss: 0.0526 - val_n_outputs0_loss: 0.0121 - val_n_outputs1_loss: 0.0405\n",
            "Epoch 4/100\n",
            "3/3 [==============================] - ETA: 0s - loss: 0.0534 - n_outputs0_loss: 0.0184 - n_outputs1_loss: 0.0350\n",
            "Epoch 00004: val_loss improved from 0.03003 to 0.02220, saving model to /content/mycar/models/mypilot.h5\n",
            "3/3 [==============================] - 0s 141ms/step - loss: 0.0534 - n_outputs0_loss: 0.0184 - n_outputs1_loss: 0.0350 - val_loss: 0.0222 - val_n_outputs0_loss: 0.0126 - val_n_outputs1_loss: 0.0096\n",
            "Epoch 5/100\n",
            "3/3 [==============================] - ETA: 0s - loss: 0.0484 - n_outputs0_loss: 0.0224 - n_outputs1_loss: 0.0260\n",
            "Epoch 00005: val_loss did not improve from 0.02220\n",
            "3/3 [==============================] - 0s 133ms/step - loss: 0.0484 - n_outputs0_loss: 0.0224 - n_outputs1_loss: 0.0260 - val_loss: 0.0251 - val_n_outputs0_loss: 0.0121 - val_n_outputs1_loss: 0.0130\n",
            "Epoch 6/100\n",
            "3/3 [==============================] - ETA: 0s - loss: 0.0445 - n_outputs0_loss: 0.0204 - n_outputs1_loss: 0.0241\n",
            "Epoch 00006: val_loss did not improve from 0.02220\n",
            "3/3 [==============================] - 0s 127ms/step - loss: 0.0445 - n_outputs0_loss: 0.0204 - n_outputs1_loss: 0.0241 - val_loss: 0.0333 - val_n_outputs0_loss: 0.0121 - val_n_outputs1_loss: 0.0211\n",
            "Epoch 7/100\n",
            "3/3 [==============================] - ETA: 0s - loss: 0.0461 - n_outputs0_loss: 0.0192 - n_outputs1_loss: 0.0269\n",
            "Epoch 00007: val_loss did not improve from 0.02220\n",
            "3/3 [==============================] - 0s 134ms/step - loss: 0.0461 - n_outputs0_loss: 0.0192 - n_outputs1_loss: 0.0269 - val_loss: 0.0247 - val_n_outputs0_loss: 0.0123 - val_n_outputs1_loss: 0.0125\n",
            "Epoch 8/100\n",
            "3/3 [==============================] - ETA: 0s - loss: 0.0428 - n_outputs0_loss: 0.0211 - n_outputs1_loss: 0.0216\n",
            "Epoch 00008: val_loss improved from 0.02220 to 0.01919, saving model to /content/mycar/models/mypilot.h5\n",
            "3/3 [==============================] - 0s 154ms/step - loss: 0.0428 - n_outputs0_loss: 0.0211 - n_outputs1_loss: 0.0216 - val_loss: 0.0192 - val_n_outputs0_loss: 0.0122 - val_n_outputs1_loss: 0.0070\n",
            "Epoch 9/100\n",
            "3/3 [==============================] - ETA: 0s - loss: 0.0435 - n_outputs0_loss: 0.0203 - n_outputs1_loss: 0.0232\n",
            "Epoch 00009: val_loss did not improve from 0.01919\n",
            "3/3 [==============================] - 0s 135ms/step - loss: 0.0435 - n_outputs0_loss: 0.0203 - n_outputs1_loss: 0.0232 - val_loss: 0.0220 - val_n_outputs0_loss: 0.0121 - val_n_outputs1_loss: 0.0099\n",
            "Epoch 10/100\n",
            "3/3 [==============================] - ETA: 0s - loss: 0.0420 - n_outputs0_loss: 0.0199 - n_outputs1_loss: 0.0221\n",
            "Epoch 00010: val_loss did not improve from 0.01919\n",
            "3/3 [==============================] - 0s 133ms/step - loss: 0.0420 - n_outputs0_loss: 0.0199 - n_outputs1_loss: 0.0221 - val_loss: 0.0237 - val_n_outputs0_loss: 0.0121 - val_n_outputs1_loss: 0.0115\n",
            "Epoch 11/100\n",
            "3/3 [==============================] - ETA: 0s - loss: 0.0431 - n_outputs0_loss: 0.0203 - n_outputs1_loss: 0.0228\n",
            "Epoch 00011: val_loss did not improve from 0.01919\n",
            "3/3 [==============================] - 0s 133ms/step - loss: 0.0431 - n_outputs0_loss: 0.0203 - n_outputs1_loss: 0.0228 - val_loss: 0.0213 - val_n_outputs0_loss: 0.0121 - val_n_outputs1_loss: 0.0091\n",
            "Epoch 12/100\n",
            "3/3 [==============================] - ETA: 0s - loss: 0.0412 - n_outputs0_loss: 0.0194 - n_outputs1_loss: 0.0218\n",
            "Epoch 00012: val_loss did not improve from 0.01919\n",
            "3/3 [==============================] - 0s 139ms/step - loss: 0.0412 - n_outputs0_loss: 0.0194 - n_outputs1_loss: 0.0218 - val_loss: 0.0195 - val_n_outputs0_loss: 0.0121 - val_n_outputs1_loss: 0.0074\n",
            "Epoch 13/100\n",
            "3/3 [==============================] - ETA: 0s - loss: 0.0402 - n_outputs0_loss: 0.0197 - n_outputs1_loss: 0.0206\n",
            "Epoch 00013: val_loss did not improve from 0.01919\n",
            "3/3 [==============================] - 0s 135ms/step - loss: 0.0402 - n_outputs0_loss: 0.0197 - n_outputs1_loss: 0.0206 - val_loss: 0.0196 - val_n_outputs0_loss: 0.0121 - val_n_outputs1_loss: 0.0075\n"
          ],
          "name": "stdout"
        }
      ]
    },
    {
      "cell_type": "markdown",
      "metadata": {
        "id": "hfERkGy821Xy"
      },
      "source": [
        "# 6> 자율주행모드로 동키카 운행하기\n",
        "\n",
        "* PC/노트북에 다운로드한 인공지능 모델(*.h5)를 폴더에 저장합니다.\n",
        "\n",
        "* 저장이 완료된 모델을 탑재한 라즈베리파이 SD카드를 동키카에 적재하고 동키카에 전원을 넣어 부팅합니다.\n",
        "\n",
        "* 노트북/PC에서 SSH로 동키카에 접속한 후, 아래의 명령을 입력하여 자율주행 모드로의 실행을 설정합니다.\n",
        "\n",
        "```\n",
        "# 동키카에 탑재된 라즈베리파이에서 수행할 코드\n",
        "\n",
        "$cd mycar [enter]\n",
        "$python manage.py drive --model /mycar/models/mypilot.h5 [enter]\n",
        "```\n",
        "\n",
        "\n",
        "\n",
        "\n"
      ]
    },
    {
      "cell_type": "markdown",
      "metadata": {
        "id": "kxTAj6h2DTCe"
      },
      "source": [
        "## 7> PC에 설치된 Donkeycar 시뮬레이터에서 학습된 모델 작동시키기\n",
        "\n",
        "<참고>\n",
        "동키카 시뮬레이터 사용에 대해서는 아래의 링크를 참고하세요.\n",
        "* https://docs.donkeycar.com/guide/simulator/\n",
        "\n",
        "1. PC/Notebook에 설치된 simulator의 디렉토리로 이동합니다. 시뮬레이터 구동을 위한 동키카 프로젝트 폴더를 생성했다면, 해당디렉토리로 이동합니다(여기서는 ~/mysim으로 가정)\n",
        "2. 해당 디렉토리로 이동해서 simulator를 구동합니다.\n",
        "    * mysconfig.py파일에서 DONKEY_SIM_PATH가 시뮬레이터의 경로를 잘 설정하고 있는지 확인 부탁드립니다.\n",
        "3. 학습된 자율주행모델(*.h5)를 ~/mysim 디렉토리 아래의 models 디렉토리에 복사합니다.\n",
        "4. 아래의 명령어를 입력해서 자율주행을 실행합니다.\n",
        "    * ```$python manage.py drive --model models/mypilot.h5 ```    \n",
        "5. 유니티(Unity) 시뮬레이터창이 표시되고, 터미널에서 localhost:8887 접속에 대한 내용이 안내되면 웹브라우져를 실행하고 시뮬레이터에 접속합니다.\n",
        "6. 표시되는 웹 브라우져내의 drive창에서 아래의 Mode&Pilot의 Local Pilot으로 설정하면 자동주행을 합니다.\n",
        "\n",
        "![시뮬레이터 자율주행 설정](https://api.monosnap.com/file/download?id=PLU9FFdile460iwnUUCNvgdHKDLhHT)"
      ]
    }
  ]
}