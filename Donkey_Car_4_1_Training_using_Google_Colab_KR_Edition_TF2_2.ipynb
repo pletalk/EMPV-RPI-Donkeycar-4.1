{
  "nbformat": 4,
  "nbformat_minor": 0,
  "metadata": {
    "colab": {
      "name": "Donkey Car-4.1_Training using Google Colab-KR Edition-TF2.2",
      "provenance": [],
      "collapsed_sections": [],
      "toc_visible": true,
      "include_colab_link": true
    },
    "kernelspec": {
      "name": "python3",
      "display_name": "Python 3"
    },
    "accelerator": "GPU"
  },
  "cells": [
    {
      "cell_type": "markdown",
      "metadata": {
        "id": "view-in-github",
        "colab_type": "text"
      },
      "source": [
        "<a href=\"https://colab.research.google.com/github/pletalk/EMPV-RPI-Donkeycar-4.1/blob/main/Donkey_Car_4_1_Training_using_Google_Colab_KR_Edition_TF2_2.ipynb\" target=\"_parent\"><img src=\"https://colab.research.google.com/assets/colab-badge.svg\" alt=\"Open In Colab\"/></a>"
      ]
    },
    {
      "cell_type": "markdown",
      "metadata": {
        "id": "BlmQIFSLZDdc"
      },
      "source": [
        "# 동키카 4.1 지원 Google Colaboratory를 활용한 동키카 학습을 위한 단계별 가이드\n",
        "\n",
        "@2021-03-15/Ignitespark\n",
        "\n",
        "Google에서 지원하는 Colaboratory 환경에서 Donkey의 주행 영상데이타를 활용해서 신경회로망의 학습을 단계적으로 수행하도록 안내하는 노트북입니다. 4.1에서는 Tensorflow 2.0이상을 지원합니다.\n",
        "\n",
        "원할한 수행을 위해서 메뉴의 런타임 > 런타임 유형변경에서 GPU/TPU를 선택해 주세요.\n",
        "\n",
        "<참고>\n",
        "* donkeycar visualization - https://colab.research.google.com/github/uwesterr/MlFastAiBlog/blob/master/_notebooks/2020-03-01-TrainDonkeyCar.ipynb"
      ]
    },
    {
      "cell_type": "markdown",
      "metadata": {
        "id": "PcxPuVeq6rQI"
      },
      "source": [
        "# 0 > Google Colaboratory를 사용하기 전에 알아두어야할 사항들"
      ]
    },
    {
      "cell_type": "markdown",
      "metadata": {
        "id": "Z17oTx4n6xn_"
      },
      "source": [
        "Google Colaboratory는 구글이 지원하는 머신러닝 및 데이타처리를 위한 무료 서비스 플랫폼입니다. Google Colaboratory에서는 고성능의 GPU를 제공하여 머신러닝의 학습속도를 빠르게 수행할 수 있는 우수한 기능을 제공하고 있습니다. 이런 기능들을 활용하는데 있어서 반드시 알아두어야할 사항들은 아래와 같습니다.\n",
        "\n",
        "\n",
        "* Google Colaboratory는 12시간 동안만 사용 가능합니다. 사용자가 프로그램 수행을 위한 노트를 개설하고 수행하는데 있어서 최대 12시간 이내에서만 사용할 수 있습니다. Google Colaboratory는 12시간이 지나면 개인에게 할당했던 모든 컴퓨팅 자원(CPU,메모리,GPU등)을 리셋(재설정)합니다.\n",
        "\n",
        "* 12시간 이내라도 80분간 사용하지 않으면, 개인에게 할당했던 모든 컴퓨팅 자원(CPU,메모리,GPU등)을 리셋(재설정)합니다.\n",
        "\n",
        "* 할당된 자원이 리셋(재설정)되었다고 다시 사용하지 못하는 것은 아닙니다. 개인의 구글 드라이브에 저장된 Google Laboratory에서 작성한 주피터 노트북을 다시 로드하고 프로젝트를 새로이 시작하면 됩니다. 또 다른 12시간의 개발과 테스팅 시간이 시작됩니다.\n",
        "\n",
        "* Google Laboratory에서 수행한 내용들은 주피터 노트북에 과정과 내용을 기록하여 재 사용가능하도록 합니다. 생성하거나 사용한 노트북은 개인의 구글 드라이브에 파일로 저장이 가능합니다."
      ]
    },
    {
      "cell_type": "markdown",
      "metadata": {
        "id": "5l4MpFXFip98"
      },
      "source": [
        "# 1 > Google Colaboratory의 컴퓨팅 환경\n",
        "\n",
        "구글의 Colaboratory에서 지원되는 기본적인 컴퓨팅 환경의 다양한 정보들을 통해 성능을 확인해봅니다."
      ]
    },
    {
      "cell_type": "markdown",
      "metadata": {
        "id": "EJjLud26jNI7"
      },
      "source": [
        "## 1.1 OS 확인하기"
      ]
    },
    {
      "cell_type": "code",
      "metadata": {
        "id": "og0R-h2zipTQ",
        "colab": {
          "base_uri": "https://localhost:8080/"
        },
        "outputId": "557b30b2-2cca-4ed1-ed2f-caa5750609cb"
      },
      "source": [
        "! cat /etc/issue.net"
      ],
      "execution_count": 2,
      "outputs": [
        {
          "output_type": "stream",
          "text": [
            "Ubuntu 18.04.5 LTS\n"
          ],
          "name": "stdout"
        }
      ]
    },
    {
      "cell_type": "markdown",
      "metadata": {
        "id": "Z4QMph5LjUeE"
      },
      "source": [
        "## 1.2 Google Colaboratory GPU 정보보기"
      ]
    },
    {
      "cell_type": "code",
      "metadata": {
        "id": "c8tmMHYcjZ4c",
        "colab": {
          "base_uri": "https://localhost:8080/"
        },
        "outputId": "3d256901-3d78-4ac2-fd73-f832c5c26f8e"
      },
      "source": [
        "! nvidia-smi"
      ],
      "execution_count": 3,
      "outputs": [
        {
          "output_type": "stream",
          "text": [
            "Mon Mar 15 08:37:14 2021       \n",
            "+-----------------------------------------------------------------------------+\n",
            "| NVIDIA-SMI 460.56       Driver Version: 460.32.03    CUDA Version: 11.2     |\n",
            "|-------------------------------+----------------------+----------------------+\n",
            "| GPU  Name        Persistence-M| Bus-Id        Disp.A | Volatile Uncorr. ECC |\n",
            "| Fan  Temp  Perf  Pwr:Usage/Cap|         Memory-Usage | GPU-Util  Compute M. |\n",
            "|                               |                      |               MIG M. |\n",
            "|===============================+======================+======================|\n",
            "|   0  Tesla K80           Off  | 00000000:00:04.0 Off |                    0 |\n",
            "| N/A   36C    P8    28W / 149W |      0MiB / 11441MiB |      0%      Default |\n",
            "|                               |                      |                  N/A |\n",
            "+-------------------------------+----------------------+----------------------+\n",
            "                                                                               \n",
            "+-----------------------------------------------------------------------------+\n",
            "| Processes:                                                                  |\n",
            "|  GPU   GI   CI        PID   Type   Process name                  GPU Memory |\n",
            "|        ID   ID                                                   Usage      |\n",
            "|=============================================================================|\n",
            "|  No running processes found                                                 |\n",
            "+-----------------------------------------------------------------------------+\n"
          ],
          "name": "stdout"
        }
      ]
    },
    {
      "cell_type": "markdown",
      "metadata": {
        "id": "TU6Q-ZqFjp1M"
      },
      "source": [
        "## 1.3 메모리 용량 파악하기"
      ]
    },
    {
      "cell_type": "code",
      "metadata": {
        "id": "GC0zt4zNjqK3",
        "colab": {
          "base_uri": "https://localhost:8080/"
        },
        "outputId": "13d62fec-e90d-4e75-9df4-bcbc8fbed46a"
      },
      "source": [
        "! cat /proc/meminfo"
      ],
      "execution_count": 4,
      "outputs": [
        {
          "output_type": "stream",
          "text": [
            "MemTotal:       13333568 kB\n",
            "MemFree:         2806852 kB\n",
            "MemAvailable:   12456344 kB\n",
            "Buffers:          141388 kB\n",
            "Cached:          9385500 kB\n",
            "SwapCached:            0 kB\n",
            "Active:           942920 kB\n",
            "Inactive:        9009676 kB\n",
            "Active(anon):     367308 kB\n",
            "Inactive(anon):      360 kB\n",
            "Active(file):     575612 kB\n",
            "Inactive(file):  9009316 kB\n",
            "Unevictable:           0 kB\n",
            "Mlocked:               0 kB\n",
            "SwapTotal:             0 kB\n",
            "SwapFree:              0 kB\n",
            "Dirty:               692 kB\n",
            "Writeback:             0 kB\n",
            "AnonPages:        425740 kB\n",
            "Mapped:           207636 kB\n",
            "Shmem:              1016 kB\n",
            "Slab:             434944 kB\n",
            "SReclaimable:     389780 kB\n",
            "SUnreclaim:        45164 kB\n",
            "KernelStack:        4064 kB\n",
            "PageTables:         5388 kB\n",
            "NFS_Unstable:          0 kB\n",
            "Bounce:                0 kB\n",
            "WritebackTmp:          0 kB\n",
            "CommitLimit:     6666784 kB\n",
            "Committed_AS:    2959248 kB\n",
            "VmallocTotal:   34359738367 kB\n",
            "VmallocUsed:           0 kB\n",
            "VmallocChunk:          0 kB\n",
            "Percpu:             1048 kB\n",
            "AnonHugePages:         0 kB\n",
            "ShmemHugePages:        0 kB\n",
            "ShmemPmdMapped:        0 kB\n",
            "HugePages_Total:       0\n",
            "HugePages_Free:        0\n",
            "HugePages_Rsvd:        0\n",
            "HugePages_Surp:        0\n",
            "Hugepagesize:       2048 kB\n",
            "Hugetlb:               0 kB\n",
            "DirectMap4k:      185548 kB\n",
            "DirectMap2M:     5056512 kB\n",
            "DirectMap1G:    10485760 kB\n"
          ],
          "name": "stdout"
        }
      ]
    },
    {
      "cell_type": "markdown",
      "metadata": {
        "id": "YhlZkOuQj1kW"
      },
      "source": [
        "## 1.4 CPU 정보 파악하기"
      ]
    },
    {
      "cell_type": "code",
      "metadata": {
        "id": "1e4y0p2fj1sq",
        "colab": {
          "base_uri": "https://localhost:8080/"
        },
        "outputId": "9650fac7-b816-46a1-d601-49edf70fd4da"
      },
      "source": [
        "! cat /proc/cpuinfo"
      ],
      "execution_count": 5,
      "outputs": [
        {
          "output_type": "stream",
          "text": [
            "processor\t: 0\n",
            "vendor_id\t: GenuineIntel\n",
            "cpu family\t: 6\n",
            "model\t\t: 63\n",
            "model name\t: Intel(R) Xeon(R) CPU @ 2.30GHz\n",
            "stepping\t: 0\n",
            "microcode\t: 0x1\n",
            "cpu MHz\t\t: 2299.998\n",
            "cache size\t: 46080 KB\n",
            "physical id\t: 0\n",
            "siblings\t: 2\n",
            "core id\t\t: 0\n",
            "cpu cores\t: 1\n",
            "apicid\t\t: 0\n",
            "initial apicid\t: 0\n",
            "fpu\t\t: yes\n",
            "fpu_exception\t: yes\n",
            "cpuid level\t: 13\n",
            "wp\t\t: yes\n",
            "flags\t\t: fpu vme de pse tsc msr pae mce cx8 apic sep mtrr pge mca cmov pat pse36 clflush mmx fxsr sse sse2 ss ht syscall nx pdpe1gb rdtscp lm constant_tsc rep_good nopl xtopology nonstop_tsc cpuid tsc_known_freq pni pclmulqdq ssse3 fma cx16 pcid sse4_1 sse4_2 x2apic movbe popcnt aes xsave avx f16c rdrand hypervisor lahf_lm abm invpcid_single ssbd ibrs ibpb stibp fsgsbase tsc_adjust bmi1 avx2 smep bmi2 erms invpcid xsaveopt arat md_clear arch_capabilities\n",
            "bugs\t\t: cpu_meltdown spectre_v1 spectre_v2 spec_store_bypass l1tf mds swapgs\n",
            "bogomips\t: 4599.99\n",
            "clflush size\t: 64\n",
            "cache_alignment\t: 64\n",
            "address sizes\t: 46 bits physical, 48 bits virtual\n",
            "power management:\n",
            "\n",
            "processor\t: 1\n",
            "vendor_id\t: GenuineIntel\n",
            "cpu family\t: 6\n",
            "model\t\t: 63\n",
            "model name\t: Intel(R) Xeon(R) CPU @ 2.30GHz\n",
            "stepping\t: 0\n",
            "microcode\t: 0x1\n",
            "cpu MHz\t\t: 2299.998\n",
            "cache size\t: 46080 KB\n",
            "physical id\t: 0\n",
            "siblings\t: 2\n",
            "core id\t\t: 0\n",
            "cpu cores\t: 1\n",
            "apicid\t\t: 1\n",
            "initial apicid\t: 1\n",
            "fpu\t\t: yes\n",
            "fpu_exception\t: yes\n",
            "cpuid level\t: 13\n",
            "wp\t\t: yes\n",
            "flags\t\t: fpu vme de pse tsc msr pae mce cx8 apic sep mtrr pge mca cmov pat pse36 clflush mmx fxsr sse sse2 ss ht syscall nx pdpe1gb rdtscp lm constant_tsc rep_good nopl xtopology nonstop_tsc cpuid tsc_known_freq pni pclmulqdq ssse3 fma cx16 pcid sse4_1 sse4_2 x2apic movbe popcnt aes xsave avx f16c rdrand hypervisor lahf_lm abm invpcid_single ssbd ibrs ibpb stibp fsgsbase tsc_adjust bmi1 avx2 smep bmi2 erms invpcid xsaveopt arat md_clear arch_capabilities\n",
            "bugs\t\t: cpu_meltdown spectre_v1 spectre_v2 spec_store_bypass l1tf mds swapgs\n",
            "bogomips\t: 4599.99\n",
            "clflush size\t: 64\n",
            "cache_alignment\t: 64\n",
            "address sizes\t: 46 bits physical, 48 bits virtual\n",
            "power management:\n",
            "\n"
          ],
          "name": "stdout"
        }
      ]
    },
    {
      "cell_type": "markdown",
      "metadata": {
        "id": "liQZb4cDmZgy"
      },
      "source": [
        "# 2 > 텐서플로우 2.2으로 변경하기\n",
        "텐서플로우(tensorflow)와 Keras의 설치 버전을 확인합니다.\n",
        "* Google Colab에서는 tensorflow의 기본버전으로 2.4.X가 설치\n",
        "* donkeycar의 학습을 위해서 2.2.0버전을 재설치"
      ]
    },
    {
      "cell_type": "markdown",
      "metadata": {
        "id": "NlwBE9ZyAM62"
      },
      "source": [
        "### 2.1 텐서플로우 버전확인하기"
      ]
    },
    {
      "cell_type": "code",
      "metadata": {
        "colab": {
          "base_uri": "https://localhost:8080/"
        },
        "id": "Dmyx7POJIIKa",
        "outputId": "a667b825-a48c-4824-9c61-448291fa2999"
      },
      "source": [
        "! pip show tensorflow"
      ],
      "execution_count": 6,
      "outputs": [
        {
          "output_type": "stream",
          "text": [
            "Name: tensorflow\n",
            "Version: 2.2.0\n",
            "Summary: TensorFlow is an open source machine learning framework for everyone.\n",
            "Home-page: https://www.tensorflow.org/\n",
            "Author: Google Inc.\n",
            "Author-email: packages@tensorflow.org\n",
            "License: Apache 2.0\n",
            "Location: /usr/local/lib/python3.7/dist-packages\n",
            "Requires: numpy, wheel, absl-py, tensorflow-estimator, google-pasta, protobuf, wrapt, opt-einsum, six, grpcio, gast, tensorboard, termcolor, astunparse, scipy, h5py, keras-preprocessing\n",
            "Required-by: fancyimpute\n"
          ],
          "name": "stdout"
        }
      ]
    },
    {
      "cell_type": "markdown",
      "metadata": {
        "id": "uuaMzPDpAQrZ"
      },
      "source": [
        "### 2.2 Tensorflow 2.2.0 버전 설치하기"
      ]
    },
    {
      "cell_type": "code",
      "metadata": {
        "colab": {
          "base_uri": "https://localhost:8080/"
        },
        "id": "kQ4Tj0NWISa1",
        "outputId": "22ad071a-dd59-4dfc-bb73-8cdfbab8f4a3"
      },
      "source": [
        "! pip install tensorflow==2.2"
      ],
      "execution_count": 7,
      "outputs": [
        {
          "output_type": "stream",
          "text": [
            "Requirement already satisfied: tensorflow==2.2 in /usr/local/lib/python3.7/dist-packages (2.2.0)\n",
            "Requirement already satisfied: termcolor>=1.1.0 in /usr/local/lib/python3.7/dist-packages (from tensorflow==2.2) (1.1.0)\n",
            "Requirement already satisfied: protobuf>=3.8.0 in /usr/local/lib/python3.7/dist-packages (from tensorflow==2.2) (3.12.4)\n",
            "Requirement already satisfied: six>=1.12.0 in /usr/local/lib/python3.7/dist-packages (from tensorflow==2.2) (1.15.0)\n",
            "Requirement already satisfied: numpy<2.0,>=1.16.0 in /usr/local/lib/python3.7/dist-packages (from tensorflow==2.2) (1.19.5)\n",
            "Requirement already satisfied: astunparse==1.6.3 in /usr/local/lib/python3.7/dist-packages (from tensorflow==2.2) (1.6.3)\n",
            "Requirement already satisfied: wrapt>=1.11.1 in /usr/local/lib/python3.7/dist-packages (from tensorflow==2.2) (1.12.1)\n",
            "Requirement already satisfied: keras-preprocessing>=1.1.0 in /usr/local/lib/python3.7/dist-packages (from tensorflow==2.2) (1.1.2)\n",
            "Requirement already satisfied: tensorboard<2.3.0,>=2.2.0 in /usr/local/lib/python3.7/dist-packages (from tensorflow==2.2) (2.2.2)\n",
            "Requirement already satisfied: wheel>=0.26; python_version >= \"3\" in /usr/local/lib/python3.7/dist-packages (from tensorflow==2.2) (0.36.2)\n",
            "Requirement already satisfied: absl-py>=0.7.0 in /usr/local/lib/python3.7/dist-packages (from tensorflow==2.2) (0.10.0)\n",
            "Requirement already satisfied: gast==0.3.3 in /usr/local/lib/python3.7/dist-packages (from tensorflow==2.2) (0.3.3)\n",
            "Requirement already satisfied: opt-einsum>=2.3.2 in /usr/local/lib/python3.7/dist-packages (from tensorflow==2.2) (3.3.0)\n",
            "Requirement already satisfied: grpcio>=1.8.6 in /usr/local/lib/python3.7/dist-packages (from tensorflow==2.2) (1.32.0)\n",
            "Requirement already satisfied: scipy==1.4.1; python_version >= \"3\" in /usr/local/lib/python3.7/dist-packages (from tensorflow==2.2) (1.4.1)\n",
            "Requirement already satisfied: h5py<2.11.0,>=2.10.0 in /usr/local/lib/python3.7/dist-packages (from tensorflow==2.2) (2.10.0)\n",
            "Requirement already satisfied: tensorflow-estimator<2.3.0,>=2.2.0 in /usr/local/lib/python3.7/dist-packages (from tensorflow==2.2) (2.2.0)\n",
            "Requirement already satisfied: google-pasta>=0.1.8 in /usr/local/lib/python3.7/dist-packages (from tensorflow==2.2) (0.2.0)\n",
            "Requirement already satisfied: setuptools in /usr/local/lib/python3.7/dist-packages (from protobuf>=3.8.0->tensorflow==2.2) (54.0.0)\n",
            "Requirement already satisfied: markdown>=2.6.8 in /usr/local/lib/python3.7/dist-packages (from tensorboard<2.3.0,>=2.2.0->tensorflow==2.2) (3.3.4)\n",
            "Requirement already satisfied: werkzeug>=0.11.15 in /usr/local/lib/python3.7/dist-packages (from tensorboard<2.3.0,>=2.2.0->tensorflow==2.2) (1.0.1)\n",
            "Requirement already satisfied: tensorboard-plugin-wit>=1.6.0 in /usr/local/lib/python3.7/dist-packages (from tensorboard<2.3.0,>=2.2.0->tensorflow==2.2) (1.8.0)\n",
            "Requirement already satisfied: requests<3,>=2.21.0 in /usr/local/lib/python3.7/dist-packages (from tensorboard<2.3.0,>=2.2.0->tensorflow==2.2) (2.23.0)\n",
            "Requirement already satisfied: google-auth-oauthlib<0.5,>=0.4.1 in /usr/local/lib/python3.7/dist-packages (from tensorboard<2.3.0,>=2.2.0->tensorflow==2.2) (0.4.3)\n",
            "Requirement already satisfied: google-auth<2,>=1.6.3 in /usr/local/lib/python3.7/dist-packages (from tensorboard<2.3.0,>=2.2.0->tensorflow==2.2) (1.27.1)\n",
            "Requirement already satisfied: importlib-metadata; python_version < \"3.8\" in /usr/local/lib/python3.7/dist-packages (from markdown>=2.6.8->tensorboard<2.3.0,>=2.2.0->tensorflow==2.2) (3.7.0)\n",
            "Requirement already satisfied: certifi>=2017.4.17 in /usr/local/lib/python3.7/dist-packages (from requests<3,>=2.21.0->tensorboard<2.3.0,>=2.2.0->tensorflow==2.2) (2020.12.5)\n",
            "Requirement already satisfied: idna<3,>=2.5 in /usr/local/lib/python3.7/dist-packages (from requests<3,>=2.21.0->tensorboard<2.3.0,>=2.2.0->tensorflow==2.2) (2.10)\n",
            "Requirement already satisfied: urllib3!=1.25.0,!=1.25.1,<1.26,>=1.21.1 in /usr/local/lib/python3.7/dist-packages (from requests<3,>=2.21.0->tensorboard<2.3.0,>=2.2.0->tensorflow==2.2) (1.24.3)\n",
            "Requirement already satisfied: chardet<4,>=3.0.2 in /usr/local/lib/python3.7/dist-packages (from requests<3,>=2.21.0->tensorboard<2.3.0,>=2.2.0->tensorflow==2.2) (3.0.4)\n",
            "Requirement already satisfied: requests-oauthlib>=0.7.0 in /usr/local/lib/python3.7/dist-packages (from google-auth-oauthlib<0.5,>=0.4.1->tensorboard<2.3.0,>=2.2.0->tensorflow==2.2) (1.3.0)\n",
            "Requirement already satisfied: cachetools<5.0,>=2.0.0 in /usr/local/lib/python3.7/dist-packages (from google-auth<2,>=1.6.3->tensorboard<2.3.0,>=2.2.0->tensorflow==2.2) (4.2.1)\n",
            "Requirement already satisfied: rsa<5,>=3.1.4; python_version >= \"3.6\" in /usr/local/lib/python3.7/dist-packages (from google-auth<2,>=1.6.3->tensorboard<2.3.0,>=2.2.0->tensorflow==2.2) (4.7.2)\n",
            "Requirement already satisfied: pyasn1-modules>=0.2.1 in /usr/local/lib/python3.7/dist-packages (from google-auth<2,>=1.6.3->tensorboard<2.3.0,>=2.2.0->tensorflow==2.2) (0.2.8)\n",
            "Requirement already satisfied: zipp>=0.5 in /usr/local/lib/python3.7/dist-packages (from importlib-metadata; python_version < \"3.8\"->markdown>=2.6.8->tensorboard<2.3.0,>=2.2.0->tensorflow==2.2) (3.4.1)\n",
            "Requirement already satisfied: typing-extensions>=3.6.4; python_version < \"3.8\" in /usr/local/lib/python3.7/dist-packages (from importlib-metadata; python_version < \"3.8\"->markdown>=2.6.8->tensorboard<2.3.0,>=2.2.0->tensorflow==2.2) (3.7.4.3)\n",
            "Requirement already satisfied: oauthlib>=3.0.0 in /usr/local/lib/python3.7/dist-packages (from requests-oauthlib>=0.7.0->google-auth-oauthlib<0.5,>=0.4.1->tensorboard<2.3.0,>=2.2.0->tensorflow==2.2) (3.1.0)\n",
            "Requirement already satisfied: pyasn1>=0.1.3 in /usr/local/lib/python3.7/dist-packages (from rsa<5,>=3.1.4; python_version >= \"3.6\"->google-auth<2,>=1.6.3->tensorboard<2.3.0,>=2.2.0->tensorflow==2.2) (0.4.8)\n"
          ],
          "name": "stdout"
        }
      ]
    },
    {
      "cell_type": "code",
      "metadata": {
        "colab": {
          "base_uri": "https://localhost:8080/"
        },
        "id": "K0jlUIVKIeZk",
        "outputId": "79c5e2eb-6714-4468-a71e-384a5962b360"
      },
      "source": [
        "! pip show tensorflow"
      ],
      "execution_count": 8,
      "outputs": [
        {
          "output_type": "stream",
          "text": [
            "Name: tensorflow\n",
            "Version: 2.2.0\n",
            "Summary: TensorFlow is an open source machine learning framework for everyone.\n",
            "Home-page: https://www.tensorflow.org/\n",
            "Author: Google Inc.\n",
            "Author-email: packages@tensorflow.org\n",
            "License: Apache 2.0\n",
            "Location: /usr/local/lib/python3.7/dist-packages\n",
            "Requires: wheel, astunparse, grpcio, scipy, six, protobuf, opt-einsum, numpy, wrapt, termcolor, h5py, tensorboard, tensorflow-estimator, keras-preprocessing, gast, absl-py, google-pasta\n",
            "Required-by: fancyimpute\n"
          ],
          "name": "stdout"
        }
      ]
    },
    {
      "cell_type": "markdown",
      "metadata": {
        "id": "8yBuDMkIAUcu"
      },
      "source": [
        "### 2.3 설치된 tensorflow 버전 확인하기"
      ]
    },
    {
      "cell_type": "code",
      "metadata": {
        "id": "e6Jbr1_x5YHz",
        "colab": {
          "base_uri": "https://localhost:8080/"
        },
        "outputId": "b6e18cdd-9fd1-44d4-c3d7-5b01c1f37e28"
      },
      "source": [
        "#import keras\n",
        "import tensorflow as tf\n",
        "print(tf.__version__)"
      ],
      "execution_count": 9,
      "outputs": [
        {
          "output_type": "stream",
          "text": [
            "2.2.0\n"
          ],
          "name": "stdout"
        }
      ]
    },
    {
      "cell_type": "markdown",
      "metadata": {
        "id": "arsH-DhLcihq"
      },
      "source": [
        "### 2.4  GPU 확인하기\n",
        "\n",
        "\"Found GPU at: / device: GPU: 0\"이 표시되면, GPU가 이미 사용중이라는 의미입니다."
      ]
    },
    {
      "cell_type": "code",
      "metadata": {
        "id": "uQgEhuoTcg0N",
        "colab": {
          "base_uri": "https://localhost:8080/"
        },
        "outputId": "7000d5ec-58ab-46f3-e457-747642a62555"
      },
      "source": [
        "import tensorflow as tf\n",
        "device_name = tf.test.gpu_device_name()\n",
        "if device_name != '/device:GPU:0':\n",
        "  raise SystemError('GPU device not found')\n",
        "print('Found GPU at: {}'.format(device_name))"
      ],
      "execution_count": 10,
      "outputs": [
        {
          "output_type": "stream",
          "text": [
            "Found GPU at: /device:GPU:0\n"
          ],
          "name": "stdout"
        }
      ]
    },
    {
      "cell_type": "markdown",
      "metadata": {
        "id": "Ba2oPDIrsDFg"
      },
      "source": [
        "# 3 > Donkeycar 프로그램 설치 (4.x)\n",
        "\n",
        "* 2020-11-11일자 기준 4.x버전을 설치 \n",
        "\n",
        "* Donkeycar의 영상데이타 기반의 학습프로그램을 활용하기 위해서 Donkeycar의 프로그램들을 Google Colaboratory에 설치해야 합니다.\n",
        "\n",
        "* Git에 저장되어 있는 Donkeycar 프로그램 저장소에서 관련 소스코드를 가져와서 Google Colaboratory에 폴더를 생성하고 해당 소스코드를 복사하여 설치합니다."
      ]
    },
    {
      "cell_type": "code",
      "metadata": {
        "colab": {
          "base_uri": "https://localhost:8080/",
          "height": 35
        },
        "id": "wa58PkkLCOzp",
        "outputId": "8cd3e903-70a2-4113-b948-a798e4f288a4"
      },
      "source": [
        "%pwd"
      ],
      "execution_count": 12,
      "outputs": [
        {
          "output_type": "execute_result",
          "data": {
            "application/vnd.google.colaboratory.intrinsic+json": {
              "type": "string"
            },
            "text/plain": [
              "'/content/donkeycar'"
            ]
          },
          "metadata": {
            "tags": []
          },
          "execution_count": 12
        }
      ]
    },
    {
      "cell_type": "code",
      "metadata": {
        "id": "oOxd9PFUyNxI",
        "colab": {
          "base_uri": "https://localhost:8080/"
        },
        "outputId": "9f929772-4b1c-4146-a369-43597fcaca8a"
      },
      "source": [
        "! git clone https://github.com/autorope/donkeycar\n",
        "%cd donkeycar\n",
        "! git checkout master"
      ],
      "execution_count": 11,
      "outputs": [
        {
          "output_type": "stream",
          "text": [
            "Cloning into 'donkeycar'...\n",
            "remote: Enumerating objects: 3, done.\u001b[K\n",
            "remote: Counting objects: 100% (3/3), done.\u001b[K\n",
            "remote: Compressing objects: 100% (3/3), done.\u001b[K\n",
            "remote: Total 12794 (delta 0), reused 0 (delta 0), pack-reused 12791\u001b[K\n",
            "Receiving objects: 100% (12794/12794), 82.13 MiB | 26.04 MiB/s, done.\n",
            "Resolving deltas: 100% (8297/8297), done.\n",
            "/content/donkeycar\n",
            "Branch 'master' set up to track remote branch 'master' from 'origin'.\n",
            "Switched to a new branch 'master'\n"
          ],
          "name": "stdout"
        }
      ]
    },
    {
      "cell_type": "markdown",
      "metadata": {
        "id": "4E8pOE73l3Fn"
      },
      "source": [
        "### (Q) 저장된 Donkeycar 소스코드는 어디에 ?\n",
        "\n",
        "Git에서 가져온 코드들은 Google Colaboratory의 탐색창의 상단의 파일 메뉴를 클릭하면 설치된 소스코드의 디렉토리를 아래와 같이 확인이 가능합니다.\n",
        "\n",
        "* Google Colaboratory의 파일은 /content 아래에 위치합니다.\n",
        "\n",
        "![DonkeyCar Git Source Codes Folder](https://api.monosnap.com/file/download?id=Apc4BB8AwlJ1tryBBykAzdnxvAwTw1)\n",
        "\n",
        "* 사용자가 /content 디렉토리 아래에 mydata라는 새로운 디렉토리(폴더)를 생성했다면, 실제 Google Colaboratory에서는 /content/mydata 라는 폴더가 생성됩니다."
      ]
    },
    {
      "cell_type": "markdown",
      "metadata": {
        "id": "9TkkcF-gsAnx"
      },
      "source": [
        "## 3.1 DonkeyCar 프로그램 설치하기\n",
        "\n",
        "DonkeyCar 프로그램 소스코드가 저장된 donkey폴더 내의 setup.py 파일을 사용해서 설치를 진행합니다."
      ]
    },
    {
      "cell_type": "code",
      "metadata": {
        "id": "jz_PZgrByPDh",
        "colab": {
          "base_uri": "https://localhost:8080/"
        },
        "outputId": "3bc9a55f-f808-4acd-afb2-e39615fda17c"
      },
      "source": [
        "! pip install -e .[pc]"
      ],
      "execution_count": 13,
      "outputs": [
        {
          "output_type": "stream",
          "text": [
            "Obtaining file:///content/donkeycar\n",
            "Requirement already satisfied: numpy in /usr/local/lib/python3.7/dist-packages (from donkeycar==4.1.0) (1.19.5)\n",
            "Requirement already satisfied: pillow in /usr/local/lib/python3.7/dist-packages (from donkeycar==4.1.0) (7.0.0)\n",
            "Requirement already satisfied: docopt in /usr/local/lib/python3.7/dist-packages (from donkeycar==4.1.0) (0.6.2)\n",
            "Requirement already satisfied: tornado in /usr/local/lib/python3.7/dist-packages (from donkeycar==4.1.0) (5.1.1)\n",
            "Requirement already satisfied: requests in /usr/local/lib/python3.7/dist-packages (from donkeycar==4.1.0) (2.23.0)\n",
            "Requirement already satisfied: h5py in /usr/local/lib/python3.7/dist-packages (from donkeycar==4.1.0) (2.10.0)\n",
            "Requirement already satisfied: PrettyTable in /usr/local/lib/python3.7/dist-packages (from donkeycar==4.1.0) (2.1.0)\n",
            "Collecting paho-mqtt\n",
            "\u001b[?25l  Downloading https://files.pythonhosted.org/packages/32/d3/6dcb8fd14746fcde6a556f932b5de8bea8fedcb85b3a092e0e986372c0e7/paho-mqtt-1.5.1.tar.gz (101kB)\n",
            "\u001b[K     |████████████████████████████████| 102kB 3.0MB/s \n",
            "\u001b[?25hCollecting simple_pid\n",
            "  Downloading https://files.pythonhosted.org/packages/25/37/6e65affc5c135cda2ad6931c83e185957faf2c74c6432bad5fbf5523f344/simple_pid-0.2.4-py2.py3-none-any.whl\n",
            "Collecting progress\n",
            "  Downloading https://files.pythonhosted.org/packages/38/ef/2e887b3d2b248916fc2121889ce68af8a16aaddbe82f9ae6533c24ff0d2b/progress-1.5.tar.gz\n",
            "Requirement already satisfied: typing_extensions in /usr/local/lib/python3.7/dist-packages (from donkeycar==4.1.0) (3.7.4.3)\n",
            "Collecting pyfiglet\n",
            "\u001b[?25l  Downloading https://files.pythonhosted.org/packages/33/07/fcfdd7a2872f5b348953de35acce1544dab0c1e8368dca54279b1cde5c15/pyfiglet-0.8.post1-py2.py3-none-any.whl (865kB)\n",
            "\u001b[K     |████████████████████████████████| 870kB 15.8MB/s \n",
            "\u001b[?25hRequirement already satisfied: matplotlib in /usr/local/lib/python3.7/dist-packages (from donkeycar==4.1.0) (3.2.2)\n",
            "Requirement already satisfied: imgaug in /usr/local/lib/python3.7/dist-packages (from donkeycar==4.1.0) (0.2.9)\n",
            "Requirement already satisfied: certifi>=2017.4.17 in /usr/local/lib/python3.7/dist-packages (from requests->donkeycar==4.1.0) (2020.12.5)\n",
            "Requirement already satisfied: chardet<4,>=3.0.2 in /usr/local/lib/python3.7/dist-packages (from requests->donkeycar==4.1.0) (3.0.4)\n",
            "Requirement already satisfied: idna<3,>=2.5 in /usr/local/lib/python3.7/dist-packages (from requests->donkeycar==4.1.0) (2.10)\n",
            "Requirement already satisfied: urllib3!=1.25.0,!=1.25.1,<1.26,>=1.21.1 in /usr/local/lib/python3.7/dist-packages (from requests->donkeycar==4.1.0) (1.24.3)\n",
            "Requirement already satisfied: six in /usr/local/lib/python3.7/dist-packages (from h5py->donkeycar==4.1.0) (1.15.0)\n",
            "Requirement already satisfied: importlib-metadata; python_version < \"3.8\" in /usr/local/lib/python3.7/dist-packages (from PrettyTable->donkeycar==4.1.0) (3.7.0)\n",
            "Requirement already satisfied: wcwidth in /usr/local/lib/python3.7/dist-packages (from PrettyTable->donkeycar==4.1.0) (0.2.5)\n",
            "Requirement already satisfied: cycler>=0.10 in /usr/local/lib/python3.7/dist-packages (from matplotlib->donkeycar==4.1.0) (0.10.0)\n",
            "Requirement already satisfied: kiwisolver>=1.0.1 in /usr/local/lib/python3.7/dist-packages (from matplotlib->donkeycar==4.1.0) (1.3.1)\n",
            "Requirement already satisfied: python-dateutil>=2.1 in /usr/local/lib/python3.7/dist-packages (from matplotlib->donkeycar==4.1.0) (2.8.1)\n",
            "Requirement already satisfied: pyparsing!=2.0.4,!=2.1.2,!=2.1.6,>=2.0.1 in /usr/local/lib/python3.7/dist-packages (from matplotlib->donkeycar==4.1.0) (2.4.7)\n",
            "Requirement already satisfied: scikit-image>=0.11.0 in /usr/local/lib/python3.7/dist-packages (from imgaug->donkeycar==4.1.0) (0.16.2)\n",
            "Requirement already satisfied: Shapely in /usr/local/lib/python3.7/dist-packages (from imgaug->donkeycar==4.1.0) (1.7.1)\n",
            "Requirement already satisfied: scipy in /usr/local/lib/python3.7/dist-packages (from imgaug->donkeycar==4.1.0) (1.4.1)\n",
            "Requirement already satisfied: imageio in /usr/local/lib/python3.7/dist-packages (from imgaug->donkeycar==4.1.0) (2.4.1)\n",
            "Requirement already satisfied: opencv-python in /usr/local/lib/python3.7/dist-packages (from imgaug->donkeycar==4.1.0) (4.1.2.30)\n",
            "Requirement already satisfied: zipp>=0.5 in /usr/local/lib/python3.7/dist-packages (from importlib-metadata; python_version < \"3.8\"->PrettyTable->donkeycar==4.1.0) (3.4.1)\n",
            "Requirement already satisfied: networkx>=2.0 in /usr/local/lib/python3.7/dist-packages (from scikit-image>=0.11.0->imgaug->donkeycar==4.1.0) (2.5)\n",
            "Requirement already satisfied: PyWavelets>=0.4.0 in /usr/local/lib/python3.7/dist-packages (from scikit-image>=0.11.0->imgaug->donkeycar==4.1.0) (1.1.1)\n",
            "Requirement already satisfied: decorator>=4.3.0 in /usr/local/lib/python3.7/dist-packages (from networkx>=2.0->scikit-image>=0.11.0->imgaug->donkeycar==4.1.0) (4.4.2)\n",
            "Building wheels for collected packages: paho-mqtt, progress\n",
            "  Building wheel for paho-mqtt (setup.py) ... \u001b[?25l\u001b[?25hdone\n",
            "  Created wheel for paho-mqtt: filename=paho_mqtt-1.5.1-cp37-none-any.whl size=61546 sha256=ebdd7d086947ac09aaf89473fb4704b5d6246d54f92c0f8d6f78cee3950a54f3\n",
            "  Stored in directory: /root/.cache/pip/wheels/75/e2/f5/78942b19b4d135605e58dfe85fba52253b14d636aabf76904b\n",
            "  Building wheel for progress (setup.py) ... \u001b[?25l\u001b[?25hdone\n",
            "  Created wheel for progress: filename=progress-1.5-cp37-none-any.whl size=8074 sha256=b7bce9529c23c6d8d12e9c3de9f1ddca09f28341ff5591fdf80035ea82298ae9\n",
            "  Stored in directory: /root/.cache/pip/wheels/6c/c8/80/32a294e3041f006c661838c05a411c7b7ffc60ff939d14e116\n",
            "Successfully built paho-mqtt progress\n",
            "Installing collected packages: paho-mqtt, simple-pid, progress, pyfiglet, donkeycar\n",
            "  Running setup.py develop for donkeycar\n",
            "Successfully installed donkeycar paho-mqtt-1.5.1 progress-1.5 pyfiglet-0.8.post1 simple-pid-0.2.4\n"
          ],
          "name": "stdout"
        }
      ]
    },
    {
      "cell_type": "code",
      "metadata": {
        "id": "FTJTkh542XM-",
        "colab": {
          "base_uri": "https://localhost:8080/"
        },
        "outputId": "6a53407a-4baf-4b55-c5af-63fa62328794"
      },
      "source": [
        "!pip list | grep tensorflow"
      ],
      "execution_count": 14,
      "outputs": [
        {
          "output_type": "stream",
          "text": [
            "tensorflow                    2.2.0          \n",
            "tensorflow-datasets           4.0.1          \n",
            "tensorflow-estimator          2.2.0          \n",
            "tensorflow-gcs-config         2.4.0          \n",
            "tensorflow-hub                0.11.0         \n",
            "tensorflow-metadata           0.28.0         \n",
            "tensorflow-probability        0.12.1         \n"
          ],
          "name": "stdout"
        }
      ]
    },
    {
      "cell_type": "markdown",
      "metadata": {
        "id": "syCctLq2r4Wk"
      },
      "source": [
        "## 3.2 DonkeyCar 프로젝트 생성하기\n",
        "\n",
        "DonkeyCar에 대한 나만의 프로젝트를 새로이 생성합니다. 프로젝트를 생성하기 위해서는 프로젝트 이름이 필요합니다. 여기서는 mycar라는 프로젝트명을 사용합니다. Donkeycar의 프로젝트 생성 형식은 다음과 같습니다.\n",
        "\n",
        "$ donkey createcar --path /content/mycar [enter]"
      ]
    },
    {
      "cell_type": "code",
      "metadata": {
        "id": "1xjJBSITyXy2",
        "colab": {
          "base_uri": "https://localhost:8080/"
        },
        "outputId": "2e78ae7c-7e91-4a40-e63a-d06f7f24a40c"
      },
      "source": [
        "! donkey createcar --path /content/mycar"
      ],
      "execution_count": 15,
      "outputs": [
        {
          "output_type": "stream",
          "text": [
            "________             ______                   _________              \n",
            "___  __ \\_______________  /___________  __    __  ____/_____ ________\n",
            "__  / / /  __ \\_  __ \\_  //_/  _ \\_  / / /    _  /    _  __ `/_  ___/\n",
            "_  /_/ // /_/ /  / / /  ,<  /  __/  /_/ /     / /___  / /_/ /_  /    \n",
            "/_____/ \\____//_/ /_//_/|_| \\___/_\\__, /      \\____/  \\__,_/ /_/     \n",
            "                                 /____/                              \n",
            "\n",
            "using donkey v4.1.0 ...\n",
            "Creating car folder: /content/mycar\n",
            "making dir  /content/mycar\n",
            "Creating data & model folders.\n",
            "making dir  /content/mycar/models\n",
            "making dir  /content/mycar/data\n",
            "making dir  /content/mycar/logs\n",
            "Copying car application template: basic\n",
            "Copying car config defaults. Adjust these before starting your car.\n",
            "Copying train script. Adjust these before starting your car.\n",
            "Copying calibrate script. Adjust these before starting your car.\n",
            "Copying my car config overrides\n",
            "Donkey setup complete.\n"
          ],
          "name": "stdout"
        }
      ]
    },
    {
      "cell_type": "markdown",
      "metadata": {
        "id": "RkEtUoKIq2Ua"
      },
      "source": [
        "### (Q) 생성된 mycar 프로젝트는 어디에 ?\n",
        "\n",
        "탐색창의 파일을 클릭하면, 다음과 같이 /content 디렉토리 아래에 mycar폴더가 새롭게 생성되었다는 것을 확인할 수 있습니다. mycar폴더에는 3개의 폴더와 4개의 파이썬 파일이 생성됩니다.\n",
        "\n",
        "![Donkeycar User-Defined Project Folder](https://api.monosnap.com/file/download?id=yMcfRjpwpEpeZIkCqiq2nfX7ihdFjX)"
      ]
    },
    {
      "cell_type": "markdown",
      "metadata": {
        "id": "zh8U5wbO_tov"
      },
      "source": [
        "# 4> 데이타 업로드하기(주행 학습데이타)"
      ]
    },
    {
      "cell_type": "markdown",
      "metadata": {
        "id": "dnUy1Z1zro77"
      },
      "source": [
        "## 4.1 라즈베리파이의 주행데이타를 Google Colaboratory로 이동 준비(PC/노트북)\n",
        "\n",
        "* 라즈베리파이에 저장된 주행 영상데이타는 프로젝트 파일 폴더(예를 들어 mycar라고 가정) 아래에 data 폴더 아래에 tub_라는 이름을 시작하는 폴더에 순차번호를 붙여서 저장되어 있습니다. 예를들어, 폴더명이 tub_1_19-11-09라면, 11월 09일에 주행한 첫번째 주행영상이라는 의미로 해석이 가능합니다(~/mycar/data/tub_1_19-11-09).\n",
        "\n",
        "* 주행데이타는 개별(1회분의 주행영상)은 물론이고 여러개의 풀더(여러번의 주행영상들)을 모두 학습에 활용할 수 있기때문에 우선 PC로 모두 이동하여 저장하는 방법이 유용합니다.\n",
        "\n",
        "* 라즈베리파이 SD카드로부터 폴더 단위의 복사를 완료했다면, tub_ 폴더들을 Google Laboratory로 업로드하기 위해서 zip으로 묶고, 압축된 파일을 Google Laboratory로 업로드합니다."
      ]
    },
    {
      "cell_type": "markdown",
      "metadata": {
        "id": "ixjmMBKvzrV4"
      },
      "source": [
        "### 4.2 data.zip을 노트북/PC에서 Google Colaboratory로 업로드하기\r\n",
        "\r\n",
        "* Donkeycar 4.1에서는 datastore_V2형식으로 데이타가 저장\r\n",
        "* tub별로 images 디렉토리가 생성되며, catalog_0.catalog라는 메타파일이 생성(주행데이타 저장)"
      ]
    },
    {
      "cell_type": "markdown",
      "metadata": {
        "id": "CgYaifM5C0dR"
      },
      "source": [
        "## 4.3 data.zip 파일을 mycar로 이동하기\r\n",
        "\r\n",
        "* /content 디렉토리에 업로드한 주행데이타인 data.zip을 mycar로 이동"
      ]
    },
    {
      "cell_type": "code",
      "metadata": {
        "colab": {
          "base_uri": "https://localhost:8080/",
          "height": 35
        },
        "id": "T5urZA74C7fS",
        "outputId": "46672500-c4ea-4283-aaed-501673df82aa"
      },
      "source": [
        "%pwd"
      ],
      "execution_count": 16,
      "outputs": [
        {
          "output_type": "execute_result",
          "data": {
            "application/vnd.google.colaboratory.intrinsic+json": {
              "type": "string"
            },
            "text/plain": [
              "'/content/donkeycar'"
            ]
          },
          "metadata": {
            "tags": []
          },
          "execution_count": 16
        }
      ]
    },
    {
      "cell_type": "code",
      "metadata": {
        "colab": {
          "base_uri": "https://localhost:8080/"
        },
        "id": "N8ntJmgzDIRw",
        "outputId": "d7323ae1-9e4c-4c5f-dd10-c8e08567e76d"
      },
      "source": [
        "%cd .."
      ],
      "execution_count": 19,
      "outputs": [
        {
          "output_type": "stream",
          "text": [
            "/content\n"
          ],
          "name": "stdout"
        }
      ]
    },
    {
      "cell_type": "code",
      "metadata": {
        "id": "iuB2qI0XD6XJ"
      },
      "source": [
        "%mv data.zip ./mycar"
      ],
      "execution_count": 20,
      "outputs": []
    },
    {
      "cell_type": "code",
      "metadata": {
        "colab": {
          "base_uri": "https://localhost:8080/"
        },
        "id": "eQwFoRLhEPHB",
        "outputId": "0ac7c2ba-0931-4019-bed0-186d3d34ba17"
      },
      "source": [
        "%cd mycar"
      ],
      "execution_count": 21,
      "outputs": [
        {
          "output_type": "stream",
          "text": [
            "/content/mycar\n"
          ],
          "name": "stdout"
        }
      ]
    },
    {
      "cell_type": "code",
      "metadata": {
        "colab": {
          "base_uri": "https://localhost:8080/"
        },
        "id": "tl66HeVTEReD",
        "outputId": "baaa44e6-772f-4ca2-9b63-b543c44c9bd6"
      },
      "source": [
        "%ls -l"
      ],
      "execution_count": 23,
      "outputs": [
        {
          "output_type": "stream",
          "text": [
            "total 22172\n",
            "-rwx------ 1 root root     3371 Mar 15 08:39 \u001b[0m\u001b[01;32mcalibrate.py\u001b[0m*\n",
            "-rw-r--r-- 1 root root     5773 Mar 15 08:39 config.py\n",
            "drwxr-xr-x 2 root root     4096 Mar 15 08:39 \u001b[01;34mdata\u001b[0m/\n",
            "-rw-r--r-- 1 root root 22654562 Mar 15 08:46 data.zip\n",
            "drwxr-xr-x 2 root root     4096 Mar 15 08:39 \u001b[01;34mlogs\u001b[0m/\n",
            "-rwx------ 1 root root     7107 Mar 15 08:39 \u001b[01;32mmanage.py\u001b[0m*\n",
            "drwxr-xr-x 2 root root     4096 Mar 15 08:39 \u001b[01;34mmodels\u001b[0m/\n",
            "-rw-r--r-- 1 root root     5995 Mar 15 08:39 myconfig.py\n",
            "-rwx------ 1 root root      657 Mar 15 08:39 \u001b[01;32mtrain.py\u001b[0m*\n"
          ],
          "name": "stdout"
        }
      ]
    },
    {
      "cell_type": "markdown",
      "metadata": {
        "id": "TN07Zl1_Ed_d"
      },
      "source": [
        "### 4.4 data.zip 파일 압축풀기"
      ]
    },
    {
      "cell_type": "code",
      "metadata": {
        "colab": {
          "base_uri": "https://localhost:8080/"
        },
        "id": "9W-IO2ypEkYD",
        "outputId": "91292749-279a-473a-e132-3cefb41da1f2"
      },
      "source": [
        "! unzip"
      ],
      "execution_count": 24,
      "outputs": [
        {
          "output_type": "stream",
          "text": [
            "UnZip 6.00 of 20 April 2009, by Debian. Original by Info-ZIP.\n",
            "\n",
            "Usage: unzip [-Z] [-opts[modifiers]] file[.zip] [list] [-x xlist] [-d exdir]\n",
            "  Default action is to extract files in list, except those in xlist, to exdir;\n",
            "  file[.zip] may be a wildcard.  -Z => ZipInfo mode (\"unzip -Z\" for usage).\n",
            "\n",
            "  -p  extract files to pipe, no messages     -l  list files (short format)\n",
            "  -f  freshen existing files, create none    -t  test compressed archive data\n",
            "  -u  update files, create if necessary      -z  display archive comment only\n",
            "  -v  list verbosely/show version info       -T  timestamp archive to latest\n",
            "  -x  exclude files that follow (in xlist)   -d  extract files into exdir\n",
            "modifiers:\n",
            "  -n  never overwrite existing files         -q  quiet mode (-qq => quieter)\n",
            "  -o  overwrite files WITHOUT prompting      -a  auto-convert any text files\n",
            "  -j  junk paths (do not make directories)   -aa treat ALL files as text\n",
            "  -U  use escapes for all non-ASCII Unicode  -UU ignore any Unicode fields\n",
            "  -C  match filenames case-insensitively     -L  make (some) names lowercase\n",
            "  -X  restore UID/GID info                   -V  retain VMS version numbers\n",
            "  -K  keep setuid/setgid/tacky permissions   -M  pipe through \"more\" pager\n",
            "  -O CHARSET  specify a character encoding for DOS, Windows and OS/2 archives\n",
            "  -I CHARSET  specify a character encoding for UNIX and other archives\n",
            "\n",
            "See \"unzip -hh\" or unzip.txt for more help.  Examples:\n",
            "  unzip data1 -x joe   => extract all files except joe from zipfile data1.zip\n",
            "  unzip -p foo | more  => send contents of foo.zip via pipe into program more\n",
            "  unzip -fo foo ReadMe => quietly replace existing ReadMe if archive file newer\n"
          ],
          "name": "stdout"
        }
      ]
    },
    {
      "cell_type": "code",
      "metadata": {
        "colab": {
          "base_uri": "https://localhost:8080/"
        },
        "id": "f_BgZDgeEpOY",
        "outputId": "9df7657e-a18d-401f-824f-c567104db86b"
      },
      "source": [
        "# 압축을 풀기전에 data.zip에 어떤 파일들이 들어있는지 확인하기\r\n",
        "# 앞에서 몇줄만 확인\r\n",
        "\r\n",
        "! unzip -v data.zip | head "
      ],
      "execution_count": 29,
      "outputs": [
        {
          "output_type": "stream",
          "text": [
            "Archive:  data.zip\n",
            " Length   Method    Size  Cmpr    Date    Time   CRC-32   Name\n",
            "--------  ------  ------- ---- ---------- ----- --------  ----\n",
            "       0  Stored        0   0% 2021-03-15 15:59 00000000  data/tub_1_21-03-15/\n",
            "  172732  Defl:N    12705  93% 2021-03-15 15:56 8c5cc7a9  data/tub_1_21-03-15/catalog_0.catalog\n",
            "    5109  Defl:N      357  93% 2021-03-15 15:56 b703b666  data/tub_1_21-03-15/catalog_0.catalog_manifest\n",
            "  175310  Defl:N    12846  93% 2021-03-15 15:58 f831c099  data/tub_1_21-03-15/catalog_1.catalog\n",
            "    5112  Defl:N      375  93% 2021-03-15 15:58 a5abf257  data/tub_1_21-03-15/catalog_1.catalog_manifest\n",
            "  174898  Defl:N    13047  93% 2021-03-15 15:59 74ce0c7a  data/tub_1_21-03-15/catalog_2.catalog\n",
            "    5112  Defl:N      384  93% 2021-03-15 15:59 41d2a95a  data/tub_1_21-03-15/catalog_2.catalog_manifest\n"
          ],
          "name": "stdout"
        }
      ]
    },
    {
      "cell_type": "code",
      "metadata": {
        "id": "o3XBPK0aFXaW"
      },
      "source": [
        "# 기존의 data 디렉토리 삭제하기\r\n",
        "\r\n",
        "%rm -r data"
      ],
      "execution_count": 34,
      "outputs": []
    },
    {
      "cell_type": "code",
      "metadata": {
        "id": "5uSR3SPBFB6v"
      },
      "source": [
        "# 압축풀기\r\n",
        "\r\n",
        "! unzip -qox data.zip"
      ],
      "execution_count": 35,
      "outputs": []
    },
    {
      "cell_type": "markdown",
      "metadata": {
        "id": "Bc5qH-pIGJ2s"
      },
      "source": [
        "### 4.5 data 디렉토리에 주행데이타 압축해제 확인하기"
      ]
    },
    {
      "cell_type": "code",
      "metadata": {
        "colab": {
          "base_uri": "https://localhost:8080/",
          "height": 35
        },
        "id": "utH2FIkBGOjf",
        "outputId": "9731ab5a-3fd6-460e-8117-64ea0ca7a36e"
      },
      "source": [
        "%pwd"
      ],
      "execution_count": 36,
      "outputs": [
        {
          "output_type": "execute_result",
          "data": {
            "application/vnd.google.colaboratory.intrinsic+json": {
              "type": "string"
            },
            "text/plain": [
              "'/content/mycar'"
            ]
          },
          "metadata": {
            "tags": []
          },
          "execution_count": 36
        }
      ]
    },
    {
      "cell_type": "code",
      "metadata": {
        "colab": {
          "base_uri": "https://localhost:8080/"
        },
        "id": "79ITZV7LGQwa",
        "outputId": "7a569c86-5bf4-47c1-a68c-89386af82857"
      },
      "source": [
        "%ls -l data"
      ],
      "execution_count": 37,
      "outputs": [
        {
          "output_type": "stream",
          "text": [
            "total 8\n",
            "drwxr-xr-x 3 root root 4096 Mar 15  2021 \u001b[0m\u001b[01;34mtub_1_21-03-15\u001b[0m/\n",
            "drwxr-xr-x 3 root root 4096 Mar 15  2021 \u001b[01;34mtub_2_21-03-15\u001b[0m/\n"
          ],
          "name": "stdout"
        }
      ]
    },
    {
      "cell_type": "markdown",
      "metadata": {
        "id": "9-3U5MnYoZPY"
      },
      "source": [
        "### 4.6  업로드된 data.zip 파일 삭제하기"
      ]
    },
    {
      "cell_type": "code",
      "metadata": {
        "id": "oifxa-VXGcV7"
      },
      "source": [
        "%rm -r data.zip"
      ],
      "execution_count": 38,
      "outputs": []
    },
    {
      "cell_type": "markdown",
      "metadata": {
        "id": "T3Ya8qEUAfOv"
      },
      "source": [
        "# 5> Donkeycar 주행영상데이타를 활용한 자율주행모델 학습하기\n",
        "\n",
        "동키카에서 지원되는 학습모듈을 사용해서 주행영상 데이타 기반의 인공지능 학습을 진행합니다. CNN(Convolution Neural Network)기반의 이미지 식별을 통한 모델 학습으로 주행영상과 실제 주행시 함께 획득한 속도와 주행방향에 대한 데이타를 입력으로 하여 주행 모델을 학습하게 됩니다.\n",
        "\n",
        "* tub_ 디렉토리가 적은 경우, 학습이 되지 않습니다. 최소 10개이상의 주행을 하고 학습하세요."
      ]
    },
    {
      "cell_type": "code",
      "metadata": {
        "id": "jqgaPmDU0tH_",
        "colab": {
          "base_uri": "https://localhost:8080/"
        },
        "outputId": "cbcc8078-fb73-4958-9b93-beb6791d93be"
      },
      "source": [
        "!python /content/mycar/train.py"
      ],
      "execution_count": 39,
      "outputs": [
        {
          "output_type": "stream",
          "text": [
            "________             ______                   _________              \n",
            "___  __ \\_______________  /___________  __    __  ____/_____ ________\n",
            "__  / / /  __ \\_  __ \\_  //_/  _ \\_  / / /    _  /    _  __ `/_  ___/\n",
            "_  /_/ // /_/ /  / / /  ,<  /  __/  /_/ /     / /___  / /_/ /_  /    \n",
            "/_____/ \\____//_/ /_//_/|_| \\___/_\\__, /      \\____/  \\__,_/ /_/     \n",
            "                                 /____/                              \n",
            "\n",
            "using donkey v4.1.0 ...\n",
            "Usage:\n",
            "    train.py [--tubs=tubs] (--model=<model>) [--type=(linear|inferred|tensorrt_linear|tflite_linear)]\n"
          ],
          "name": "stdout"
        }
      ]
    },
    {
      "cell_type": "markdown",
      "metadata": {
        "id": "y8CXjWDrNai_"
      },
      "source": [
        "## 5.1 tubs 파일경로 설정하기"
      ]
    },
    {
      "cell_type": "code",
      "metadata": {
        "colab": {
          "base_uri": "https://localhost:8080/"
        },
        "id": "tR63qxesNjbL",
        "outputId": "c8632d88-0e2a-450a-b782-e268c39f2527"
      },
      "source": [
        "import os\r\n",
        "\r\n",
        "dir_list = os.listdir('/content/mycar/data')\r\n",
        "print(dir_list)"
      ],
      "execution_count": 41,
      "outputs": [
        {
          "output_type": "stream",
          "text": [
            "['tub_2_21-03-15', 'tub_1_21-03-15']\n"
          ],
          "name": "stdout"
        }
      ]
    },
    {
      "cell_type": "code",
      "metadata": {
        "colab": {
          "base_uri": "https://localhost:8080/"
        },
        "id": "srI1qVj7Gz57",
        "outputId": "13aa065e-193e-48f7-980d-8328a627276c"
      },
      "source": [
        "sorted(dir_list)"
      ],
      "execution_count": 44,
      "outputs": [
        {
          "output_type": "execute_result",
          "data": {
            "text/plain": [
              "['tub_1_21-03-15', 'tub_2_21-03-15']"
            ]
          },
          "metadata": {
            "tags": []
          },
          "execution_count": 44
        }
      ]
    },
    {
      "cell_type": "code",
      "metadata": {
        "colab": {
          "base_uri": "https://localhost:8080/",
          "height": 35
        },
        "id": "ng_byPBfOEbi",
        "outputId": "b5801381-2f00-4599-d23c-5f8c55b3e4a8"
      },
      "source": [
        "DATA_DIR = 'data'\r\n",
        "tubs_list = ','.join([ \"%s/%s\" % (DATA_DIR,x) for x in sorted(dir_list)])\r\n",
        "tubs_list"
      ],
      "execution_count": 45,
      "outputs": [
        {
          "output_type": "execute_result",
          "data": {
            "application/vnd.google.colaboratory.intrinsic+json": {
              "type": "string"
            },
            "text/plain": [
              "'data/tub_1_21-03-15,data/tub_2_21-03-15'"
            ]
          },
          "metadata": {
            "tags": []
          },
          "execution_count": 45
        }
      ]
    },
    {
      "cell_type": "markdown",
      "metadata": {
        "id": "hmRtjhxVKvQQ"
      },
      "source": [
        "[주의] \n",
        "\n",
        "*   학습데이타가 128개보다 작은 경우, 오류가 발생(validation_step에서 오류발생)\n",
        "*   위의 경우, config.py파일의 BATCH_SIZE를 총 데이타갯수보다 작게 설정(e.g) BATCH_SIZE=64\n",
        "\n"
      ]
    },
    {
      "cell_type": "markdown",
      "metadata": {
        "id": "Tdiyt3fZQeuX"
      },
      "source": [
        "## 5.2 학습하기"
      ]
    },
    {
      "cell_type": "code",
      "metadata": {
        "id": "cCvUUnaHzwx8",
        "colab": {
          "base_uri": "https://localhost:8080/"
        },
        "outputId": "402eb240-5aeb-40c2-f941-0a18d5ab62a8"
      },
      "source": [
        "#\n",
        "# 학습을 위한 데이타는 /data 디렉토리 아래의 tub_ 이름의 폴더에서 자동으로 가져와서 학습을 수행\n",
        "#\n",
        "! python /content/mycar/train.py --tubs {tubs_list} --model /content/mycar/models/mypilot.h5"
      ],
      "execution_count": 46,
      "outputs": [
        {
          "output_type": "stream",
          "text": [
            "________             ______                   _________              \n",
            "___  __ \\_______________  /___________  __    __  ____/_____ ________\n",
            "__  / / /  __ \\_  __ \\_  //_/  _ \\_  / / /    _  /    _  __ `/_  ___/\n",
            "_  /_/ // /_/ /  / / /  ,<  /  __/  /_/ /     / /___  / /_/ /_  /    \n",
            "/_____/ \\____//_/ /_//_/|_| \\___/_\\__, /      \\____/  \\__,_/ /_/     \n",
            "                                 /____/                              \n",
            "\n",
            "using donkey v4.1.0 ...\n",
            "loading config file: /content/mycar/config.py\n",
            "loading personal config over-rides from myconfig.py\n",
            "\"get_model_by_type\" model Type is: linear\n",
            "Created KerasLinear\n",
            "2021-03-15 08:59:20.434387: I tensorflow/stream_executor/platform/default/dso_loader.cc:44] Successfully opened dynamic library libcuda.so.1\n",
            "2021-03-15 08:59:20.441434: I tensorflow/stream_executor/cuda/cuda_gpu_executor.cc:981] successful NUMA node read from SysFS had negative value (-1), but there must be at least one NUMA node, so returning NUMA node zero\n",
            "2021-03-15 08:59:20.442237: I tensorflow/core/common_runtime/gpu/gpu_device.cc:1561] Found device 0 with properties: \n",
            "pciBusID: 0000:00:04.0 name: Tesla K80 computeCapability: 3.7\n",
            "coreClock: 0.8235GHz coreCount: 13 deviceMemorySize: 11.17GiB deviceMemoryBandwidth: 223.96GiB/s\n",
            "2021-03-15 08:59:20.442751: I tensorflow/stream_executor/platform/default/dso_loader.cc:44] Successfully opened dynamic library libcudart.so.10.1\n",
            "2021-03-15 08:59:20.448291: I tensorflow/stream_executor/platform/default/dso_loader.cc:44] Successfully opened dynamic library libcublas.so.10\n",
            "2021-03-15 08:59:20.450608: I tensorflow/stream_executor/platform/default/dso_loader.cc:44] Successfully opened dynamic library libcufft.so.10\n",
            "2021-03-15 08:59:20.451108: I tensorflow/stream_executor/platform/default/dso_loader.cc:44] Successfully opened dynamic library libcurand.so.10\n",
            "2021-03-15 08:59:20.456249: I tensorflow/stream_executor/platform/default/dso_loader.cc:44] Successfully opened dynamic library libcusolver.so.10\n",
            "2021-03-15 08:59:20.457479: I tensorflow/stream_executor/platform/default/dso_loader.cc:44] Successfully opened dynamic library libcusparse.so.10\n",
            "2021-03-15 08:59:20.462618: I tensorflow/stream_executor/platform/default/dso_loader.cc:44] Successfully opened dynamic library libcudnn.so.7\n",
            "2021-03-15 08:59:20.462772: I tensorflow/stream_executor/cuda/cuda_gpu_executor.cc:981] successful NUMA node read from SysFS had negative value (-1), but there must be at least one NUMA node, so returning NUMA node zero\n",
            "2021-03-15 08:59:20.463538: I tensorflow/stream_executor/cuda/cuda_gpu_executor.cc:981] successful NUMA node read from SysFS had negative value (-1), but there must be at least one NUMA node, so returning NUMA node zero\n",
            "2021-03-15 08:59:20.464307: I tensorflow/core/common_runtime/gpu/gpu_device.cc:1703] Adding visible gpu devices: 0\n",
            "2021-03-15 08:59:20.464638: I tensorflow/core/platform/cpu_feature_guard.cc:143] Your CPU supports instructions that this TensorFlow binary was not compiled to use: AVX2 FMA\n",
            "2021-03-15 08:59:20.470200: I tensorflow/core/platform/profile_utils/cpu_utils.cc:102] CPU Frequency: 2299995000 Hz\n",
            "2021-03-15 08:59:20.470444: I tensorflow/compiler/xla/service/service.cc:168] XLA service 0x5584791d6bc0 initialized for platform Host (this does not guarantee that XLA will be used). Devices:\n",
            "2021-03-15 08:59:20.470499: I tensorflow/compiler/xla/service/service.cc:176]   StreamExecutor device (0): Host, Default Version\n",
            "2021-03-15 08:59:20.520561: I tensorflow/stream_executor/cuda/cuda_gpu_executor.cc:981] successful NUMA node read from SysFS had negative value (-1), but there must be at least one NUMA node, so returning NUMA node zero\n",
            "2021-03-15 08:59:20.521407: I tensorflow/compiler/xla/service/service.cc:168] XLA service 0x5584791d6a00 initialized for platform CUDA (this does not guarantee that XLA will be used). Devices:\n",
            "2021-03-15 08:59:20.521442: I tensorflow/compiler/xla/service/service.cc:176]   StreamExecutor device (0): Tesla K80, Compute Capability 3.7\n",
            "2021-03-15 08:59:20.521712: I tensorflow/stream_executor/cuda/cuda_gpu_executor.cc:981] successful NUMA node read from SysFS had negative value (-1), but there must be at least one NUMA node, so returning NUMA node zero\n",
            "2021-03-15 08:59:20.522417: I tensorflow/core/common_runtime/gpu/gpu_device.cc:1561] Found device 0 with properties: \n",
            "pciBusID: 0000:00:04.0 name: Tesla K80 computeCapability: 3.7\n",
            "coreClock: 0.8235GHz coreCount: 13 deviceMemorySize: 11.17GiB deviceMemoryBandwidth: 223.96GiB/s\n",
            "2021-03-15 08:59:20.522542: I tensorflow/stream_executor/platform/default/dso_loader.cc:44] Successfully opened dynamic library libcudart.so.10.1\n",
            "2021-03-15 08:59:20.522634: I tensorflow/stream_executor/platform/default/dso_loader.cc:44] Successfully opened dynamic library libcublas.so.10\n",
            "2021-03-15 08:59:20.522680: I tensorflow/stream_executor/platform/default/dso_loader.cc:44] Successfully opened dynamic library libcufft.so.10\n",
            "2021-03-15 08:59:20.522725: I tensorflow/stream_executor/platform/default/dso_loader.cc:44] Successfully opened dynamic library libcurand.so.10\n",
            "2021-03-15 08:59:20.522768: I tensorflow/stream_executor/platform/default/dso_loader.cc:44] Successfully opened dynamic library libcusolver.so.10\n",
            "2021-03-15 08:59:20.522824: I tensorflow/stream_executor/platform/default/dso_loader.cc:44] Successfully opened dynamic library libcusparse.so.10\n",
            "2021-03-15 08:59:20.522896: I tensorflow/stream_executor/platform/default/dso_loader.cc:44] Successfully opened dynamic library libcudnn.so.7\n",
            "2021-03-15 08:59:20.523026: I tensorflow/stream_executor/cuda/cuda_gpu_executor.cc:981] successful NUMA node read from SysFS had negative value (-1), but there must be at least one NUMA node, so returning NUMA node zero\n",
            "2021-03-15 08:59:20.523892: I tensorflow/stream_executor/cuda/cuda_gpu_executor.cc:981] successful NUMA node read from SysFS had negative value (-1), but there must be at least one NUMA node, so returning NUMA node zero\n",
            "2021-03-15 08:59:20.524639: I tensorflow/core/common_runtime/gpu/gpu_device.cc:1703] Adding visible gpu devices: 0\n",
            "2021-03-15 08:59:20.524708: I tensorflow/stream_executor/platform/default/dso_loader.cc:44] Successfully opened dynamic library libcudart.so.10.1\n",
            "2021-03-15 08:59:20.526270: I tensorflow/core/common_runtime/gpu/gpu_device.cc:1102] Device interconnect StreamExecutor with strength 1 edge matrix:\n",
            "2021-03-15 08:59:20.526307: I tensorflow/core/common_runtime/gpu/gpu_device.cc:1108]      0 \n",
            "2021-03-15 08:59:20.526327: I tensorflow/core/common_runtime/gpu/gpu_device.cc:1121] 0:   N \n",
            "2021-03-15 08:59:20.526477: I tensorflow/stream_executor/cuda/cuda_gpu_executor.cc:981] successful NUMA node read from SysFS had negative value (-1), but there must be at least one NUMA node, so returning NUMA node zero\n",
            "2021-03-15 08:59:20.527198: I tensorflow/stream_executor/cuda/cuda_gpu_executor.cc:981] successful NUMA node read from SysFS had negative value (-1), but there must be at least one NUMA node, so returning NUMA node zero\n",
            "2021-03-15 08:59:20.527953: W tensorflow/core/common_runtime/gpu/gpu_bfc_allocator.cc:39] Overriding allow_growth setting because the TF_FORCE_GPU_ALLOW_GROWTH environment variable is set. Original config value was 0.\n",
            "2021-03-15 08:59:20.528026: I tensorflow/core/common_runtime/gpu/gpu_device.cc:1247] Created TensorFlow device (/job:localhost/replica:0/task:0/device:GPU:0 with 10643 MB memory) -> physical GPU (device: 0, name: Tesla K80, pci bus id: 0000:00:04.0, compute capability: 3.7)\n",
            "Model: \"model\"\n",
            "__________________________________________________________________________________________________\n",
            "Layer (type)                    Output Shape         Param #     Connected to                     \n",
            "==================================================================================================\n",
            "img_in (InputLayer)             [(None, 120, 160, 3) 0                                            \n",
            "__________________________________________________________________________________________________\n",
            "conv2d_1 (Conv2D)               (None, 58, 78, 24)   1824        img_in[0][0]                     \n",
            "__________________________________________________________________________________________________\n",
            "dropout (Dropout)               (None, 58, 78, 24)   0           conv2d_1[0][0]                   \n",
            "__________________________________________________________________________________________________\n",
            "conv2d_2 (Conv2D)               (None, 27, 37, 32)   19232       dropout[0][0]                    \n",
            "__________________________________________________________________________________________________\n",
            "dropout_1 (Dropout)             (None, 27, 37, 32)   0           conv2d_2[0][0]                   \n",
            "__________________________________________________________________________________________________\n",
            "conv2d_3 (Conv2D)               (None, 12, 17, 64)   51264       dropout_1[0][0]                  \n",
            "__________________________________________________________________________________________________\n",
            "dropout_2 (Dropout)             (None, 12, 17, 64)   0           conv2d_3[0][0]                   \n",
            "__________________________________________________________________________________________________\n",
            "conv2d_4 (Conv2D)               (None, 10, 15, 64)   36928       dropout_2[0][0]                  \n",
            "__________________________________________________________________________________________________\n",
            "dropout_3 (Dropout)             (None, 10, 15, 64)   0           conv2d_4[0][0]                   \n",
            "__________________________________________________________________________________________________\n",
            "conv2d_5 (Conv2D)               (None, 8, 13, 64)    36928       dropout_3[0][0]                  \n",
            "__________________________________________________________________________________________________\n",
            "dropout_4 (Dropout)             (None, 8, 13, 64)    0           conv2d_5[0][0]                   \n",
            "__________________________________________________________________________________________________\n",
            "flattened (Flatten)             (None, 6656)         0           dropout_4[0][0]                  \n",
            "__________________________________________________________________________________________________\n",
            "dense_1 (Dense)                 (None, 100)          665700      flattened[0][0]                  \n",
            "__________________________________________________________________________________________________\n",
            "dropout_5 (Dropout)             (None, 100)          0           dense_1[0][0]                    \n",
            "__________________________________________________________________________________________________\n",
            "dense_2 (Dense)                 (None, 50)           5050        dropout_5[0][0]                  \n",
            "__________________________________________________________________________________________________\n",
            "dropout_6 (Dropout)             (None, 50)           0           dense_2[0][0]                    \n",
            "__________________________________________________________________________________________________\n",
            "n_outputs0 (Dense)              (None, 1)            51          dropout_6[0][0]                  \n",
            "__________________________________________________________________________________________________\n",
            "n_outputs1 (Dense)              (None, 1)            51          dropout_6[0][0]                  \n",
            "==================================================================================================\n",
            "Total params: 817,028\n",
            "Trainable params: 817,028\n",
            "Non-trainable params: 0\n",
            "__________________________________________________________________________________________________\n",
            "None\n",
            "Using catalog /content/mycar/data/tub_1_21-03-15/catalog_3.catalog\n",
            "Using catalog /content/mycar/data/tub_2_21-03-15/catalog_3.catalog\n",
            "Loading tubs from paths ['data/tub_1_21-03-15', 'data/tub_2_21-03-15']\n",
            "Records # Training 5295\n",
            "Records # Validation 1324\n",
            "Epoch 1/100\n",
            "2021-03-15 08:59:22.215658: I tensorflow/stream_executor/platform/default/dso_loader.cc:44] Successfully opened dynamic library libcublas.so.10\n",
            "2021-03-15 08:59:23.561060: I tensorflow/stream_executor/platform/default/dso_loader.cc:44] Successfully opened dynamic library libcudnn.so.7\n",
            "42/42 [==============================] - ETA: 0s - loss: 0.1124 - n_outputs0_loss: 0.1062 - n_outputs1_loss: 0.0062\n",
            "Epoch 00001: val_loss improved from inf to 0.07848, saving model to /content/mycar/models/mypilot.h5\n",
            "42/42 [==============================] - 15s 348ms/step - loss: 0.1124 - n_outputs0_loss: 0.1062 - n_outputs1_loss: 0.0062 - val_loss: 0.0785 - val_n_outputs0_loss: 0.0772 - val_n_outputs1_loss: 0.0013\n",
            "Epoch 2/100\n",
            "42/42 [==============================] - ETA: 0s - loss: 0.0636 - n_outputs0_loss: 0.0617 - n_outputs1_loss: 0.0019\n",
            "Epoch 00002: val_loss improved from 0.07848 to 0.03348, saving model to /content/mycar/models/mypilot.h5\n",
            "42/42 [==============================] - 11s 253ms/step - loss: 0.0636 - n_outputs0_loss: 0.0617 - n_outputs1_loss: 0.0019 - val_loss: 0.0335 - val_n_outputs0_loss: 0.0329 - val_n_outputs1_loss: 6.0801e-04\n",
            "Epoch 3/100\n",
            "42/42 [==============================] - ETA: 0s - loss: 0.0364 - n_outputs0_loss: 0.0344 - n_outputs1_loss: 0.0020\n",
            "Epoch 00003: val_loss improved from 0.03348 to 0.02411, saving model to /content/mycar/models/mypilot.h5\n",
            "42/42 [==============================] - 11s 252ms/step - loss: 0.0364 - n_outputs0_loss: 0.0344 - n_outputs1_loss: 0.0020 - val_loss: 0.0241 - val_n_outputs0_loss: 0.0239 - val_n_outputs1_loss: 2.1930e-04\n",
            "Epoch 4/100\n",
            "42/42 [==============================] - ETA: 0s - loss: 0.0288 - n_outputs0_loss: 0.0273 - n_outputs1_loss: 0.0015\n",
            "Epoch 00004: val_loss improved from 0.02411 to 0.01940, saving model to /content/mycar/models/mypilot.h5\n",
            "42/42 [==============================] - 11s 251ms/step - loss: 0.0288 - n_outputs0_loss: 0.0273 - n_outputs1_loss: 0.0015 - val_loss: 0.0194 - val_n_outputs0_loss: 0.0192 - val_n_outputs1_loss: 1.6039e-04\n",
            "Epoch 5/100\n",
            "42/42 [==============================] - ETA: 0s - loss: 0.0239 - n_outputs0_loss: 0.0226 - n_outputs1_loss: 0.0013\n",
            "Epoch 00005: val_loss improved from 0.01940 to 0.01635, saving model to /content/mycar/models/mypilot.h5\n",
            "42/42 [==============================] - 11s 252ms/step - loss: 0.0239 - n_outputs0_loss: 0.0226 - n_outputs1_loss: 0.0013 - val_loss: 0.0164 - val_n_outputs0_loss: 0.0163 - val_n_outputs1_loss: 9.4279e-05\n",
            "Epoch 6/100\n",
            "42/42 [==============================] - ETA: 0s - loss: 0.0222 - n_outputs0_loss: 0.0210 - n_outputs1_loss: 0.0012\n",
            "Epoch 00006: val_loss improved from 0.01635 to 0.01472, saving model to /content/mycar/models/mypilot.h5\n",
            "42/42 [==============================] - 11s 254ms/step - loss: 0.0222 - n_outputs0_loss: 0.0210 - n_outputs1_loss: 0.0012 - val_loss: 0.0147 - val_n_outputs0_loss: 0.0146 - val_n_outputs1_loss: 8.8248e-05\n",
            "Epoch 7/100\n",
            "42/42 [==============================] - ETA: 0s - loss: 0.0204 - n_outputs0_loss: 0.0194 - n_outputs1_loss: 0.0010\n",
            "Epoch 00007: val_loss improved from 0.01472 to 0.01368, saving model to /content/mycar/models/mypilot.h5\n",
            "42/42 [==============================] - 11s 252ms/step - loss: 0.0204 - n_outputs0_loss: 0.0194 - n_outputs1_loss: 0.0010 - val_loss: 0.0137 - val_n_outputs0_loss: 0.0136 - val_n_outputs1_loss: 1.0061e-04\n",
            "Epoch 8/100\n",
            "42/42 [==============================] - ETA: 0s - loss: 0.0193 - n_outputs0_loss: 0.0185 - n_outputs1_loss: 8.7345e-04\n",
            "Epoch 00008: val_loss improved from 0.01368 to 0.01245, saving model to /content/mycar/models/mypilot.h5\n",
            "42/42 [==============================] - 11s 251ms/step - loss: 0.0193 - n_outputs0_loss: 0.0185 - n_outputs1_loss: 8.7345e-04 - val_loss: 0.0124 - val_n_outputs0_loss: 0.0124 - val_n_outputs1_loss: 9.0557e-05\n",
            "Epoch 9/100\n",
            "42/42 [==============================] - ETA: 0s - loss: 0.0179 - n_outputs0_loss: 0.0172 - n_outputs1_loss: 7.4797e-04\n",
            "Epoch 00009: val_loss improved from 0.01245 to 0.01200, saving model to /content/mycar/models/mypilot.h5\n",
            "42/42 [==============================] - 11s 252ms/step - loss: 0.0179 - n_outputs0_loss: 0.0172 - n_outputs1_loss: 7.4797e-04 - val_loss: 0.0120 - val_n_outputs0_loss: 0.0119 - val_n_outputs1_loss: 8.8465e-05\n",
            "Epoch 10/100\n",
            "42/42 [==============================] - ETA: 0s - loss: 0.0171 - n_outputs0_loss: 0.0164 - n_outputs1_loss: 6.6979e-04\n",
            "Epoch 00010: val_loss did not improve from 0.01200\n",
            "42/42 [==============================] - 10s 250ms/step - loss: 0.0171 - n_outputs0_loss: 0.0164 - n_outputs1_loss: 6.6979e-04 - val_loss: 0.0122 - val_n_outputs0_loss: 0.0121 - val_n_outputs1_loss: 8.0109e-05\n",
            "Epoch 11/100\n",
            "42/42 [==============================] - ETA: 0s - loss: 0.0171 - n_outputs0_loss: 0.0165 - n_outputs1_loss: 5.9741e-04\n",
            "Epoch 00011: val_loss improved from 0.01200 to 0.01191, saving model to /content/mycar/models/mypilot.h5\n",
            "42/42 [==============================] - 11s 252ms/step - loss: 0.0171 - n_outputs0_loss: 0.0165 - n_outputs1_loss: 5.9741e-04 - val_loss: 0.0119 - val_n_outputs0_loss: 0.0118 - val_n_outputs1_loss: 8.6153e-05\n",
            "Epoch 12/100\n",
            "42/42 [==============================] - ETA: 0s - loss: 0.0161 - n_outputs0_loss: 0.0155 - n_outputs1_loss: 5.1328e-04\n",
            "Epoch 00012: val_loss improved from 0.01191 to 0.01107, saving model to /content/mycar/models/mypilot.h5\n",
            "42/42 [==============================] - 11s 251ms/step - loss: 0.0161 - n_outputs0_loss: 0.0155 - n_outputs1_loss: 5.1328e-04 - val_loss: 0.0111 - val_n_outputs0_loss: 0.0110 - val_n_outputs1_loss: 7.7198e-05\n",
            "Epoch 13/100\n",
            "42/42 [==============================] - ETA: 0s - loss: 0.0166 - n_outputs0_loss: 0.0161 - n_outputs1_loss: 4.9394e-04\n",
            "Epoch 00013: val_loss improved from 0.01107 to 0.01106, saving model to /content/mycar/models/mypilot.h5\n",
            "42/42 [==============================] - 11s 251ms/step - loss: 0.0166 - n_outputs0_loss: 0.0161 - n_outputs1_loss: 4.9394e-04 - val_loss: 0.0111 - val_n_outputs0_loss: 0.0110 - val_n_outputs1_loss: 7.6336e-05\n",
            "Epoch 14/100\n",
            "42/42 [==============================] - ETA: 0s - loss: 0.0154 - n_outputs0_loss: 0.0150 - n_outputs1_loss: 4.3370e-04\n",
            "Epoch 00014: val_loss did not improve from 0.01106\n",
            "42/42 [==============================] - 11s 251ms/step - loss: 0.0154 - n_outputs0_loss: 0.0150 - n_outputs1_loss: 4.3370e-04 - val_loss: 0.0114 - val_n_outputs0_loss: 0.0113 - val_n_outputs1_loss: 8.0449e-05\n",
            "Epoch 15/100\n",
            "42/42 [==============================] - ETA: 0s - loss: 0.0145 - n_outputs0_loss: 0.0141 - n_outputs1_loss: 4.0971e-04\n",
            "Epoch 00015: val_loss improved from 0.01106 to 0.01072, saving model to /content/mycar/models/mypilot.h5\n",
            "42/42 [==============================] - 11s 254ms/step - loss: 0.0145 - n_outputs0_loss: 0.0141 - n_outputs1_loss: 4.0971e-04 - val_loss: 0.0107 - val_n_outputs0_loss: 0.0106 - val_n_outputs1_loss: 7.3835e-05\n",
            "Epoch 16/100\n",
            "42/42 [==============================] - ETA: 0s - loss: 0.0146 - n_outputs0_loss: 0.0142 - n_outputs1_loss: 3.6789e-04\n",
            "Epoch 00016: val_loss improved from 0.01072 to 0.01030, saving model to /content/mycar/models/mypilot.h5\n",
            "42/42 [==============================] - 11s 252ms/step - loss: 0.0146 - n_outputs0_loss: 0.0142 - n_outputs1_loss: 3.6789e-04 - val_loss: 0.0103 - val_n_outputs0_loss: 0.0102 - val_n_outputs1_loss: 7.6393e-05\n",
            "Epoch 17/100\n",
            "42/42 [==============================] - ETA: 0s - loss: 0.0141 - n_outputs0_loss: 0.0138 - n_outputs1_loss: 3.5167e-04\n",
            "Epoch 00017: val_loss improved from 0.01030 to 0.00944, saving model to /content/mycar/models/mypilot.h5\n",
            "42/42 [==============================] - 11s 252ms/step - loss: 0.0141 - n_outputs0_loss: 0.0138 - n_outputs1_loss: 3.5167e-04 - val_loss: 0.0094 - val_n_outputs0_loss: 0.0094 - val_n_outputs1_loss: 7.1709e-05\n",
            "Epoch 18/100\n",
            "42/42 [==============================] - ETA: 0s - loss: 0.0134 - n_outputs0_loss: 0.0130 - n_outputs1_loss: 3.4139e-04\n",
            "Epoch 00018: val_loss improved from 0.00944 to 0.00928, saving model to /content/mycar/models/mypilot.h5\n",
            "42/42 [==============================] - 11s 251ms/step - loss: 0.0134 - n_outputs0_loss: 0.0130 - n_outputs1_loss: 3.4139e-04 - val_loss: 0.0093 - val_n_outputs0_loss: 0.0092 - val_n_outputs1_loss: 7.3088e-05\n",
            "Epoch 19/100\n",
            "42/42 [==============================] - ETA: 0s - loss: 0.0131 - n_outputs0_loss: 0.0127 - n_outputs1_loss: 3.2565e-04\n",
            "Epoch 00019: val_loss did not improve from 0.00928\n",
            "42/42 [==============================] - 10s 250ms/step - loss: 0.0131 - n_outputs0_loss: 0.0127 - n_outputs1_loss: 3.2565e-04 - val_loss: 0.0096 - val_n_outputs0_loss: 0.0096 - val_n_outputs1_loss: 7.3320e-05\n",
            "Epoch 20/100\n",
            "42/42 [==============================] - ETA: 0s - loss: 0.0131 - n_outputs0_loss: 0.0128 - n_outputs1_loss: 2.9174e-04\n",
            "Epoch 00020: val_loss improved from 0.00928 to 0.00926, saving model to /content/mycar/models/mypilot.h5\n",
            "42/42 [==============================] - 11s 251ms/step - loss: 0.0131 - n_outputs0_loss: 0.0128 - n_outputs1_loss: 2.9174e-04 - val_loss: 0.0093 - val_n_outputs0_loss: 0.0092 - val_n_outputs1_loss: 7.6201e-05\n",
            "Epoch 21/100\n",
            "42/42 [==============================] - ETA: 0s - loss: 0.0123 - n_outputs0_loss: 0.0120 - n_outputs1_loss: 2.8197e-04\n",
            "Epoch 00021: val_loss improved from 0.00926 to 0.00880, saving model to /content/mycar/models/mypilot.h5\n",
            "42/42 [==============================] - 11s 252ms/step - loss: 0.0123 - n_outputs0_loss: 0.0120 - n_outputs1_loss: 2.8197e-04 - val_loss: 0.0088 - val_n_outputs0_loss: 0.0087 - val_n_outputs1_loss: 7.2205e-05\n",
            "Epoch 22/100\n",
            "42/42 [==============================] - ETA: 0s - loss: 0.0130 - n_outputs0_loss: 0.0127 - n_outputs1_loss: 2.6650e-04\n",
            "Epoch 00022: val_loss did not improve from 0.00880\n",
            "42/42 [==============================] - 10s 250ms/step - loss: 0.0130 - n_outputs0_loss: 0.0127 - n_outputs1_loss: 2.6650e-04 - val_loss: 0.0090 - val_n_outputs0_loss: 0.0089 - val_n_outputs1_loss: 6.7207e-05\n",
            "Epoch 23/100\n",
            "42/42 [==============================] - ETA: 0s - loss: 0.0123 - n_outputs0_loss: 0.0121 - n_outputs1_loss: 2.5858e-04\n",
            "Epoch 00023: val_loss did not improve from 0.00880\n",
            "42/42 [==============================] - 11s 251ms/step - loss: 0.0123 - n_outputs0_loss: 0.0121 - n_outputs1_loss: 2.5858e-04 - val_loss: 0.0090 - val_n_outputs0_loss: 0.0089 - val_n_outputs1_loss: 6.6227e-05\n",
            "Epoch 24/100\n",
            "42/42 [==============================] - ETA: 0s - loss: 0.0120 - n_outputs0_loss: 0.0118 - n_outputs1_loss: 2.4872e-04\n",
            "Epoch 00024: val_loss improved from 0.00880 to 0.00805, saving model to /content/mycar/models/mypilot.h5\n",
            "42/42 [==============================] - 11s 254ms/step - loss: 0.0120 - n_outputs0_loss: 0.0118 - n_outputs1_loss: 2.4872e-04 - val_loss: 0.0080 - val_n_outputs0_loss: 0.0080 - val_n_outputs1_loss: 6.5850e-05\n",
            "Epoch 25/100\n",
            "42/42 [==============================] - ETA: 0s - loss: 0.0120 - n_outputs0_loss: 0.0118 - n_outputs1_loss: 2.4034e-04\n",
            "Epoch 00025: val_loss did not improve from 0.00805\n",
            "42/42 [==============================] - 11s 252ms/step - loss: 0.0120 - n_outputs0_loss: 0.0118 - n_outputs1_loss: 2.4034e-04 - val_loss: 0.0086 - val_n_outputs0_loss: 0.0085 - val_n_outputs1_loss: 6.8610e-05\n",
            "Epoch 26/100\n",
            "42/42 [==============================] - ETA: 0s - loss: 0.0115 - n_outputs0_loss: 0.0113 - n_outputs1_loss: 2.3903e-04\n",
            "Epoch 00026: val_loss improved from 0.00805 to 0.00774, saving model to /content/mycar/models/mypilot.h5\n",
            "42/42 [==============================] - 11s 255ms/step - loss: 0.0115 - n_outputs0_loss: 0.0113 - n_outputs1_loss: 2.3903e-04 - val_loss: 0.0077 - val_n_outputs0_loss: 0.0077 - val_n_outputs1_loss: 6.9039e-05\n",
            "Epoch 27/100\n",
            "42/42 [==============================] - ETA: 0s - loss: 0.0111 - n_outputs0_loss: 0.0108 - n_outputs1_loss: 2.3165e-04\n",
            "Epoch 00027: val_loss did not improve from 0.00774\n",
            "42/42 [==============================] - 11s 252ms/step - loss: 0.0111 - n_outputs0_loss: 0.0108 - n_outputs1_loss: 2.3165e-04 - val_loss: 0.0080 - val_n_outputs0_loss: 0.0080 - val_n_outputs1_loss: 6.6690e-05\n",
            "Epoch 28/100\n",
            "42/42 [==============================] - ETA: 0s - loss: 0.0113 - n_outputs0_loss: 0.0111 - n_outputs1_loss: 2.1447e-04\n",
            "Epoch 00028: val_loss did not improve from 0.00774\n",
            "42/42 [==============================] - 11s 252ms/step - loss: 0.0113 - n_outputs0_loss: 0.0111 - n_outputs1_loss: 2.1447e-04 - val_loss: 0.0078 - val_n_outputs0_loss: 0.0077 - val_n_outputs1_loss: 6.9942e-05\n",
            "Epoch 29/100\n",
            "42/42 [==============================] - ETA: 0s - loss: 0.0105 - n_outputs0_loss: 0.0102 - n_outputs1_loss: 2.0677e-04\n",
            "Epoch 00029: val_loss did not improve from 0.00774\n",
            "42/42 [==============================] - 11s 253ms/step - loss: 0.0105 - n_outputs0_loss: 0.0102 - n_outputs1_loss: 2.0677e-04 - val_loss: 0.0078 - val_n_outputs0_loss: 0.0077 - val_n_outputs1_loss: 6.5526e-05\n"
          ],
          "name": "stdout"
        }
      ]
    },
    {
      "cell_type": "markdown",
      "metadata": {
        "id": "hfERkGy821Xy"
      },
      "source": [
        "# 6> 자율주행모드로 동키카 운행하기\n",
        "\n",
        "* PC/노트북에 다운로드한 인공지능 모델(*.h5)를 폴더에 저장합니다.\n",
        "\n",
        "* 저장이 완료된 모델을 탑재한 라즈베리파이 SD카드를 동키카에 적재하고 동키카에 전원을 넣어 부팅합니다.\n",
        "\n",
        "* 노트북/PC에서 SSH로 동키카에 접속한 후, 아래의 명령을 입력하여 자율주행 모드로의 실행을 설정합니다.\n",
        "\n",
        "```\n",
        "# 동키카에 탑재된 라즈베리파이에서 수행할 코드\n",
        "\n",
        "$cd mycar [enter]\n",
        "$python manage.py drive --model /mycar/models/mypilot.h5 [enter]\n",
        "```\n",
        "\n",
        "\n",
        "\n",
        "\n"
      ]
    },
    {
      "cell_type": "markdown",
      "metadata": {
        "id": "kxTAj6h2DTCe"
      },
      "source": [
        "## 7> PC에 설치된 Donkeycar 시뮬레이터에서 학습된 모델 작동시키기\n",
        "\n",
        "<참고>\n",
        "동키카 시뮬레이터 사용에 대해서는 아래의 링크를 참고하세요.\n",
        "* https://docs.donkeycar.com/guide/simulator/\n",
        "\n",
        "1. PC/Notebook에 설치된 simulator의 디렉토리로 이동합니다. 시뮬레이터 구동을 위한 동키카 프로젝트 폴더를 생성했다면, 해당디렉토리로 이동합니다(여기서는 ~/mysim으로 가정)\n",
        "2. 해당 디렉토리로 이동해서 simulator를 구동합니다.\n",
        "    * mysconfig.py파일에서 DONKEY_SIM_PATH가 시뮬레이터의 경로를 잘 설정하고 있는지 확인 부탁드립니다.\n",
        "3. 학습된 자율주행모델(*.h5)를 ~/mysim 디렉토리 아래의 models 디렉토리에 복사합니다.\n",
        "4. 아래의 명령어를 입력해서 자율주행을 실행합니다.\n",
        "    * ```$python manage.py drive --model models/mypilot.h5 ```    \n",
        "5. 유니티(Unity) 시뮬레이터창이 표시되고, 터미널에서 localhost:8887 접속에 대한 내용이 안내되면 웹브라우져를 실행하고 시뮬레이터에 접속합니다.\n",
        "6. 표시되는 웹 브라우져내의 drive창에서 아래의 Mode&Pilot의 Local Pilot으로 설정하면 자동주행을 합니다.\n",
        "\n",
        "![시뮬레이터 자율주행 설정](https://api.monosnap.com/file/download?id=PLU9FFdile460iwnUUCNvgdHKDLhHT)"
      ]
    }
  ]
}